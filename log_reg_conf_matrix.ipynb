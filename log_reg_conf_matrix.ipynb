{
  "cells": [
    {
      "cell_type": "code",
      "execution_count": null,
      "metadata": {
        "id": "byJZzqrlQrir"
      },
      "outputs": [],
      "source": [
        "# Skimpy is not part of base Python, needs to be installed\n",
        "!pip install skimpy"
      ]
    },
    {
      "cell_type": "code",
      "execution_count": null,
      "metadata": {
        "id": "dULQTR8Zy1Ez"
      },
      "outputs": [],
      "source": []
    },
    {
      "cell_type": "code",
      "execution_count": null,
      "metadata": {
        "id": "G8bltmBFJYz0"
      },
      "outputs": [],
      "source": [
        "#imports packages to be used in the code\n",
        "import numpy as np\n",
        "import pandas as pd\n",
        "import matplotlib.pyplot as plt\n",
        "import statsmodels.api as sm\n",
        "from statsmodels.formula.api import ols\n",
        "from statsmodels.formula.api import logit\n",
        "from scipy.stats import norm\n",
        "from sklearn.model_selection import train_test_split\n",
        "from sklearn.metrics import ConfusionMatrixDisplay\n",
        "from sklearn.metrics import confusion_matrix\n",
        "from sklearn.metrics import accuracy_score\n",
        "from skimpy import skim"
      ]
    },

    {
      "cell_type": "code",
      "execution_count": null,
      "metadata": {
        "colab": {
          "base_uri": "https://localhost:8080/"
        },
        "id": "RJQRZjUOJN9j",
        "outputId": "1adc01cd-b132-4ec1-d36a-a8c175a75d13"
      },
      "outputs": [
        {
          "output_type": "stream",
          "name": "stdout",
          
        }
      ],
    
    },
    {
      "cell_type": "markdown",
      "metadata": {
        "id": "ECRJiTWPBAKi"
      },
      "source": [
        "Lets read in the data into a Pandas dataframe just like we did for Linear Regression."
      ]
    },
    {
      "cell_type": "code",
      "execution_count": null,
      "metadata": {
        "id": "n38gY_0gJivd",
        "colab": {
          "base_uri": "https://localhost:8080/"
        },
        "outputId": "16e72677-99b7-4204-89b5-c6b866cc5fe2"
      },
      "outputs": [
        {
          "output_type": "stream",
          "name": "stdout",
          "text": [
            "      default  installment  log_income  fico_score  rev_balance  inquiries  \\\n",
            "0           0          829        4.93         737        28.85          0   \n",
            "1           0          228        4.81         707        33.62          0   \n",
            "2           0          367        4.51         682         3.51          1   \n",
            "3           0          162        4.93         712        33.67          1   \n",
            "4           0          103        4.91         667         4.74          0   \n",
            "...       ...          ...         ...         ...          ...        ...   \n",
            "9511        1          345        5.29         672       215.37          2   \n",
            "9512        1          258        4.84         722         0.18          5   \n",
            "9513        1           98        4.60         687        10.04          8   \n",
            "9514        1          352        4.70         692         0.00          5   \n",
            "9515        1          853        4.89         732        37.88          6   \n",
            "\n",
            "      records  \n",
            "0           0  \n",
            "1           0  \n",
            "2           0  \n",
            "3           0  \n",
            "4           0  \n",
            "...       ...  \n",
            "9511        0  \n",
            "9512        0  \n",
            "9513        0  \n",
            "9514        0  \n",
            "9515        0  \n",
            "\n",
            "[9516 rows x 7 columns]\n"
          ]
        }
      ],
      "source": [
        "# uses pandas package to read file to a dataframe\n",
        "import pandas as pd\n",
        "#file_path=r'/content/loans.csv'\n",
        "#df = pd.read_csv('/content/loans.csv', encoding='utf-8', on_bad_lines='skip')\n",
        "#df = pd.read_csv('/content/drive/My Drive/ColabNotebooks/loans.csv', encoding='UTF-8', on_bad_lines='skip')\n",
        "#df = pd.read_csv(\"loans.csv\",encoding='UTF-8', on_bad_lines='skip')\n",
        "#df = pd.read_csv('/content/bubba/MyDrive/loans_new.csv',encoding='UTF-8', on_bad_lines='skip')\n",
        "#df = pd.read_csv(\"loans.csv\",)\n",
        "#df = pd.read_csv(\"loans.csv\", errors='ignore')\n",
        "\n",
        "# Provide the path to your CSV file\n",
        "#csv_path = '/content/drive/My Drive/loans.xlsx'\n",
        "\n",
        "df = pd.read_csv(\"loans.csv\")\n",
        "\n",
        "print(df)"
      ]
    },
   
    {
      "cell_type": "markdown",
      "metadata": {
        "id": "OPsw3QKNmY3z"
      },
      "source": [
        "# New Section"
      ]
    },
    {
      "cell_type": "code",
      "execution_count": null,
      "metadata": {
        "colab": {
          "base_uri": "https://localhost:8080/",
          "height": 238
        },
        "id": "dA0BhU6gJ5cj",
        "outputId": "ac47226f-721b-47be-aedf-b73a54bbc0fe"
      },
      "outputs": [
        {
          "output_type": "execute_result",
          "data": {
            "text/plain": [
              "   default  installment  log_income  fico_score  rev_balance  inquiries  \\\n",
              "0        0          829        4.93         737        28.85          0   \n",
              "1        0          228        4.81         707        33.62          0   \n",
              "2        0          367        4.51         682         3.51          1   \n",
              "3        0          162        4.93         712        33.67          1   \n",
              "4        0          103        4.91         667         4.74          0   \n",
              "5        0          125        5.17         727        50.81          0   \n",
              "\n",
              "   records  \n",
              "0        0  \n",
              "1        0  \n",
              "2        0  \n",
              "3        0  \n",
              "4        0  \n",
              "5        0  "
            ],
            "text/html": [
              "\n",
              "  <div id=\"df-3bc517b0-2b54-4937-b078-e8846047379f\" class=\"colab-df-container\">\n",
              "    <div>\n",
              "<style scoped>\n",
              "    .dataframe tbody tr th:only-of-type {\n",
              "        vertical-align: middle;\n",
              "    }\n",
              "\n",
              "    .dataframe tbody tr th {\n",
              "        vertical-align: top;\n",
              "    }\n",
              "\n",
              "    .dataframe thead th {\n",
              "        text-align: right;\n",
              "    }\n",
              "</style>\n",
              "<table border=\"1\" class=\"dataframe\">\n",
              "  <thead>\n",
              "    <tr style=\"text-align: right;\">\n",
              "      <th></th>\n",
              "      <th>default</th>\n",
              "      <th>installment</th>\n",
              "      <th>log_income</th>\n",
              "      <th>fico_score</th>\n",
              "      <th>rev_balance</th>\n",
              "      <th>inquiries</th>\n",
              "      <th>records</th>\n",
              "    </tr>\n",
              "  </thead>\n",
              "  <tbody>\n",
              "    <tr>\n",
              "      <th>0</th>\n",
              "      <td>0</td>\n",
              "      <td>829</td>\n",
              "      <td>4.93</td>\n",
              "      <td>737</td>\n",
              "      <td>28.85</td>\n",
              "      <td>0</td>\n",
              "      <td>0</td>\n",
              "    </tr>\n",
              "    <tr>\n",
              "      <th>1</th>\n",
              "      <td>0</td>\n",
              "      <td>228</td>\n",
              "      <td>4.81</td>\n",
              "      <td>707</td>\n",
              "      <td>33.62</td>\n",
              "      <td>0</td>\n",
              "      <td>0</td>\n",
              "    </tr>\n",
              "    <tr>\n",
              "      <th>2</th>\n",
              "      <td>0</td>\n",
              "      <td>367</td>\n",
              "      <td>4.51</td>\n",
              "      <td>682</td>\n",
              "      <td>3.51</td>\n",
              "      <td>1</td>\n",
              "      <td>0</td>\n",
              "    </tr>\n",
              "    <tr>\n",
              "      <th>3</th>\n",
              "      <td>0</td>\n",
              "      <td>162</td>\n",
              "      <td>4.93</td>\n",
              "      <td>712</td>\n",
              "      <td>33.67</td>\n",
              "      <td>1</td>\n",
              "      <td>0</td>\n",
              "    </tr>\n",
              "    <tr>\n",
              "      <th>4</th>\n",
              "      <td>0</td>\n",
              "      <td>103</td>\n",
              "      <td>4.91</td>\n",
              "      <td>667</td>\n",
              "      <td>4.74</td>\n",
              "      <td>0</td>\n",
              "      <td>0</td>\n",
              "    </tr>\n",
              "    <tr>\n",
              "      <th>5</th>\n",
              "      <td>0</td>\n",
              "      <td>125</td>\n",
              "      <td>5.17</td>\n",
              "      <td>727</td>\n",
              "      <td>50.81</td>\n",
              "      <td>0</td>\n",
              "      <td>0</td>\n",
              "    </tr>\n",
              "  </tbody>\n",
              "</table>\n",
              "</div>\n",
              "    <div class=\"colab-df-buttons\">\n",
              "\n",
              "  <div class=\"colab-df-container\">\n",
              "    <button class=\"colab-df-convert\" onclick=\"convertToInteractive('df-3bc517b0-2b54-4937-b078-e8846047379f')\"\n",
              "            title=\"Convert this dataframe to an interactive table.\"\n",
              "            style=\"display:none;\">\n",
              "\n",
              "  <svg xmlns=\"http://www.w3.org/2000/svg\" height=\"24px\" viewBox=\"0 -960 960 960\">\n",
              "    <path d=\"M120-120v-720h720v720H120Zm60-500h600v-160H180v160Zm220 220h160v-160H400v160Zm0 220h160v-160H400v160ZM180-400h160v-160H180v160Zm440 0h160v-160H620v160ZM180-180h160v-160H180v160Zm440 0h160v-160H620v160Z\"/>\n",
              "  </svg>\n",
              "    </button>\n",
              "\n",
              "  <style>\n",
              "    .colab-df-container {\n",
              "      display:flex;\n",
              "      gap: 12px;\n",
              "    }\n",
              "\n",
              "    .colab-df-convert {\n",
              "      background-color: #E8F0FE;\n",
              "      border: none;\n",
              "      border-radius: 50%;\n",
              "      cursor: pointer;\n",
              "      display: none;\n",
              "      fill: #1967D2;\n",
              "      height: 32px;\n",
              "      padding: 0 0 0 0;\n",
              "      width: 32px;\n",
              "    }\n",
              "\n",
              "    .colab-df-convert:hover {\n",
              "      background-color: #E2EBFA;\n",
              "      box-shadow: 0px 1px 2px rgba(60, 64, 67, 0.3), 0px 1px 3px 1px rgba(60, 64, 67, 0.15);\n",
              "      fill: #174EA6;\n",
              "    }\n",
              "\n",
              "    .colab-df-buttons div {\n",
              "      margin-bottom: 4px;\n",
              "    }\n",
              "\n",
              "    [theme=dark] .colab-df-convert {\n",
              "      background-color: #3B4455;\n",
              "      fill: #D2E3FC;\n",
              "    }\n",
              "\n",
              "    [theme=dark] .colab-df-convert:hover {\n",
              "      background-color: #434B5C;\n",
              "      box-shadow: 0px 1px 3px 1px rgba(0, 0, 0, 0.15);\n",
              "      filter: drop-shadow(0px 1px 2px rgba(0, 0, 0, 0.3));\n",
              "      fill: #FFFFFF;\n",
              "    }\n",
              "  </style>\n",
              "\n",
              "    <script>\n",
              "      const buttonEl =\n",
              "        document.querySelector('#df-3bc517b0-2b54-4937-b078-e8846047379f button.colab-df-convert');\n",
              "      buttonEl.style.display =\n",
              "        google.colab.kernel.accessAllowed ? 'block' : 'none';\n",
              "\n",
              "      async function convertToInteractive(key) {\n",
              "        const element = document.querySelector('#df-3bc517b0-2b54-4937-b078-e8846047379f');\n",
              "        const dataTable =\n",
              "          await google.colab.kernel.invokeFunction('convertToInteractive',\n",
              "                                                    [key], {});\n",
              "        if (!dataTable) return;\n",
              "\n",
              "        const docLinkHtml = 'Like what you see? Visit the ' +\n",
              "          '<a target=\"_blank\" href=https://colab.research.google.com/notebooks/data_table.ipynb>data table notebook</a>'\n",
              "          + ' to learn more about interactive tables.';\n",
              "        element.innerHTML = '';\n",
              "        dataTable['output_type'] = 'display_data';\n",
              "        await google.colab.output.renderOutput(dataTable, element);\n",
              "        const docLink = document.createElement('div');\n",
              "        docLink.innerHTML = docLinkHtml;\n",
              "        element.appendChild(docLink);\n",
              "      }\n",
              "    </script>\n",
              "  </div>\n",
              "\n",
              "\n",
              "<div id=\"df-36aab288-e30b-4fe0-bdde-7b8968cf407e\">\n",
              "  <button class=\"colab-df-quickchart\" onclick=\"quickchart('df-36aab288-e30b-4fe0-bdde-7b8968cf407e')\"\n",
              "            title=\"Suggest charts\"\n",
              "            style=\"display:none;\">\n",
              "\n",
              "<svg xmlns=\"http://www.w3.org/2000/svg\" height=\"24px\"viewBox=\"0 0 24 24\"\n",
              "     width=\"24px\">\n",
              "    <g>\n",
              "        <path d=\"M19 3H5c-1.1 0-2 .9-2 2v14c0 1.1.9 2 2 2h14c1.1 0 2-.9 2-2V5c0-1.1-.9-2-2-2zM9 17H7v-7h2v7zm4 0h-2V7h2v10zm4 0h-2v-4h2v4z\"/>\n",
              "    </g>\n",
              "</svg>\n",
              "  </button>\n",
              "\n",
              "<style>\n",
              "  .colab-df-quickchart {\n",
              "      --bg-color: #E8F0FE;\n",
              "      --fill-color: #1967D2;\n",
              "      --hover-bg-color: #E2EBFA;\n",
              "      --hover-fill-color: #174EA6;\n",
              "      --disabled-fill-color: #AAA;\n",
              "      --disabled-bg-color: #DDD;\n",
              "  }\n",
              "\n",
              "  [theme=dark] .colab-df-quickchart {\n",
              "      --bg-color: #3B4455;\n",
              "      --fill-color: #D2E3FC;\n",
              "      --hover-bg-color: #434B5C;\n",
              "      --hover-fill-color: #FFFFFF;\n",
              "      --disabled-bg-color: #3B4455;\n",
              "      --disabled-fill-color: #666;\n",
              "  }\n",
              "\n",
              "  .colab-df-quickchart {\n",
              "    background-color: var(--bg-color);\n",
              "    border: none;\n",
              "    border-radius: 50%;\n",
              "    cursor: pointer;\n",
              "    display: none;\n",
              "    fill: var(--fill-color);\n",
              "    height: 32px;\n",
              "    padding: 0;\n",
              "    width: 32px;\n",
              "  }\n",
              "\n",
              "  .colab-df-quickchart:hover {\n",
              "    background-color: var(--hover-bg-color);\n",
              "    box-shadow: 0 1px 2px rgba(60, 64, 67, 0.3), 0 1px 3px 1px rgba(60, 64, 67, 0.15);\n",
              "    fill: var(--button-hover-fill-color);\n",
              "  }\n",
              "\n",
              "  .colab-df-quickchart-complete:disabled,\n",
              "  .colab-df-quickchart-complete:disabled:hover {\n",
              "    background-color: var(--disabled-bg-color);\n",
              "    fill: var(--disabled-fill-color);\n",
              "    box-shadow: none;\n",
              "  }\n",
              "\n",
              "  .colab-df-spinner {\n",
              "    border: 2px solid var(--fill-color);\n",
              "    border-color: transparent;\n",
              "    border-bottom-color: var(--fill-color);\n",
              "    animation:\n",
              "      spin 1s steps(1) infinite;\n",
              "  }\n",
              "\n",
              "  @keyframes spin {\n",
              "    0% {\n",
              "      border-color: transparent;\n",
              "      border-bottom-color: var(--fill-color);\n",
              "      border-left-color: var(--fill-color);\n",
              "    }\n",
              "    20% {\n",
              "      border-color: transparent;\n",
              "      border-left-color: var(--fill-color);\n",
              "      border-top-color: var(--fill-color);\n",
              "    }\n",
              "    30% {\n",
              "      border-color: transparent;\n",
              "      border-left-color: var(--fill-color);\n",
              "      border-top-color: var(--fill-color);\n",
              "      border-right-color: var(--fill-color);\n",
              "    }\n",
              "    40% {\n",
              "      border-color: transparent;\n",
              "      border-right-color: var(--fill-color);\n",
              "      border-top-color: var(--fill-color);\n",
              "    }\n",
              "    60% {\n",
              "      border-color: transparent;\n",
              "      border-right-color: var(--fill-color);\n",
              "    }\n",
              "    80% {\n",
              "      border-color: transparent;\n",
              "      border-right-color: var(--fill-color);\n",
              "      border-bottom-color: var(--fill-color);\n",
              "    }\n",
              "    90% {\n",
              "      border-color: transparent;\n",
              "      border-bottom-color: var(--fill-color);\n",
              "    }\n",
              "  }\n",
              "</style>\n",
              "\n",
              "  <script>\n",
              "    async function quickchart(key) {\n",
              "      const quickchartButtonEl =\n",
              "        document.querySelector('#' + key + ' button');\n",
              "      quickchartButtonEl.disabled = true;  // To prevent multiple clicks.\n",
              "      quickchartButtonEl.classList.add('colab-df-spinner');\n",
              "      try {\n",
              "        const charts = await google.colab.kernel.invokeFunction(\n",
              "            'suggestCharts', [key], {});\n",
              "      } catch (error) {\n",
              "        console.error('Error during call to suggestCharts:', error);\n",
              "      }\n",
              "      quickchartButtonEl.classList.remove('colab-df-spinner');\n",
              "      quickchartButtonEl.classList.add('colab-df-quickchart-complete');\n",
              "    }\n",
              "    (() => {\n",
              "      let quickchartButtonEl =\n",
              "        document.querySelector('#df-36aab288-e30b-4fe0-bdde-7b8968cf407e button');\n",
              "      quickchartButtonEl.style.display =\n",
              "        google.colab.kernel.accessAllowed ? 'block' : 'none';\n",
              "    })();\n",
              "  </script>\n",
              "</div>\n",
              "\n",
              "    </div>\n",
              "  </div>\n"
            ]
          },
          "metadata": {},
          "execution_count": 5
        }
      ],
      "source": [
        "# shows first 6 rows of dataframe\n",
        "df.head(6)"
      ]
    },
    {
      "cell_type": "code",
      "execution_count": null,
      "metadata": {
        "colab": {
          "base_uri": "https://localhost:8080/"
        },
        "id": "mHcek6PE0v-s",
        "outputId": "74d9d004-5888-49a0-de69-bbd97e2df946"
      },
      "outputs": [
        {
          "output_type": "stream",
          "name": "stdout",
          "text": [
            "Drive already mounted at /content/drive; to attempt to forcibly remount, call drive.mount(\"/content/drive\", force_remount=True).\n"
          ]
        }
      ],
      "source": [
        "from google.colab import drive\n",
        "drive.mount('/content/drive')"
      ]
    },
    {
      "cell_type": "markdown",
      "metadata": {
        "id": "kFs4HfoRJ9oQ"
      },
      "source": [
        "# shows last 6 rows of dataframe\n",
        "df.tail(6)"
      ]
    },
    {
      "cell_type": "code",
      "execution_count": null,
      "metadata": {
        "colab": {
          "base_uri": "https://localhost:8080/",
          "height": 238
        },
        "id": "PPnFy71tyuPI",
        "outputId": "97ef1b3b-c598-467e-febc-4be54daa7e40"
      },
      "outputs": [
        {
          "output_type": "execute_result",
          "data": {
            "text/plain": [
              "      default  installment  log_income  fico_score  rev_balance  inquiries  \\\n",
              "9510        1           70        4.39         662         3.00          6   \n",
              "9511        1          345        5.29         672       215.37          2   \n",
              "9512        1          258        4.84         722         0.18          5   \n",
              "9513        1           98        4.60         687        10.04          8   \n",
              "9514        1          352        4.70         692         0.00          5   \n",
              "9515        1          853        4.89         732        37.88          6   \n",
              "\n",
              "      records  \n",
              "9510        0  \n",
              "9511        0  \n",
              "9512        0  \n",
              "9513        0  \n",
              "9514        0  \n",
              "9515        0  "
            ],
            "text/html": [
              "\n",
              "  <div id=\"df-6e9ad5a5-7f12-4ab0-aea1-09c71c8b2c4b\" class=\"colab-df-container\">\n",
              "    <div>\n",
              "<style scoped>\n",
              "    .dataframe tbody tr th:only-of-type {\n",
              "        vertical-align: middle;\n",
              "    }\n",
              "\n",
              "    .dataframe tbody tr th {\n",
              "        vertical-align: top;\n",
              "    }\n",
              "\n",
              "    .dataframe thead th {\n",
              "        text-align: right;\n",
              "    }\n",
              "</style>\n",
              "<table border=\"1\" class=\"dataframe\">\n",
              "  <thead>\n",
              "    <tr style=\"text-align: right;\">\n",
              "      <th></th>\n",
              "      <th>default</th>\n",
              "      <th>installment</th>\n",
              "      <th>log_income</th>\n",
              "      <th>fico_score</th>\n",
              "      <th>rev_balance</th>\n",
              "      <th>inquiries</th>\n",
              "      <th>records</th>\n",
              "    </tr>\n",
              "  </thead>\n",
              "  <tbody>\n",
              "    <tr>\n",
              "      <th>9510</th>\n",
              "      <td>1</td>\n",
              "      <td>70</td>\n",
              "      <td>4.39</td>\n",
              "      <td>662</td>\n",
              "      <td>3.00</td>\n",
              "      <td>6</td>\n",
              "      <td>0</td>\n",
              "    </tr>\n",
              "    <tr>\n",
              "      <th>9511</th>\n",
              "      <td>1</td>\n",
              "      <td>345</td>\n",
              "      <td>5.29</td>\n",
              "      <td>672</td>\n",
              "      <td>215.37</td>\n",
              "      <td>2</td>\n",
              "      <td>0</td>\n",
              "    </tr>\n",
              "    <tr>\n",
              "      <th>9512</th>\n",
              "      <td>1</td>\n",
              "      <td>258</td>\n",
              "      <td>4.84</td>\n",
              "      <td>722</td>\n",
              "      <td>0.18</td>\n",
              "      <td>5</td>\n",
              "      <td>0</td>\n",
              "    </tr>\n",
              "    <tr>\n",
              "      <th>9513</th>\n",
              "      <td>1</td>\n",
              "      <td>98</td>\n",
              "      <td>4.60</td>\n",
              "      <td>687</td>\n",
              "      <td>10.04</td>\n",
              "      <td>8</td>\n",
              "      <td>0</td>\n",
              "    </tr>\n",
              "    <tr>\n",
              "      <th>9514</th>\n",
              "      <td>1</td>\n",
              "      <td>352</td>\n",
              "      <td>4.70</td>\n",
              "      <td>692</td>\n",
              "      <td>0.00</td>\n",
              "      <td>5</td>\n",
              "      <td>0</td>\n",
              "    </tr>\n",
              "    <tr>\n",
              "      <th>9515</th>\n",
              "      <td>1</td>\n",
              "      <td>853</td>\n",
              "      <td>4.89</td>\n",
              "      <td>732</td>\n",
              "      <td>37.88</td>\n",
              "      <td>6</td>\n",
              "      <td>0</td>\n",
              "    </tr>\n",
              "  </tbody>\n",
              "</table>\n",
              "</div>\n",
              "    <div class=\"colab-df-buttons\">\n",
              "\n",
              "  <div class=\"colab-df-container\">\n",
              "    <button class=\"colab-df-convert\" onclick=\"convertToInteractive('df-6e9ad5a5-7f12-4ab0-aea1-09c71c8b2c4b')\"\n",
              "            title=\"Convert this dataframe to an interactive table.\"\n",
              "            style=\"display:none;\">\n",
              "\n",
              "  <svg xmlns=\"http://www.w3.org/2000/svg\" height=\"24px\" viewBox=\"0 -960 960 960\">\n",
              "    <path d=\"M120-120v-720h720v720H120Zm60-500h600v-160H180v160Zm220 220h160v-160H400v160Zm0 220h160v-160H400v160ZM180-400h160v-160H180v160Zm440 0h160v-160H620v160ZM180-180h160v-160H180v160Zm440 0h160v-160H620v160Z\"/>\n",
              "  </svg>\n",
              "    </button>\n",
              "\n",
              "  <style>\n",
              "    .colab-df-container {\n",
              "      display:flex;\n",
              "      gap: 12px;\n",
              "    }\n",
              "\n",
              "    .colab-df-convert {\n",
              "      background-color: #E8F0FE;\n",
              "      border: none;\n",
              "      border-radius: 50%;\n",
              "      cursor: pointer;\n",
              "      display: none;\n",
              "      fill: #1967D2;\n",
              "      height: 32px;\n",
              "      padding: 0 0 0 0;\n",
              "      width: 32px;\n",
              "    }\n",
              "\n",
              "    .colab-df-convert:hover {\n",
              "      background-color: #E2EBFA;\n",
              "      box-shadow: 0px 1px 2px rgba(60, 64, 67, 0.3), 0px 1px 3px 1px rgba(60, 64, 67, 0.15);\n",
              "      fill: #174EA6;\n",
              "    }\n",
              "\n",
              "    .colab-df-buttons div {\n",
              "      margin-bottom: 4px;\n",
              "    }\n",
              "\n",
              "    [theme=dark] .colab-df-convert {\n",
              "      background-color: #3B4455;\n",
              "      fill: #D2E3FC;\n",
              "    }\n",
              "\n",
              "    [theme=dark] .colab-df-convert:hover {\n",
              "      background-color: #434B5C;\n",
              "      box-shadow: 0px 1px 3px 1px rgba(0, 0, 0, 0.15);\n",
              "      filter: drop-shadow(0px 1px 2px rgba(0, 0, 0, 0.3));\n",
              "      fill: #FFFFFF;\n",
              "    }\n",
              "  </style>\n",
              "\n",
              "    <script>\n",
              "      const buttonEl =\n",
              "        document.querySelector('#df-6e9ad5a5-7f12-4ab0-aea1-09c71c8b2c4b button.colab-df-convert');\n",
              "      buttonEl.style.display =\n",
              "        google.colab.kernel.accessAllowed ? 'block' : 'none';\n",
              "\n",
              "      async function convertToInteractive(key) {\n",
              "        const element = document.querySelector('#df-6e9ad5a5-7f12-4ab0-aea1-09c71c8b2c4b');\n",
              "        const dataTable =\n",
              "          await google.colab.kernel.invokeFunction('convertToInteractive',\n",
              "                                                    [key], {});\n",
              "        if (!dataTable) return;\n",
              "\n",
              "        const docLinkHtml = 'Like what you see? Visit the ' +\n",
              "          '<a target=\"_blank\" href=https://colab.research.google.com/notebooks/data_table.ipynb>data table notebook</a>'\n",
              "          + ' to learn more about interactive tables.';\n",
              "        element.innerHTML = '';\n",
              "        dataTable['output_type'] = 'display_data';\n",
              "        await google.colab.output.renderOutput(dataTable, element);\n",
              "        const docLink = document.createElement('div');\n",
              "        docLink.innerHTML = docLinkHtml;\n",
              "        element.appendChild(docLink);\n",
              "      }\n",
              "    </script>\n",
              "  </div>\n",
              "\n",
              "\n",
              "<div id=\"df-42950008-3f34-4d67-ba56-59470d9a58c2\">\n",
              "  <button class=\"colab-df-quickchart\" onclick=\"quickchart('df-42950008-3f34-4d67-ba56-59470d9a58c2')\"\n",
              "            title=\"Suggest charts\"\n",
              "            style=\"display:none;\">\n",
              "\n",
              "<svg xmlns=\"http://www.w3.org/2000/svg\" height=\"24px\"viewBox=\"0 0 24 24\"\n",
              "     width=\"24px\">\n",
              "    <g>\n",
              "        <path d=\"M19 3H5c-1.1 0-2 .9-2 2v14c0 1.1.9 2 2 2h14c1.1 0 2-.9 2-2V5c0-1.1-.9-2-2-2zM9 17H7v-7h2v7zm4 0h-2V7h2v10zm4 0h-2v-4h2v4z\"/>\n",
              "    </g>\n",
              "</svg>\n",
              "  </button>\n",
              "\n",
              "<style>\n",
              "  .colab-df-quickchart {\n",
              "      --bg-color: #E8F0FE;\n",
              "      --fill-color: #1967D2;\n",
              "      --hover-bg-color: #E2EBFA;\n",
              "      --hover-fill-color: #174EA6;\n",
              "      --disabled-fill-color: #AAA;\n",
              "      --disabled-bg-color: #DDD;\n",
              "  }\n",
              "\n",
              "  [theme=dark] .colab-df-quickchart {\n",
              "      --bg-color: #3B4455;\n",
              "      --fill-color: #D2E3FC;\n",
              "      --hover-bg-color: #434B5C;\n",
              "      --hover-fill-color: #FFFFFF;\n",
              "      --disabled-bg-color: #3B4455;\n",
              "      --disabled-fill-color: #666;\n",
              "  }\n",
              "\n",
              "  .colab-df-quickchart {\n",
              "    background-color: var(--bg-color);\n",
              "    border: none;\n",
              "    border-radius: 50%;\n",
              "    cursor: pointer;\n",
              "    display: none;\n",
              "    fill: var(--fill-color);\n",
              "    height: 32px;\n",
              "    padding: 0;\n",
              "    width: 32px;\n",
              "  }\n",
              "\n",
              "  .colab-df-quickchart:hover {\n",
              "    background-color: var(--hover-bg-color);\n",
              "    box-shadow: 0 1px 2px rgba(60, 64, 67, 0.3), 0 1px 3px 1px rgba(60, 64, 67, 0.15);\n",
              "    fill: var(--button-hover-fill-color);\n",
              "  }\n",
              "\n",
              "  .colab-df-quickchart-complete:disabled,\n",
              "  .colab-df-quickchart-complete:disabled:hover {\n",
              "    background-color: var(--disabled-bg-color);\n",
              "    fill: var(--disabled-fill-color);\n",
              "    box-shadow: none;\n",
              "  }\n",
              "\n",
              "  .colab-df-spinner {\n",
              "    border: 2px solid var(--fill-color);\n",
              "    border-color: transparent;\n",
              "    border-bottom-color: var(--fill-color);\n",
              "    animation:\n",
              "      spin 1s steps(1) infinite;\n",
              "  }\n",
              "\n",
              "  @keyframes spin {\n",
              "    0% {\n",
              "      border-color: transparent;\n",
              "      border-bottom-color: var(--fill-color);\n",
              "      border-left-color: var(--fill-color);\n",
              "    }\n",
              "    20% {\n",
              "      border-color: transparent;\n",
              "      border-left-color: var(--fill-color);\n",
              "      border-top-color: var(--fill-color);\n",
              "    }\n",
              "    30% {\n",
              "      border-color: transparent;\n",
              "      border-left-color: var(--fill-color);\n",
              "      border-top-color: var(--fill-color);\n",
              "      border-right-color: var(--fill-color);\n",
              "    }\n",
              "    40% {\n",
              "      border-color: transparent;\n",
              "      border-right-color: var(--fill-color);\n",
              "      border-top-color: var(--fill-color);\n",
              "    }\n",
              "    60% {\n",
              "      border-color: transparent;\n",
              "      border-right-color: var(--fill-color);\n",
              "    }\n",
              "    80% {\n",
              "      border-color: transparent;\n",
              "      border-right-color: var(--fill-color);\n",
              "      border-bottom-color: var(--fill-color);\n",
              "    }\n",
              "    90% {\n",
              "      border-color: transparent;\n",
              "      border-bottom-color: var(--fill-color);\n",
              "    }\n",
              "  }\n",
              "</style>\n",
              "\n",
              "  <script>\n",
              "    async function quickchart(key) {\n",
              "      const quickchartButtonEl =\n",
              "        document.querySelector('#' + key + ' button');\n",
              "      quickchartButtonEl.disabled = true;  // To prevent multiple clicks.\n",
              "      quickchartButtonEl.classList.add('colab-df-spinner');\n",
              "      try {\n",
              "        const charts = await google.colab.kernel.invokeFunction(\n",
              "            'suggestCharts', [key], {});\n",
              "      } catch (error) {\n",
              "        console.error('Error during call to suggestCharts:', error);\n",
              "      }\n",
              "      quickchartButtonEl.classList.remove('colab-df-spinner');\n",
              "      quickchartButtonEl.classList.add('colab-df-quickchart-complete');\n",
              "    }\n",
              "    (() => {\n",
              "      let quickchartButtonEl =\n",
              "        document.querySelector('#df-42950008-3f34-4d67-ba56-59470d9a58c2 button');\n",
              "      quickchartButtonEl.style.display =\n",
              "        google.colab.kernel.accessAllowed ? 'block' : 'none';\n",
              "    })();\n",
              "  </script>\n",
              "</div>\n",
              "\n",
              "    </div>\n",
              "  </div>\n"
            ]
          },
          "metadata": {},
          "execution_count": 4
        }
      ],
      "source": [
        "df.tail(6)"
      ]
    },
    {
      "cell_type": "markdown",
      "metadata": {
        "id": "qcSZiU8jBgvH"
      },
      "source": [
        "Let's get a sense of the dataset using 'skim' just like we did for Linear Regression"
      ]
    },
    {
      "cell_type": "code",
      "execution_count": null,
      "metadata": {
        "colab": {
          "base_uri": "https://localhost:8080/",
          "height": 394
        },
        "id": "pk_-TwRKRNii",
        "outputId": "7291db04-2d07-448c-e780-af31e3aab489"
      },
      "outputs": [
        {
          "output_type": "display_data",
          "data": {
            "text/plain": [
              "╭──────────────────────────────────────────────── skimpy summary ─────────────────────────────────────────────────╮\n",
              "│ \u001b[3m         Data Summary         \u001b[0m \u001b[3m      Data Types       \u001b[0m                                                          │\n",
              "│ ┏━━━━━━━━━━━━━━━━━━━┳━━━━━━━━┓ ┏━━━━━━━━━━━━━┳━━━━━━━┓                                                          │\n",
              "│ ┃\u001b[1;36m \u001b[0m\u001b[1;36mdataframe        \u001b[0m\u001b[1;36m \u001b[0m┃\u001b[1;36m \u001b[0m\u001b[1;36mValues\u001b[0m\u001b[1;36m \u001b[0m┃ ┃\u001b[1;36m \u001b[0m\u001b[1;36mColumn Type\u001b[0m\u001b[1;36m \u001b[0m┃\u001b[1;36m \u001b[0m\u001b[1;36mCount\u001b[0m\u001b[1;36m \u001b[0m┃                                                          │\n",
              "│ ┡━━━━━━━━━━━━━━━━━━━╇━━━━━━━━┩ ┡━━━━━━━━━━━━━╇━━━━━━━┩                                                          │\n",
              "│ │ Number of rows    │ 9516   │ │ int64       │ 5     │                                                          │\n",
              "│ │ Number of columns │ 7      │ │ float64     │ 2     │                                                          │\n",
              "│ └───────────────────┴────────┘ └─────────────┴───────┘                                                          │\n",
              "│ \u001b[3m                                                    number                                                    \u001b[0m  │\n",
              "│ ┏━━━━━━━━━━━━━━━━━━━┳━━━━━━┳━━━━━━━━━┳━━━━━━━━━━┳━━━━━━━━━┳━━━━━━━┳━━━━━━━┳━━━━━━━┳━━━━━━━┳━━━━━━━━┳━━━━━━━━━┓  │\n",
              "│ ┃\u001b[1m \u001b[0m\u001b[1mcolumn_name      \u001b[0m\u001b[1m \u001b[0m┃\u001b[1m \u001b[0m\u001b[1mNA  \u001b[0m\u001b[1m \u001b[0m┃\u001b[1m \u001b[0m\u001b[1mNA %   \u001b[0m\u001b[1m \u001b[0m┃\u001b[1m \u001b[0m\u001b[1mmean    \u001b[0m\u001b[1m \u001b[0m┃\u001b[1m \u001b[0m\u001b[1msd     \u001b[0m\u001b[1m \u001b[0m┃\u001b[1m \u001b[0m\u001b[1mp0   \u001b[0m\u001b[1m \u001b[0m┃\u001b[1m \u001b[0m\u001b[1mp25  \u001b[0m\u001b[1m \u001b[0m┃\u001b[1m \u001b[0m\u001b[1mp50  \u001b[0m\u001b[1m \u001b[0m┃\u001b[1m \u001b[0m\u001b[1mp75  \u001b[0m\u001b[1m \u001b[0m┃\u001b[1m \u001b[0m\u001b[1mp100  \u001b[0m\u001b[1m \u001b[0m┃\u001b[1m \u001b[0m\u001b[1mhist   \u001b[0m\u001b[1m \u001b[0m┃  │\n",
              "│ ┡━━━━━━━━━━━━━━━━━━━╇━━━━━━╇━━━━━━━━━╇━━━━━━━━━━╇━━━━━━━━━╇━━━━━━━╇━━━━━━━╇━━━━━━━╇━━━━━━━╇━━━━━━━━╇━━━━━━━━━┩  │\n",
              "│ │ \u001b[38;5;141mdefault          \u001b[0m │ \u001b[36m   0\u001b[0m │ \u001b[36m      0\u001b[0m │ \u001b[36m    0.16\u001b[0m │ \u001b[36m   0.37\u001b[0m │ \u001b[36m    0\u001b[0m │ \u001b[36m    0\u001b[0m │ \u001b[36m    0\u001b[0m │ \u001b[36m    0\u001b[0m │ \u001b[36m     1\u001b[0m │ \u001b[32m▇    ▂ \u001b[0m │  │\n",
              "│ │ \u001b[38;5;141minstallment      \u001b[0m │ \u001b[36m   0\u001b[0m │ \u001b[36m      0\u001b[0m │ \u001b[36m     320\u001b[0m │ \u001b[36m    210\u001b[0m │ \u001b[36m   16\u001b[0m │ \u001b[36m  160\u001b[0m │ \u001b[36m  270\u001b[0m │ \u001b[36m  440\u001b[0m │ \u001b[36m   940\u001b[0m │ \u001b[32m▇▇▅▃▂▁ \u001b[0m │  │\n",
              "│ │ \u001b[38;5;141mlog_income       \u001b[0m │ \u001b[36m   0\u001b[0m │ \u001b[36m      0\u001b[0m │ \u001b[36m     4.7\u001b[0m │ \u001b[36m   0.27\u001b[0m │ \u001b[36m  3.3\u001b[0m │ \u001b[36m  4.6\u001b[0m │ \u001b[36m  4.8\u001b[0m │ \u001b[36m  4.9\u001b[0m │ \u001b[36m   6.3\u001b[0m │ \u001b[32m  ▁▇▆  \u001b[0m │  │\n",
              "│ │ \u001b[38;5;141mfico_score       \u001b[0m │ \u001b[36m   0\u001b[0m │ \u001b[36m      0\u001b[0m │ \u001b[36m     710\u001b[0m │ \u001b[36m     38\u001b[0m │ \u001b[36m  610\u001b[0m │ \u001b[36m  680\u001b[0m │ \u001b[36m  710\u001b[0m │ \u001b[36m  740\u001b[0m │ \u001b[36m   830\u001b[0m │ \u001b[32m▁▆▇▅▃▁ \u001b[0m │  │\n",
              "│ │ \u001b[38;5;141mrev_balance      \u001b[0m │ \u001b[36m   0\u001b[0m │ \u001b[36m      0\u001b[0m │ \u001b[36m      17\u001b[0m │ \u001b[36m     34\u001b[0m │ \u001b[36m    0\u001b[0m │ \u001b[36m  3.3\u001b[0m │ \u001b[36m  8.7\u001b[0m │ \u001b[36m   18\u001b[0m │ \u001b[36m  1200\u001b[0m │ \u001b[32m   ▇   \u001b[0m │  │\n",
              "│ │ \u001b[38;5;141minquiries        \u001b[0m │ \u001b[36m   0\u001b[0m │ \u001b[36m      0\u001b[0m │ \u001b[36m     1.6\u001b[0m │ \u001b[36m    2.2\u001b[0m │ \u001b[36m    0\u001b[0m │ \u001b[36m    0\u001b[0m │ \u001b[36m    1\u001b[0m │ \u001b[36m    2\u001b[0m │ \u001b[36m    33\u001b[0m │ \u001b[32m   ▇   \u001b[0m │  │\n",
              "│ │ \u001b[38;5;141mrecords          \u001b[0m │ \u001b[36m   0\u001b[0m │ \u001b[36m      0\u001b[0m │ \u001b[36m   0.062\u001b[0m │ \u001b[36m   0.26\u001b[0m │ \u001b[36m    0\u001b[0m │ \u001b[36m    0\u001b[0m │ \u001b[36m    0\u001b[0m │ \u001b[36m    0\u001b[0m │ \u001b[36m     5\u001b[0m │ \u001b[32m   ▇   \u001b[0m │  │\n",
              "│ └───────────────────┴──────┴─────────┴──────────┴─────────┴───────┴───────┴───────┴───────┴────────┴─────────┘  │\n",
              "╰────────────────────────────────────────────────────── End ──────────────────────────────────────────────────────╯\n"
            ],
            "text/html": [
              "<pre style=\"white-space:pre;overflow-x:auto;line-height:normal;font-family:Menlo,'DejaVu Sans Mono',consolas,'Courier New',monospace\">╭──────────────────────────────────────────────── skimpy summary ─────────────────────────────────────────────────╮\n",
              "│ <span style=\"font-style: italic\">         Data Summary         </span> <span style=\"font-style: italic\">      Data Types       </span>                                                          │\n",
              "│ ┏━━━━━━━━━━━━━━━━━━━┳━━━━━━━━┓ ┏━━━━━━━━━━━━━┳━━━━━━━┓                                                          │\n",
              "│ ┃<span style=\"color: #008080; text-decoration-color: #008080; font-weight: bold\"> dataframe         </span>┃<span style=\"color: #008080; text-decoration-color: #008080; font-weight: bold\"> Values </span>┃ ┃<span style=\"color: #008080; text-decoration-color: #008080; font-weight: bold\"> Column Type </span>┃<span style=\"color: #008080; text-decoration-color: #008080; font-weight: bold\"> Count </span>┃                                                          │\n",
              "│ ┡━━━━━━━━━━━━━━━━━━━╇━━━━━━━━┩ ┡━━━━━━━━━━━━━╇━━━━━━━┩                                                          │\n",
              "│ │ Number of rows    │ 9516   │ │ int64       │ 5     │                                                          │\n",
              "│ │ Number of columns │ 7      │ │ float64     │ 2     │                                                          │\n",
              "│ └───────────────────┴────────┘ └─────────────┴───────┘                                                          │\n",
              "│ <span style=\"font-style: italic\">                                                    number                                                    </span>  │\n",
              "│ ┏━━━━━━━━━━━━━━━━━━━┳━━━━━━┳━━━━━━━━━┳━━━━━━━━━━┳━━━━━━━━━┳━━━━━━━┳━━━━━━━┳━━━━━━━┳━━━━━━━┳━━━━━━━━┳━━━━━━━━━┓  │\n",
              "│ ┃<span style=\"font-weight: bold\"> column_name       </span>┃<span style=\"font-weight: bold\"> NA   </span>┃<span style=\"font-weight: bold\"> NA %    </span>┃<span style=\"font-weight: bold\"> mean     </span>┃<span style=\"font-weight: bold\"> sd      </span>┃<span style=\"font-weight: bold\"> p0    </span>┃<span style=\"font-weight: bold\"> p25   </span>┃<span style=\"font-weight: bold\"> p50   </span>┃<span style=\"font-weight: bold\"> p75   </span>┃<span style=\"font-weight: bold\"> p100   </span>┃<span style=\"font-weight: bold\"> hist    </span>┃  │\n",
              "│ ┡━━━━━━━━━━━━━━━━━━━╇━━━━━━╇━━━━━━━━━╇━━━━━━━━━━╇━━━━━━━━━╇━━━━━━━╇━━━━━━━╇━━━━━━━╇━━━━━━━╇━━━━━━━━╇━━━━━━━━━┩  │\n",
              "│ │ <span style=\"color: #af87ff; text-decoration-color: #af87ff\">default          </span> │ <span style=\"color: #008080; text-decoration-color: #008080\">   0</span> │ <span style=\"color: #008080; text-decoration-color: #008080\">      0</span> │ <span style=\"color: #008080; text-decoration-color: #008080\">    0.16</span> │ <span style=\"color: #008080; text-decoration-color: #008080\">   0.37</span> │ <span style=\"color: #008080; text-decoration-color: #008080\">    0</span> │ <span style=\"color: #008080; text-decoration-color: #008080\">    0</span> │ <span style=\"color: #008080; text-decoration-color: #008080\">    0</span> │ <span style=\"color: #008080; text-decoration-color: #008080\">    0</span> │ <span style=\"color: #008080; text-decoration-color: #008080\">     1</span> │ <span style=\"color: #008000; text-decoration-color: #008000\">▇    ▂ </span> │  │\n",
              "│ │ <span style=\"color: #af87ff; text-decoration-color: #af87ff\">installment      </span> │ <span style=\"color: #008080; text-decoration-color: #008080\">   0</span> │ <span style=\"color: #008080; text-decoration-color: #008080\">      0</span> │ <span style=\"color: #008080; text-decoration-color: #008080\">     320</span> │ <span style=\"color: #008080; text-decoration-color: #008080\">    210</span> │ <span style=\"color: #008080; text-decoration-color: #008080\">   16</span> │ <span style=\"color: #008080; text-decoration-color: #008080\">  160</span> │ <span style=\"color: #008080; text-decoration-color: #008080\">  270</span> │ <span style=\"color: #008080; text-decoration-color: #008080\">  440</span> │ <span style=\"color: #008080; text-decoration-color: #008080\">   940</span> │ <span style=\"color: #008000; text-decoration-color: #008000\">▇▇▅▃▂▁ </span> │  │\n",
              "│ │ <span style=\"color: #af87ff; text-decoration-color: #af87ff\">log_income       </span> │ <span style=\"color: #008080; text-decoration-color: #008080\">   0</span> │ <span style=\"color: #008080; text-decoration-color: #008080\">      0</span> │ <span style=\"color: #008080; text-decoration-color: #008080\">     4.7</span> │ <span style=\"color: #008080; text-decoration-color: #008080\">   0.27</span> │ <span style=\"color: #008080; text-decoration-color: #008080\">  3.3</span> │ <span style=\"color: #008080; text-decoration-color: #008080\">  4.6</span> │ <span style=\"color: #008080; text-decoration-color: #008080\">  4.8</span> │ <span style=\"color: #008080; text-decoration-color: #008080\">  4.9</span> │ <span style=\"color: #008080; text-decoration-color: #008080\">   6.3</span> │ <span style=\"color: #008000; text-decoration-color: #008000\">  ▁▇▆  </span> │  │\n",
              "│ │ <span style=\"color: #af87ff; text-decoration-color: #af87ff\">fico_score       </span> │ <span style=\"color: #008080; text-decoration-color: #008080\">   0</span> │ <span style=\"color: #008080; text-decoration-color: #008080\">      0</span> │ <span style=\"color: #008080; text-decoration-color: #008080\">     710</span> │ <span style=\"color: #008080; text-decoration-color: #008080\">     38</span> │ <span style=\"color: #008080; text-decoration-color: #008080\">  610</span> │ <span style=\"color: #008080; text-decoration-color: #008080\">  680</span> │ <span style=\"color: #008080; text-decoration-color: #008080\">  710</span> │ <span style=\"color: #008080; text-decoration-color: #008080\">  740</span> │ <span style=\"color: #008080; text-decoration-color: #008080\">   830</span> │ <span style=\"color: #008000; text-decoration-color: #008000\">▁▆▇▅▃▁ </span> │  │\n",
              "│ │ <span style=\"color: #af87ff; text-decoration-color: #af87ff\">rev_balance      </span> │ <span style=\"color: #008080; text-decoration-color: #008080\">   0</span> │ <span style=\"color: #008080; text-decoration-color: #008080\">      0</span> │ <span style=\"color: #008080; text-decoration-color: #008080\">      17</span> │ <span style=\"color: #008080; text-decoration-color: #008080\">     34</span> │ <span style=\"color: #008080; text-decoration-color: #008080\">    0</span> │ <span style=\"color: #008080; text-decoration-color: #008080\">  3.3</span> │ <span style=\"color: #008080; text-decoration-color: #008080\">  8.7</span> │ <span style=\"color: #008080; text-decoration-color: #008080\">   18</span> │ <span style=\"color: #008080; text-decoration-color: #008080\">  1200</span> │ <span style=\"color: #008000; text-decoration-color: #008000\">   ▇   </span> │  │\n",
              "│ │ <span style=\"color: #af87ff; text-decoration-color: #af87ff\">inquiries        </span> │ <span style=\"color: #008080; text-decoration-color: #008080\">   0</span> │ <span style=\"color: #008080; text-decoration-color: #008080\">      0</span> │ <span style=\"color: #008080; text-decoration-color: #008080\">     1.6</span> │ <span style=\"color: #008080; text-decoration-color: #008080\">    2.2</span> │ <span style=\"color: #008080; text-decoration-color: #008080\">    0</span> │ <span style=\"color: #008080; text-decoration-color: #008080\">    0</span> │ <span style=\"color: #008080; text-decoration-color: #008080\">    1</span> │ <span style=\"color: #008080; text-decoration-color: #008080\">    2</span> │ <span style=\"color: #008080; text-decoration-color: #008080\">    33</span> │ <span style=\"color: #008000; text-decoration-color: #008000\">   ▇   </span> │  │\n",
              "│ │ <span style=\"color: #af87ff; text-decoration-color: #af87ff\">records          </span> │ <span style=\"color: #008080; text-decoration-color: #008080\">   0</span> │ <span style=\"color: #008080; text-decoration-color: #008080\">      0</span> │ <span style=\"color: #008080; text-decoration-color: #008080\">   0.062</span> │ <span style=\"color: #008080; text-decoration-color: #008080\">   0.26</span> │ <span style=\"color: #008080; text-decoration-color: #008080\">    0</span> │ <span style=\"color: #008080; text-decoration-color: #008080\">    0</span> │ <span style=\"color: #008080; text-decoration-color: #008080\">    0</span> │ <span style=\"color: #008080; text-decoration-color: #008080\">    0</span> │ <span style=\"color: #008080; text-decoration-color: #008080\">     5</span> │ <span style=\"color: #008000; text-decoration-color: #008000\">   ▇   </span> │  │\n",
              "│ └───────────────────┴──────┴─────────┴──────────┴─────────┴───────┴───────┴───────┴───────┴────────┴─────────┘  │\n",
              "╰────────────────────────────────────────────────────── End ──────────────────────────────────────────────────────╯\n",
              "</pre>\n"
            ]
          },
          "metadata": {}
        }
      ],
      "source": [
        "# skim() provides visual summary of dataframe\n",
        "skim(df)\n",
        "#16% of the data set defaults\n"
      ]
    },
    {
      "cell_type": "code",
      "execution_count": null,
      "metadata": {
        "colab": {
          "base_uri": "https://localhost:8080/",
          "height": 394
        },
        "id": "q133ZZGBr-gP",
        "outputId": "ad8547ef-f7ec-4736-dd78-4c1c99b01fd9"
      },
      "outputs": [
        {
          "output_type": "display_data",
          "data": {
            "text/plain": [
              "╭──────────────────────────────────────────────── skimpy summary ─────────────────────────────────────────────────╮\n",
              "│ \u001b[3m         Data Summary         \u001b[0m \u001b[3m      Data Types       \u001b[0m                                                          │\n",
              "│ ┏━━━━━━━━━━━━━━━━━━━┳━━━━━━━━┓ ┏━━━━━━━━━━━━━┳━━━━━━━┓                                                          │\n",
              "│ ┃\u001b[1;36m \u001b[0m\u001b[1;36mdataframe        \u001b[0m\u001b[1;36m \u001b[0m┃\u001b[1;36m \u001b[0m\u001b[1;36mValues\u001b[0m\u001b[1;36m \u001b[0m┃ ┃\u001b[1;36m \u001b[0m\u001b[1;36mColumn Type\u001b[0m\u001b[1;36m \u001b[0m┃\u001b[1;36m \u001b[0m\u001b[1;36mCount\u001b[0m\u001b[1;36m \u001b[0m┃                                                          │\n",
              "│ ┡━━━━━━━━━━━━━━━━━━━╇━━━━━━━━┩ ┡━━━━━━━━━━━━━╇━━━━━━━┩                                                          │\n",
              "│ │ Number of rows    │ 9516   │ │ int64       │ 5     │                                                          │\n",
              "│ │ Number of columns │ 7      │ │ float64     │ 2     │                                                          │\n",
              "│ └───────────────────┴────────┘ └─────────────┴───────┘                                                          │\n",
              "│ \u001b[3m                                                    number                                                    \u001b[0m  │\n",
              "│ ┏━━━━━━━━━━━━━━━━━━━┳━━━━━━┳━━━━━━━━━┳━━━━━━━━━━┳━━━━━━━━━┳━━━━━━━┳━━━━━━━┳━━━━━━━┳━━━━━━━┳━━━━━━━━┳━━━━━━━━━┓  │\n",
              "│ ┃\u001b[1m \u001b[0m\u001b[1mcolumn_name      \u001b[0m\u001b[1m \u001b[0m┃\u001b[1m \u001b[0m\u001b[1mNA  \u001b[0m\u001b[1m \u001b[0m┃\u001b[1m \u001b[0m\u001b[1mNA %   \u001b[0m\u001b[1m \u001b[0m┃\u001b[1m \u001b[0m\u001b[1mmean    \u001b[0m\u001b[1m \u001b[0m┃\u001b[1m \u001b[0m\u001b[1msd     \u001b[0m\u001b[1m \u001b[0m┃\u001b[1m \u001b[0m\u001b[1mp0   \u001b[0m\u001b[1m \u001b[0m┃\u001b[1m \u001b[0m\u001b[1mp25  \u001b[0m\u001b[1m \u001b[0m┃\u001b[1m \u001b[0m\u001b[1mp50  \u001b[0m\u001b[1m \u001b[0m┃\u001b[1m \u001b[0m\u001b[1mp75  \u001b[0m\u001b[1m \u001b[0m┃\u001b[1m \u001b[0m\u001b[1mp100  \u001b[0m\u001b[1m \u001b[0m┃\u001b[1m \u001b[0m\u001b[1mhist   \u001b[0m\u001b[1m \u001b[0m┃  │\n",
              "│ ┡━━━━━━━━━━━━━━━━━━━╇━━━━━━╇━━━━━━━━━╇━━━━━━━━━━╇━━━━━━━━━╇━━━━━━━╇━━━━━━━╇━━━━━━━╇━━━━━━━╇━━━━━━━━╇━━━━━━━━━┩  │\n",
              "│ │ \u001b[38;5;141mdefault          \u001b[0m │ \u001b[36m   0\u001b[0m │ \u001b[36m      0\u001b[0m │ \u001b[36m    0.16\u001b[0m │ \u001b[36m   0.37\u001b[0m │ \u001b[36m    0\u001b[0m │ \u001b[36m    0\u001b[0m │ \u001b[36m    0\u001b[0m │ \u001b[36m    0\u001b[0m │ \u001b[36m     1\u001b[0m │ \u001b[32m▇    ▂ \u001b[0m │  │\n",
              "│ │ \u001b[38;5;141minstallment      \u001b[0m │ \u001b[36m   0\u001b[0m │ \u001b[36m      0\u001b[0m │ \u001b[36m     320\u001b[0m │ \u001b[36m    210\u001b[0m │ \u001b[36m   16\u001b[0m │ \u001b[36m  160\u001b[0m │ \u001b[36m  270\u001b[0m │ \u001b[36m  440\u001b[0m │ \u001b[36m   940\u001b[0m │ \u001b[32m▇▇▅▃▂▁ \u001b[0m │  │\n",
              "│ │ \u001b[38;5;141mlog_income       \u001b[0m │ \u001b[36m   0\u001b[0m │ \u001b[36m      0\u001b[0m │ \u001b[36m     4.7\u001b[0m │ \u001b[36m   0.27\u001b[0m │ \u001b[36m  3.3\u001b[0m │ \u001b[36m  4.6\u001b[0m │ \u001b[36m  4.8\u001b[0m │ \u001b[36m  4.9\u001b[0m │ \u001b[36m   6.3\u001b[0m │ \u001b[32m  ▁▇▆  \u001b[0m │  │\n",
              "│ │ \u001b[38;5;141mfico_score       \u001b[0m │ \u001b[36m   0\u001b[0m │ \u001b[36m      0\u001b[0m │ \u001b[36m     710\u001b[0m │ \u001b[36m     38\u001b[0m │ \u001b[36m  610\u001b[0m │ \u001b[36m  680\u001b[0m │ \u001b[36m  710\u001b[0m │ \u001b[36m  740\u001b[0m │ \u001b[36m   830\u001b[0m │ \u001b[32m▁▆▇▅▃▁ \u001b[0m │  │\n",
              "│ │ \u001b[38;5;141mrev_balance      \u001b[0m │ \u001b[36m   0\u001b[0m │ \u001b[36m      0\u001b[0m │ \u001b[36m      17\u001b[0m │ \u001b[36m     34\u001b[0m │ \u001b[36m    0\u001b[0m │ \u001b[36m  3.3\u001b[0m │ \u001b[36m  8.7\u001b[0m │ \u001b[36m   18\u001b[0m │ \u001b[36m  1200\u001b[0m │ \u001b[32m   ▇   \u001b[0m │  │\n",
              "│ │ \u001b[38;5;141minquiries        \u001b[0m │ \u001b[36m   0\u001b[0m │ \u001b[36m      0\u001b[0m │ \u001b[36m     1.6\u001b[0m │ \u001b[36m    2.2\u001b[0m │ \u001b[36m    0\u001b[0m │ \u001b[36m    0\u001b[0m │ \u001b[36m    1\u001b[0m │ \u001b[36m    2\u001b[0m │ \u001b[36m    33\u001b[0m │ \u001b[32m   ▇   \u001b[0m │  │\n",
              "│ │ \u001b[38;5;141mrecords          \u001b[0m │ \u001b[36m   0\u001b[0m │ \u001b[36m      0\u001b[0m │ \u001b[36m   0.062\u001b[0m │ \u001b[36m   0.26\u001b[0m │ \u001b[36m    0\u001b[0m │ \u001b[36m    0\u001b[0m │ \u001b[36m    0\u001b[0m │ \u001b[36m    0\u001b[0m │ \u001b[36m     5\u001b[0m │ \u001b[32m   ▇   \u001b[0m │  │\n",
              "│ └───────────────────┴──────┴─────────┴──────────┴─────────┴───────┴───────┴───────┴───────┴────────┴─────────┘  │\n",
              "╰────────────────────────────────────────────────────── End ──────────────────────────────────────────────────────╯\n"
            ],
            "text/html": [
              "<pre style=\"white-space:pre;overflow-x:auto;line-height:normal;font-family:Menlo,'DejaVu Sans Mono',consolas,'Courier New',monospace\">╭──────────────────────────────────────────────── skimpy summary ─────────────────────────────────────────────────╮\n",
              "│ <span style=\"font-style: italic\">         Data Summary         </span> <span style=\"font-style: italic\">      Data Types       </span>                                                          │\n",
              "│ ┏━━━━━━━━━━━━━━━━━━━┳━━━━━━━━┓ ┏━━━━━━━━━━━━━┳━━━━━━━┓                                                          │\n",
              "│ ┃<span style=\"color: #008080; text-decoration-color: #008080; font-weight: bold\"> dataframe         </span>┃<span style=\"color: #008080; text-decoration-color: #008080; font-weight: bold\"> Values </span>┃ ┃<span style=\"color: #008080; text-decoration-color: #008080; font-weight: bold\"> Column Type </span>┃<span style=\"color: #008080; text-decoration-color: #008080; font-weight: bold\"> Count </span>┃                                                          │\n",
              "│ ┡━━━━━━━━━━━━━━━━━━━╇━━━━━━━━┩ ┡━━━━━━━━━━━━━╇━━━━━━━┩                                                          │\n",
              "│ │ Number of rows    │ 9516   │ │ int64       │ 5     │                                                          │\n",
              "│ │ Number of columns │ 7      │ │ float64     │ 2     │                                                          │\n",
              "│ └───────────────────┴────────┘ └─────────────┴───────┘                                                          │\n",
              "│ <span style=\"font-style: italic\">                                                    number                                                    </span>  │\n",
              "│ ┏━━━━━━━━━━━━━━━━━━━┳━━━━━━┳━━━━━━━━━┳━━━━━━━━━━┳━━━━━━━━━┳━━━━━━━┳━━━━━━━┳━━━━━━━┳━━━━━━━┳━━━━━━━━┳━━━━━━━━━┓  │\n",
              "│ ┃<span style=\"font-weight: bold\"> column_name       </span>┃<span style=\"font-weight: bold\"> NA   </span>┃<span style=\"font-weight: bold\"> NA %    </span>┃<span style=\"font-weight: bold\"> mean     </span>┃<span style=\"font-weight: bold\"> sd      </span>┃<span style=\"font-weight: bold\"> p0    </span>┃<span style=\"font-weight: bold\"> p25   </span>┃<span style=\"font-weight: bold\"> p50   </span>┃<span style=\"font-weight: bold\"> p75   </span>┃<span style=\"font-weight: bold\"> p100   </span>┃<span style=\"font-weight: bold\"> hist    </span>┃  │\n",
              "│ ┡━━━━━━━━━━━━━━━━━━━╇━━━━━━╇━━━━━━━━━╇━━━━━━━━━━╇━━━━━━━━━╇━━━━━━━╇━━━━━━━╇━━━━━━━╇━━━━━━━╇━━━━━━━━╇━━━━━━━━━┩  │\n",
              "│ │ <span style=\"color: #af87ff; text-decoration-color: #af87ff\">default          </span> │ <span style=\"color: #008080; text-decoration-color: #008080\">   0</span> │ <span style=\"color: #008080; text-decoration-color: #008080\">      0</span> │ <span style=\"color: #008080; text-decoration-color: #008080\">    0.16</span> │ <span style=\"color: #008080; text-decoration-color: #008080\">   0.37</span> │ <span style=\"color: #008080; text-decoration-color: #008080\">    0</span> │ <span style=\"color: #008080; text-decoration-color: #008080\">    0</span> │ <span style=\"color: #008080; text-decoration-color: #008080\">    0</span> │ <span style=\"color: #008080; text-decoration-color: #008080\">    0</span> │ <span style=\"color: #008080; text-decoration-color: #008080\">     1</span> │ <span style=\"color: #008000; text-decoration-color: #008000\">▇    ▂ </span> │  │\n",
              "│ │ <span style=\"color: #af87ff; text-decoration-color: #af87ff\">installment      </span> │ <span style=\"color: #008080; text-decoration-color: #008080\">   0</span> │ <span style=\"color: #008080; text-decoration-color: #008080\">      0</span> │ <span style=\"color: #008080; text-decoration-color: #008080\">     320</span> │ <span style=\"color: #008080; text-decoration-color: #008080\">    210</span> │ <span style=\"color: #008080; text-decoration-color: #008080\">   16</span> │ <span style=\"color: #008080; text-decoration-color: #008080\">  160</span> │ <span style=\"color: #008080; text-decoration-color: #008080\">  270</span> │ <span style=\"color: #008080; text-decoration-color: #008080\">  440</span> │ <span style=\"color: #008080; text-decoration-color: #008080\">   940</span> │ <span style=\"color: #008000; text-decoration-color: #008000\">▇▇▅▃▂▁ </span> │  │\n",
              "│ │ <span style=\"color: #af87ff; text-decoration-color: #af87ff\">log_income       </span> │ <span style=\"color: #008080; text-decoration-color: #008080\">   0</span> │ <span style=\"color: #008080; text-decoration-color: #008080\">      0</span> │ <span style=\"color: #008080; text-decoration-color: #008080\">     4.7</span> │ <span style=\"color: #008080; text-decoration-color: #008080\">   0.27</span> │ <span style=\"color: #008080; text-decoration-color: #008080\">  3.3</span> │ <span style=\"color: #008080; text-decoration-color: #008080\">  4.6</span> │ <span style=\"color: #008080; text-decoration-color: #008080\">  4.8</span> │ <span style=\"color: #008080; text-decoration-color: #008080\">  4.9</span> │ <span style=\"color: #008080; text-decoration-color: #008080\">   6.3</span> │ <span style=\"color: #008000; text-decoration-color: #008000\">  ▁▇▆  </span> │  │\n",
              "│ │ <span style=\"color: #af87ff; text-decoration-color: #af87ff\">fico_score       </span> │ <span style=\"color: #008080; text-decoration-color: #008080\">   0</span> │ <span style=\"color: #008080; text-decoration-color: #008080\">      0</span> │ <span style=\"color: #008080; text-decoration-color: #008080\">     710</span> │ <span style=\"color: #008080; text-decoration-color: #008080\">     38</span> │ <span style=\"color: #008080; text-decoration-color: #008080\">  610</span> │ <span style=\"color: #008080; text-decoration-color: #008080\">  680</span> │ <span style=\"color: #008080; text-decoration-color: #008080\">  710</span> │ <span style=\"color: #008080; text-decoration-color: #008080\">  740</span> │ <span style=\"color: #008080; text-decoration-color: #008080\">   830</span> │ <span style=\"color: #008000; text-decoration-color: #008000\">▁▆▇▅▃▁ </span> │  │\n",
              "│ │ <span style=\"color: #af87ff; text-decoration-color: #af87ff\">rev_balance      </span> │ <span style=\"color: #008080; text-decoration-color: #008080\">   0</span> │ <span style=\"color: #008080; text-decoration-color: #008080\">      0</span> │ <span style=\"color: #008080; text-decoration-color: #008080\">      17</span> │ <span style=\"color: #008080; text-decoration-color: #008080\">     34</span> │ <span style=\"color: #008080; text-decoration-color: #008080\">    0</span> │ <span style=\"color: #008080; text-decoration-color: #008080\">  3.3</span> │ <span style=\"color: #008080; text-decoration-color: #008080\">  8.7</span> │ <span style=\"color: #008080; text-decoration-color: #008080\">   18</span> │ <span style=\"color: #008080; text-decoration-color: #008080\">  1200</span> │ <span style=\"color: #008000; text-decoration-color: #008000\">   ▇   </span> │  │\n",
              "│ │ <span style=\"color: #af87ff; text-decoration-color: #af87ff\">inquiries        </span> │ <span style=\"color: #008080; text-decoration-color: #008080\">   0</span> │ <span style=\"color: #008080; text-decoration-color: #008080\">      0</span> │ <span style=\"color: #008080; text-decoration-color: #008080\">     1.6</span> │ <span style=\"color: #008080; text-decoration-color: #008080\">    2.2</span> │ <span style=\"color: #008080; text-decoration-color: #008080\">    0</span> │ <span style=\"color: #008080; text-decoration-color: #008080\">    0</span> │ <span style=\"color: #008080; text-decoration-color: #008080\">    1</span> │ <span style=\"color: #008080; text-decoration-color: #008080\">    2</span> │ <span style=\"color: #008080; text-decoration-color: #008080\">    33</span> │ <span style=\"color: #008000; text-decoration-color: #008000\">   ▇   </span> │  │\n",
              "│ │ <span style=\"color: #af87ff; text-decoration-color: #af87ff\">records          </span> │ <span style=\"color: #008080; text-decoration-color: #008080\">   0</span> │ <span style=\"color: #008080; text-decoration-color: #008080\">      0</span> │ <span style=\"color: #008080; text-decoration-color: #008080\">   0.062</span> │ <span style=\"color: #008080; text-decoration-color: #008080\">   0.26</span> │ <span style=\"color: #008080; text-decoration-color: #008080\">    0</span> │ <span style=\"color: #008080; text-decoration-color: #008080\">    0</span> │ <span style=\"color: #008080; text-decoration-color: #008080\">    0</span> │ <span style=\"color: #008080; text-decoration-color: #008080\">    0</span> │ <span style=\"color: #008080; text-decoration-color: #008080\">     5</span> │ <span style=\"color: #008000; text-decoration-color: #008000\">   ▇   </span> │  │\n",
              "│ └───────────────────┴──────┴─────────┴──────────┴─────────┴───────┴───────┴───────┴───────┴────────┴─────────┘  │\n",
              "╰────────────────────────────────────────────────────── End ──────────────────────────────────────────────────────╯\n",
              "</pre>\n"
            ]
          },
          "metadata": {}
        }
      ],
      "source": [
        "from sklearn.preprocessing import LabelEncoder\n",
        "label_encoder = LabelEncoder()\n",
        "label_encoder.fit(df['default'])\n",
        "df['default'] = label_encoder.transform(df['default'])\n",
        "\n",
        "#strategy_type = CategoricalDtype(categories=['Sell', 'Buy', 'Hold'], ordered=True)\n",
        "#df['Strategy'] = df['Strategy'].astype(strategy_type)\n",
        "skim(df)"
      ]
    },
    {
      "cell_type": "markdown",
      "metadata": {
        "id": "uEekZSmHtzIy"
      },
      "source": [
        "Lets compare the data we have for borrowers who defaulted vs. borrowers who did not, again by skimming the data corresponding to those respective subsets."
      ]
    },
    {
      "cell_type": "code",
      "execution_count": null,
      "metadata": {
        "colab": {
          "base_uri": "https://localhost:8080/",
          "height": 783
        },
        "id": "PtqIDO97lSc7",
        "outputId": "e512afec-f83f-4e4b-97aa-bd74b3b21645"
      },
      "outputs": [
        {
          "output_type": "display_data",
          "data": {
            "text/plain": [
              "╭──────────────────────────────────────────────── skimpy summary ─────────────────────────────────────────────────╮\n",
              "│ \u001b[3m         Data Summary         \u001b[0m \u001b[3m      Data Types       \u001b[0m                                                          │\n",
              "│ ┏━━━━━━━━━━━━━━━━━━━┳━━━━━━━━┓ ┏━━━━━━━━━━━━━┳━━━━━━━┓                                                          │\n",
              "│ ┃\u001b[1;36m \u001b[0m\u001b[1;36mdataframe        \u001b[0m\u001b[1;36m \u001b[0m┃\u001b[1;36m \u001b[0m\u001b[1;36mValues\u001b[0m\u001b[1;36m \u001b[0m┃ ┃\u001b[1;36m \u001b[0m\u001b[1;36mColumn Type\u001b[0m\u001b[1;36m \u001b[0m┃\u001b[1;36m \u001b[0m\u001b[1;36mCount\u001b[0m\u001b[1;36m \u001b[0m┃                                                          │\n",
              "│ ┡━━━━━━━━━━━━━━━━━━━╇━━━━━━━━┩ ┡━━━━━━━━━━━━━╇━━━━━━━┩                                                          │\n",
              "│ │ Number of rows    │ 1521   │ │ int64       │ 5     │                                                          │\n",
              "│ │ Number of columns │ 7      │ │ float64     │ 2     │                                                          │\n",
              "│ └───────────────────┴────────┘ └─────────────┴───────┘                                                          │\n",
              "│ \u001b[3m                                                    number                                                    \u001b[0m  │\n",
              "│ ┏━━━━━━━━━━━━━━━━━━━┳━━━━━━┳━━━━━━━━━┳━━━━━━━━━━┳━━━━━━━━━┳━━━━━━━┳━━━━━━━┳━━━━━━━┳━━━━━━━┳━━━━━━━━┳━━━━━━━━━┓  │\n",
              "│ ┃\u001b[1m \u001b[0m\u001b[1mcolumn_name      \u001b[0m\u001b[1m \u001b[0m┃\u001b[1m \u001b[0m\u001b[1mNA  \u001b[0m\u001b[1m \u001b[0m┃\u001b[1m \u001b[0m\u001b[1mNA %   \u001b[0m\u001b[1m \u001b[0m┃\u001b[1m \u001b[0m\u001b[1mmean    \u001b[0m\u001b[1m \u001b[0m┃\u001b[1m \u001b[0m\u001b[1msd     \u001b[0m\u001b[1m \u001b[0m┃\u001b[1m \u001b[0m\u001b[1mp0   \u001b[0m\u001b[1m \u001b[0m┃\u001b[1m \u001b[0m\u001b[1mp25  \u001b[0m\u001b[1m \u001b[0m┃\u001b[1m \u001b[0m\u001b[1mp50  \u001b[0m\u001b[1m \u001b[0m┃\u001b[1m \u001b[0m\u001b[1mp75  \u001b[0m\u001b[1m \u001b[0m┃\u001b[1m \u001b[0m\u001b[1mp100  \u001b[0m\u001b[1m \u001b[0m┃\u001b[1m \u001b[0m\u001b[1mhist   \u001b[0m\u001b[1m \u001b[0m┃  │\n",
              "│ ┡━━━━━━━━━━━━━━━━━━━╇━━━━━━╇━━━━━━━━━╇━━━━━━━━━━╇━━━━━━━━━╇━━━━━━━╇━━━━━━━╇━━━━━━━╇━━━━━━━╇━━━━━━━━╇━━━━━━━━━┩  │\n",
              "│ │ \u001b[38;5;141mdefault          \u001b[0m │ \u001b[36m   0\u001b[0m │ \u001b[36m      0\u001b[0m │ \u001b[36m       1\u001b[0m │ \u001b[36m      0\u001b[0m │ \u001b[36m    1\u001b[0m │ \u001b[36m    1\u001b[0m │ \u001b[36m    1\u001b[0m │ \u001b[36m    1\u001b[0m │ \u001b[36m     1\u001b[0m │ \u001b[32m    ▇  \u001b[0m │  │\n",
              "│ │ \u001b[38;5;141minstallment      \u001b[0m │ \u001b[36m   0\u001b[0m │ \u001b[36m      0\u001b[0m │ \u001b[36m     340\u001b[0m │ \u001b[36m    220\u001b[0m │ \u001b[36m   16\u001b[0m │ \u001b[36m  170\u001b[0m │ \u001b[36m  290\u001b[0m │ \u001b[36m  490\u001b[0m │ \u001b[36m   930\u001b[0m │ \u001b[32m▆▇▅▃▂▂ \u001b[0m │  │\n",
              "│ │ \u001b[38;5;141mlog_income       \u001b[0m │ \u001b[36m   0\u001b[0m │ \u001b[36m      0\u001b[0m │ \u001b[36m     4.7\u001b[0m │ \u001b[36m   0.29\u001b[0m │ \u001b[36m  3.3\u001b[0m │ \u001b[36m  4.6\u001b[0m │ \u001b[36m  4.7\u001b[0m │ \u001b[36m  4.9\u001b[0m │ \u001b[36m   5.8\u001b[0m │ \u001b[32m   ▃▇▂ \u001b[0m │  │\n",
              "│ │ \u001b[38;5;141mfico_score       \u001b[0m │ \u001b[36m   0\u001b[0m │ \u001b[36m      0\u001b[0m │ \u001b[36m     700\u001b[0m │ \u001b[36m     34\u001b[0m │ \u001b[36m  620\u001b[0m │ \u001b[36m  670\u001b[0m │ \u001b[36m  690\u001b[0m │ \u001b[36m  720\u001b[0m │ \u001b[36m   820\u001b[0m │ \u001b[32m ▁▇▇▃▁ \u001b[0m │  │\n",
              "│ │ \u001b[38;5;141mrev_balance      \u001b[0m │ \u001b[36m   0\u001b[0m │ \u001b[36m      0\u001b[0m │ \u001b[36m      21\u001b[0m │ \u001b[36m     50\u001b[0m │ \u001b[36m    0\u001b[0m │ \u001b[36m  3.4\u001b[0m │ \u001b[36m  8.9\u001b[0m │ \u001b[36m   21\u001b[0m │ \u001b[36m  1200\u001b[0m │ \u001b[32m   ▇   \u001b[0m │  │\n",
              "│ │ \u001b[38;5;141minquiries        \u001b[0m │ \u001b[36m   0\u001b[0m │ \u001b[36m      0\u001b[0m │ \u001b[36m     2.3\u001b[0m │ \u001b[36m    2.9\u001b[0m │ \u001b[36m    0\u001b[0m │ \u001b[36m    0\u001b[0m │ \u001b[36m    1\u001b[0m │ \u001b[36m    3\u001b[0m │ \u001b[36m    33\u001b[0m │ \u001b[32m  ▇▁   \u001b[0m │  │\n",
              "│ │ \u001b[38;5;141mrecords          \u001b[0m │ \u001b[36m   0\u001b[0m │ \u001b[36m      0\u001b[0m │ \u001b[36m   0.092\u001b[0m │ \u001b[36m   0.29\u001b[0m │ \u001b[36m    0\u001b[0m │ \u001b[36m    0\u001b[0m │ \u001b[36m    0\u001b[0m │ \u001b[36m    0\u001b[0m │ \u001b[36m     2\u001b[0m │ \u001b[32m ▇  ▁  \u001b[0m │  │\n",
              "│ └───────────────────┴──────┴─────────┴──────────┴─────────┴───────┴───────┴───────┴───────┴────────┴─────────┘  │\n",
              "╰────────────────────────────────────────────────────── End ──────────────────────────────────────────────────────╯\n"
            ],
            "text/html": [
              "<pre style=\"white-space:pre;overflow-x:auto;line-height:normal;font-family:Menlo,'DejaVu Sans Mono',consolas,'Courier New',monospace\">╭──────────────────────────────────────────────── skimpy summary ─────────────────────────────────────────────────╮\n",
              "│ <span style=\"font-style: italic\">         Data Summary         </span> <span style=\"font-style: italic\">      Data Types       </span>                                                          │\n",
              "│ ┏━━━━━━━━━━━━━━━━━━━┳━━━━━━━━┓ ┏━━━━━━━━━━━━━┳━━━━━━━┓                                                          │\n",
              "│ ┃<span style=\"color: #008080; text-decoration-color: #008080; font-weight: bold\"> dataframe         </span>┃<span style=\"color: #008080; text-decoration-color: #008080; font-weight: bold\"> Values </span>┃ ┃<span style=\"color: #008080; text-decoration-color: #008080; font-weight: bold\"> Column Type </span>┃<span style=\"color: #008080; text-decoration-color: #008080; font-weight: bold\"> Count </span>┃                                                          │\n",
              "│ ┡━━━━━━━━━━━━━━━━━━━╇━━━━━━━━┩ ┡━━━━━━━━━━━━━╇━━━━━━━┩                                                          │\n",
              "│ │ Number of rows    │ 1521   │ │ int64       │ 5     │                                                          │\n",
              "│ │ Number of columns │ 7      │ │ float64     │ 2     │                                                          │\n",
              "│ └───────────────────┴────────┘ └─────────────┴───────┘                                                          │\n",
              "│ <span style=\"font-style: italic\">                                                    number                                                    </span>  │\n",
              "│ ┏━━━━━━━━━━━━━━━━━━━┳━━━━━━┳━━━━━━━━━┳━━━━━━━━━━┳━━━━━━━━━┳━━━━━━━┳━━━━━━━┳━━━━━━━┳━━━━━━━┳━━━━━━━━┳━━━━━━━━━┓  │\n",
              "│ ┃<span style=\"font-weight: bold\"> column_name       </span>┃<span style=\"font-weight: bold\"> NA   </span>┃<span style=\"font-weight: bold\"> NA %    </span>┃<span style=\"font-weight: bold\"> mean     </span>┃<span style=\"font-weight: bold\"> sd      </span>┃<span style=\"font-weight: bold\"> p0    </span>┃<span style=\"font-weight: bold\"> p25   </span>┃<span style=\"font-weight: bold\"> p50   </span>┃<span style=\"font-weight: bold\"> p75   </span>┃<span style=\"font-weight: bold\"> p100   </span>┃<span style=\"font-weight: bold\"> hist    </span>┃  │\n",
              "│ ┡━━━━━━━━━━━━━━━━━━━╇━━━━━━╇━━━━━━━━━╇━━━━━━━━━━╇━━━━━━━━━╇━━━━━━━╇━━━━━━━╇━━━━━━━╇━━━━━━━╇━━━━━━━━╇━━━━━━━━━┩  │\n",
              "│ │ <span style=\"color: #af87ff; text-decoration-color: #af87ff\">default          </span> │ <span style=\"color: #008080; text-decoration-color: #008080\">   0</span> │ <span style=\"color: #008080; text-decoration-color: #008080\">      0</span> │ <span style=\"color: #008080; text-decoration-color: #008080\">       1</span> │ <span style=\"color: #008080; text-decoration-color: #008080\">      0</span> │ <span style=\"color: #008080; text-decoration-color: #008080\">    1</span> │ <span style=\"color: #008080; text-decoration-color: #008080\">    1</span> │ <span style=\"color: #008080; text-decoration-color: #008080\">    1</span> │ <span style=\"color: #008080; text-decoration-color: #008080\">    1</span> │ <span style=\"color: #008080; text-decoration-color: #008080\">     1</span> │ <span style=\"color: #008000; text-decoration-color: #008000\">    ▇  </span> │  │\n",
              "│ │ <span style=\"color: #af87ff; text-decoration-color: #af87ff\">installment      </span> │ <span style=\"color: #008080; text-decoration-color: #008080\">   0</span> │ <span style=\"color: #008080; text-decoration-color: #008080\">      0</span> │ <span style=\"color: #008080; text-decoration-color: #008080\">     340</span> │ <span style=\"color: #008080; text-decoration-color: #008080\">    220</span> │ <span style=\"color: #008080; text-decoration-color: #008080\">   16</span> │ <span style=\"color: #008080; text-decoration-color: #008080\">  170</span> │ <span style=\"color: #008080; text-decoration-color: #008080\">  290</span> │ <span style=\"color: #008080; text-decoration-color: #008080\">  490</span> │ <span style=\"color: #008080; text-decoration-color: #008080\">   930</span> │ <span style=\"color: #008000; text-decoration-color: #008000\">▆▇▅▃▂▂ </span> │  │\n",
              "│ │ <span style=\"color: #af87ff; text-decoration-color: #af87ff\">log_income       </span> │ <span style=\"color: #008080; text-decoration-color: #008080\">   0</span> │ <span style=\"color: #008080; text-decoration-color: #008080\">      0</span> │ <span style=\"color: #008080; text-decoration-color: #008080\">     4.7</span> │ <span style=\"color: #008080; text-decoration-color: #008080\">   0.29</span> │ <span style=\"color: #008080; text-decoration-color: #008080\">  3.3</span> │ <span style=\"color: #008080; text-decoration-color: #008080\">  4.6</span> │ <span style=\"color: #008080; text-decoration-color: #008080\">  4.7</span> │ <span style=\"color: #008080; text-decoration-color: #008080\">  4.9</span> │ <span style=\"color: #008080; text-decoration-color: #008080\">   5.8</span> │ <span style=\"color: #008000; text-decoration-color: #008000\">   ▃▇▂ </span> │  │\n",
              "│ │ <span style=\"color: #af87ff; text-decoration-color: #af87ff\">fico_score       </span> │ <span style=\"color: #008080; text-decoration-color: #008080\">   0</span> │ <span style=\"color: #008080; text-decoration-color: #008080\">      0</span> │ <span style=\"color: #008080; text-decoration-color: #008080\">     700</span> │ <span style=\"color: #008080; text-decoration-color: #008080\">     34</span> │ <span style=\"color: #008080; text-decoration-color: #008080\">  620</span> │ <span style=\"color: #008080; text-decoration-color: #008080\">  670</span> │ <span style=\"color: #008080; text-decoration-color: #008080\">  690</span> │ <span style=\"color: #008080; text-decoration-color: #008080\">  720</span> │ <span style=\"color: #008080; text-decoration-color: #008080\">   820</span> │ <span style=\"color: #008000; text-decoration-color: #008000\"> ▁▇▇▃▁ </span> │  │\n",
              "│ │ <span style=\"color: #af87ff; text-decoration-color: #af87ff\">rev_balance      </span> │ <span style=\"color: #008080; text-decoration-color: #008080\">   0</span> │ <span style=\"color: #008080; text-decoration-color: #008080\">      0</span> │ <span style=\"color: #008080; text-decoration-color: #008080\">      21</span> │ <span style=\"color: #008080; text-decoration-color: #008080\">     50</span> │ <span style=\"color: #008080; text-decoration-color: #008080\">    0</span> │ <span style=\"color: #008080; text-decoration-color: #008080\">  3.4</span> │ <span style=\"color: #008080; text-decoration-color: #008080\">  8.9</span> │ <span style=\"color: #008080; text-decoration-color: #008080\">   21</span> │ <span style=\"color: #008080; text-decoration-color: #008080\">  1200</span> │ <span style=\"color: #008000; text-decoration-color: #008000\">   ▇   </span> │  │\n",
              "│ │ <span style=\"color: #af87ff; text-decoration-color: #af87ff\">inquiries        </span> │ <span style=\"color: #008080; text-decoration-color: #008080\">   0</span> │ <span style=\"color: #008080; text-decoration-color: #008080\">      0</span> │ <span style=\"color: #008080; text-decoration-color: #008080\">     2.3</span> │ <span style=\"color: #008080; text-decoration-color: #008080\">    2.9</span> │ <span style=\"color: #008080; text-decoration-color: #008080\">    0</span> │ <span style=\"color: #008080; text-decoration-color: #008080\">    0</span> │ <span style=\"color: #008080; text-decoration-color: #008080\">    1</span> │ <span style=\"color: #008080; text-decoration-color: #008080\">    3</span> │ <span style=\"color: #008080; text-decoration-color: #008080\">    33</span> │ <span style=\"color: #008000; text-decoration-color: #008000\">  ▇▁   </span> │  │\n",
              "│ │ <span style=\"color: #af87ff; text-decoration-color: #af87ff\">records          </span> │ <span style=\"color: #008080; text-decoration-color: #008080\">   0</span> │ <span style=\"color: #008080; text-decoration-color: #008080\">      0</span> │ <span style=\"color: #008080; text-decoration-color: #008080\">   0.092</span> │ <span style=\"color: #008080; text-decoration-color: #008080\">   0.29</span> │ <span style=\"color: #008080; text-decoration-color: #008080\">    0</span> │ <span style=\"color: #008080; text-decoration-color: #008080\">    0</span> │ <span style=\"color: #008080; text-decoration-color: #008080\">    0</span> │ <span style=\"color: #008080; text-decoration-color: #008080\">    0</span> │ <span style=\"color: #008080; text-decoration-color: #008080\">     2</span> │ <span style=\"color: #008000; text-decoration-color: #008000\"> ▇  ▁  </span> │  │\n",
              "│ └───────────────────┴──────┴─────────┴──────────┴─────────┴───────┴───────┴───────┴───────┴────────┴─────────┘  │\n",
              "╰────────────────────────────────────────────────────── End ──────────────────────────────────────────────────────╯\n",
              "</pre>\n"
            ]
          },
          "metadata": {}
        },
        {
          "output_type": "display_data",
          "data": {
            "text/plain": [
              "╭──────────────────────────────────────────────── skimpy summary ─────────────────────────────────────────────────╮\n",
              "│ \u001b[3m         Data Summary         \u001b[0m \u001b[3m      Data Types       \u001b[0m                                                          │\n",
              "│ ┏━━━━━━━━━━━━━━━━━━━┳━━━━━━━━┓ ┏━━━━━━━━━━━━━┳━━━━━━━┓                                                          │\n",
              "│ ┃\u001b[1;36m \u001b[0m\u001b[1;36mdataframe        \u001b[0m\u001b[1;36m \u001b[0m┃\u001b[1;36m \u001b[0m\u001b[1;36mValues\u001b[0m\u001b[1;36m \u001b[0m┃ ┃\u001b[1;36m \u001b[0m\u001b[1;36mColumn Type\u001b[0m\u001b[1;36m \u001b[0m┃\u001b[1;36m \u001b[0m\u001b[1;36mCount\u001b[0m\u001b[1;36m \u001b[0m┃                                                          │\n",
              "│ ┡━━━━━━━━━━━━━━━━━━━╇━━━━━━━━┩ ┡━━━━━━━━━━━━━╇━━━━━━━┩                                                          │\n",
              "│ │ Number of rows    │ 7995   │ │ int64       │ 5     │                                                          │\n",
              "│ │ Number of columns │ 7      │ │ float64     │ 2     │                                                          │\n",
              "│ └───────────────────┴────────┘ └─────────────┴───────┘                                                          │\n",
              "│ \u001b[3m                                                    number                                                    \u001b[0m  │\n",
              "│ ┏━━━━━━━━━━━━━━━━━━━┳━━━━━━┳━━━━━━━━━┳━━━━━━━━━━┳━━━━━━━━━┳━━━━━━━┳━━━━━━━┳━━━━━━━┳━━━━━━━┳━━━━━━━━┳━━━━━━━━━┓  │\n",
              "│ ┃\u001b[1m \u001b[0m\u001b[1mcolumn_name      \u001b[0m\u001b[1m \u001b[0m┃\u001b[1m \u001b[0m\u001b[1mNA  \u001b[0m\u001b[1m \u001b[0m┃\u001b[1m \u001b[0m\u001b[1mNA %   \u001b[0m\u001b[1m \u001b[0m┃\u001b[1m \u001b[0m\u001b[1mmean    \u001b[0m\u001b[1m \u001b[0m┃\u001b[1m \u001b[0m\u001b[1msd     \u001b[0m\u001b[1m \u001b[0m┃\u001b[1m \u001b[0m\u001b[1mp0   \u001b[0m\u001b[1m \u001b[0m┃\u001b[1m \u001b[0m\u001b[1mp25  \u001b[0m\u001b[1m \u001b[0m┃\u001b[1m \u001b[0m\u001b[1mp50  \u001b[0m\u001b[1m \u001b[0m┃\u001b[1m \u001b[0m\u001b[1mp75  \u001b[0m\u001b[1m \u001b[0m┃\u001b[1m \u001b[0m\u001b[1mp100  \u001b[0m\u001b[1m \u001b[0m┃\u001b[1m \u001b[0m\u001b[1mhist   \u001b[0m\u001b[1m \u001b[0m┃  │\n",
              "│ ┡━━━━━━━━━━━━━━━━━━━╇━━━━━━╇━━━━━━━━━╇━━━━━━━━━━╇━━━━━━━━━╇━━━━━━━╇━━━━━━━╇━━━━━━━╇━━━━━━━╇━━━━━━━━╇━━━━━━━━━┩  │\n",
              "│ │ \u001b[38;5;141mdefault          \u001b[0m │ \u001b[36m   0\u001b[0m │ \u001b[36m      0\u001b[0m │ \u001b[36m       0\u001b[0m │ \u001b[36m      0\u001b[0m │ \u001b[36m    0\u001b[0m │ \u001b[36m    0\u001b[0m │ \u001b[36m    0\u001b[0m │ \u001b[36m    0\u001b[0m │ \u001b[36m     0\u001b[0m │ \u001b[32m    ▇  \u001b[0m │  │\n",
              "│ │ \u001b[38;5;141minstallment      \u001b[0m │ \u001b[36m   0\u001b[0m │ \u001b[36m      0\u001b[0m │ \u001b[36m     320\u001b[0m │ \u001b[36m    200\u001b[0m │ \u001b[36m   16\u001b[0m │ \u001b[36m  160\u001b[0m │ \u001b[36m  270\u001b[0m │ \u001b[36m  430\u001b[0m │ \u001b[36m   940\u001b[0m │ \u001b[32m▇▇▅▃▂▁ \u001b[0m │  │\n",
              "│ │ \u001b[38;5;141mlog_income       \u001b[0m │ \u001b[36m   0\u001b[0m │ \u001b[36m      0\u001b[0m │ \u001b[36m     4.8\u001b[0m │ \u001b[36m   0.26\u001b[0m │ \u001b[36m  3.3\u001b[0m │ \u001b[36m  4.6\u001b[0m │ \u001b[36m  4.8\u001b[0m │ \u001b[36m  4.9\u001b[0m │ \u001b[36m   6.3\u001b[0m │ \u001b[32m   ▇▆  \u001b[0m │  │\n",
              "│ │ \u001b[38;5;141mfico_score       \u001b[0m │ \u001b[36m   0\u001b[0m │ \u001b[36m      0\u001b[0m │ \u001b[36m     710\u001b[0m │ \u001b[36m     38\u001b[0m │ \u001b[36m  610\u001b[0m │ \u001b[36m  680\u001b[0m │ \u001b[36m  710\u001b[0m │ \u001b[36m  740\u001b[0m │ \u001b[36m   830\u001b[0m │ \u001b[32m ▆▇▆▃▁ \u001b[0m │  │\n",
              "│ │ \u001b[38;5;141mrev_balance      \u001b[0m │ \u001b[36m   0\u001b[0m │ \u001b[36m      0\u001b[0m │ \u001b[36m      16\u001b[0m │ \u001b[36m     30\u001b[0m │ \u001b[36m    0\u001b[0m │ \u001b[36m  3.2\u001b[0m │ \u001b[36m  8.6\u001b[0m │ \u001b[36m   18\u001b[0m │ \u001b[36m   950\u001b[0m │ \u001b[32m   ▇   \u001b[0m │  │\n",
              "│ │ \u001b[38;5;141minquiries        \u001b[0m │ \u001b[36m   0\u001b[0m │ \u001b[36m      0\u001b[0m │ \u001b[36m     1.4\u001b[0m │ \u001b[36m      2\u001b[0m │ \u001b[36m    0\u001b[0m │ \u001b[36m    0\u001b[0m │ \u001b[36m    1\u001b[0m │ \u001b[36m    2\u001b[0m │ \u001b[36m    31\u001b[0m │ \u001b[32m   ▇   \u001b[0m │  │\n",
              "│ │ \u001b[38;5;141mrecords          \u001b[0m │ \u001b[36m   0\u001b[0m │ \u001b[36m      0\u001b[0m │ \u001b[36m   0.057\u001b[0m │ \u001b[36m   0.26\u001b[0m │ \u001b[36m    0\u001b[0m │ \u001b[36m    0\u001b[0m │ \u001b[36m    0\u001b[0m │ \u001b[36m    0\u001b[0m │ \u001b[36m     5\u001b[0m │ \u001b[32m   ▇   \u001b[0m │  │\n",
              "│ └───────────────────┴──────┴─────────┴──────────┴─────────┴───────┴───────┴───────┴───────┴────────┴─────────┘  │\n",
              "╰────────────────────────────────────────────────────── End ──────────────────────────────────────────────────────╯\n"
            ],
            "text/html": [
              "<pre style=\"white-space:pre;overflow-x:auto;line-height:normal;font-family:Menlo,'DejaVu Sans Mono',consolas,'Courier New',monospace\">╭──────────────────────────────────────────────── skimpy summary ─────────────────────────────────────────────────╮\n",
              "│ <span style=\"font-style: italic\">         Data Summary         </span> <span style=\"font-style: italic\">      Data Types       </span>                                                          │\n",
              "│ ┏━━━━━━━━━━━━━━━━━━━┳━━━━━━━━┓ ┏━━━━━━━━━━━━━┳━━━━━━━┓                                                          │\n",
              "│ ┃<span style=\"color: #008080; text-decoration-color: #008080; font-weight: bold\"> dataframe         </span>┃<span style=\"color: #008080; text-decoration-color: #008080; font-weight: bold\"> Values </span>┃ ┃<span style=\"color: #008080; text-decoration-color: #008080; font-weight: bold\"> Column Type </span>┃<span style=\"color: #008080; text-decoration-color: #008080; font-weight: bold\"> Count </span>┃                                                          │\n",
              "│ ┡━━━━━━━━━━━━━━━━━━━╇━━━━━━━━┩ ┡━━━━━━━━━━━━━╇━━━━━━━┩                                                          │\n",
              "│ │ Number of rows    │ 7995   │ │ int64       │ 5     │                                                          │\n",
              "│ │ Number of columns │ 7      │ │ float64     │ 2     │                                                          │\n",
              "│ └───────────────────┴────────┘ └─────────────┴───────┘                                                          │\n",
              "│ <span style=\"font-style: italic\">                                                    number                                                    </span>  │\n",
              "│ ┏━━━━━━━━━━━━━━━━━━━┳━━━━━━┳━━━━━━━━━┳━━━━━━━━━━┳━━━━━━━━━┳━━━━━━━┳━━━━━━━┳━━━━━━━┳━━━━━━━┳━━━━━━━━┳━━━━━━━━━┓  │\n",
              "│ ┃<span style=\"font-weight: bold\"> column_name       </span>┃<span style=\"font-weight: bold\"> NA   </span>┃<span style=\"font-weight: bold\"> NA %    </span>┃<span style=\"font-weight: bold\"> mean     </span>┃<span style=\"font-weight: bold\"> sd      </span>┃<span style=\"font-weight: bold\"> p0    </span>┃<span style=\"font-weight: bold\"> p25   </span>┃<span style=\"font-weight: bold\"> p50   </span>┃<span style=\"font-weight: bold\"> p75   </span>┃<span style=\"font-weight: bold\"> p100   </span>┃<span style=\"font-weight: bold\"> hist    </span>┃  │\n",
              "│ ┡━━━━━━━━━━━━━━━━━━━╇━━━━━━╇━━━━━━━━━╇━━━━━━━━━━╇━━━━━━━━━╇━━━━━━━╇━━━━━━━╇━━━━━━━╇━━━━━━━╇━━━━━━━━╇━━━━━━━━━┩  │\n",
              "│ │ <span style=\"color: #af87ff; text-decoration-color: #af87ff\">default          </span> │ <span style=\"color: #008080; text-decoration-color: #008080\">   0</span> │ <span style=\"color: #008080; text-decoration-color: #008080\">      0</span> │ <span style=\"color: #008080; text-decoration-color: #008080\">       0</span> │ <span style=\"color: #008080; text-decoration-color: #008080\">      0</span> │ <span style=\"color: #008080; text-decoration-color: #008080\">    0</span> │ <span style=\"color: #008080; text-decoration-color: #008080\">    0</span> │ <span style=\"color: #008080; text-decoration-color: #008080\">    0</span> │ <span style=\"color: #008080; text-decoration-color: #008080\">    0</span> │ <span style=\"color: #008080; text-decoration-color: #008080\">     0</span> │ <span style=\"color: #008000; text-decoration-color: #008000\">    ▇  </span> │  │\n",
              "│ │ <span style=\"color: #af87ff; text-decoration-color: #af87ff\">installment      </span> │ <span style=\"color: #008080; text-decoration-color: #008080\">   0</span> │ <span style=\"color: #008080; text-decoration-color: #008080\">      0</span> │ <span style=\"color: #008080; text-decoration-color: #008080\">     320</span> │ <span style=\"color: #008080; text-decoration-color: #008080\">    200</span> │ <span style=\"color: #008080; text-decoration-color: #008080\">   16</span> │ <span style=\"color: #008080; text-decoration-color: #008080\">  160</span> │ <span style=\"color: #008080; text-decoration-color: #008080\">  270</span> │ <span style=\"color: #008080; text-decoration-color: #008080\">  430</span> │ <span style=\"color: #008080; text-decoration-color: #008080\">   940</span> │ <span style=\"color: #008000; text-decoration-color: #008000\">▇▇▅▃▂▁ </span> │  │\n",
              "│ │ <span style=\"color: #af87ff; text-decoration-color: #af87ff\">log_income       </span> │ <span style=\"color: #008080; text-decoration-color: #008080\">   0</span> │ <span style=\"color: #008080; text-decoration-color: #008080\">      0</span> │ <span style=\"color: #008080; text-decoration-color: #008080\">     4.8</span> │ <span style=\"color: #008080; text-decoration-color: #008080\">   0.26</span> │ <span style=\"color: #008080; text-decoration-color: #008080\">  3.3</span> │ <span style=\"color: #008080; text-decoration-color: #008080\">  4.6</span> │ <span style=\"color: #008080; text-decoration-color: #008080\">  4.8</span> │ <span style=\"color: #008080; text-decoration-color: #008080\">  4.9</span> │ <span style=\"color: #008080; text-decoration-color: #008080\">   6.3</span> │ <span style=\"color: #008000; text-decoration-color: #008000\">   ▇▆  </span> │  │\n",
              "│ │ <span style=\"color: #af87ff; text-decoration-color: #af87ff\">fico_score       </span> │ <span style=\"color: #008080; text-decoration-color: #008080\">   0</span> │ <span style=\"color: #008080; text-decoration-color: #008080\">      0</span> │ <span style=\"color: #008080; text-decoration-color: #008080\">     710</span> │ <span style=\"color: #008080; text-decoration-color: #008080\">     38</span> │ <span style=\"color: #008080; text-decoration-color: #008080\">  610</span> │ <span style=\"color: #008080; text-decoration-color: #008080\">  680</span> │ <span style=\"color: #008080; text-decoration-color: #008080\">  710</span> │ <span style=\"color: #008080; text-decoration-color: #008080\">  740</span> │ <span style=\"color: #008080; text-decoration-color: #008080\">   830</span> │ <span style=\"color: #008000; text-decoration-color: #008000\"> ▆▇▆▃▁ </span> │  │\n",
              "│ │ <span style=\"color: #af87ff; text-decoration-color: #af87ff\">rev_balance      </span> │ <span style=\"color: #008080; text-decoration-color: #008080\">   0</span> │ <span style=\"color: #008080; text-decoration-color: #008080\">      0</span> │ <span style=\"color: #008080; text-decoration-color: #008080\">      16</span> │ <span style=\"color: #008080; text-decoration-color: #008080\">     30</span> │ <span style=\"color: #008080; text-decoration-color: #008080\">    0</span> │ <span style=\"color: #008080; text-decoration-color: #008080\">  3.2</span> │ <span style=\"color: #008080; text-decoration-color: #008080\">  8.6</span> │ <span style=\"color: #008080; text-decoration-color: #008080\">   18</span> │ <span style=\"color: #008080; text-decoration-color: #008080\">   950</span> │ <span style=\"color: #008000; text-decoration-color: #008000\">   ▇   </span> │  │\n",
              "│ │ <span style=\"color: #af87ff; text-decoration-color: #af87ff\">inquiries        </span> │ <span style=\"color: #008080; text-decoration-color: #008080\">   0</span> │ <span style=\"color: #008080; text-decoration-color: #008080\">      0</span> │ <span style=\"color: #008080; text-decoration-color: #008080\">     1.4</span> │ <span style=\"color: #008080; text-decoration-color: #008080\">      2</span> │ <span style=\"color: #008080; text-decoration-color: #008080\">    0</span> │ <span style=\"color: #008080; text-decoration-color: #008080\">    0</span> │ <span style=\"color: #008080; text-decoration-color: #008080\">    1</span> │ <span style=\"color: #008080; text-decoration-color: #008080\">    2</span> │ <span style=\"color: #008080; text-decoration-color: #008080\">    31</span> │ <span style=\"color: #008000; text-decoration-color: #008000\">   ▇   </span> │  │\n",
              "│ │ <span style=\"color: #af87ff; text-decoration-color: #af87ff\">records          </span> │ <span style=\"color: #008080; text-decoration-color: #008080\">   0</span> │ <span style=\"color: #008080; text-decoration-color: #008080\">      0</span> │ <span style=\"color: #008080; text-decoration-color: #008080\">   0.057</span> │ <span style=\"color: #008080; text-decoration-color: #008080\">   0.26</span> │ <span style=\"color: #008080; text-decoration-color: #008080\">    0</span> │ <span style=\"color: #008080; text-decoration-color: #008080\">    0</span> │ <span style=\"color: #008080; text-decoration-color: #008080\">    0</span> │ <span style=\"color: #008080; text-decoration-color: #008080\">    0</span> │ <span style=\"color: #008080; text-decoration-color: #008080\">     5</span> │ <span style=\"color: #008000; text-decoration-color: #008000\">   ▇   </span> │  │\n",
              "│ └───────────────────┴──────┴─────────┴──────────┴─────────┴───────┴───────┴───────┴───────┴────────┴─────────┘  │\n",
              "╰────────────────────────────────────────────────────── End ──────────────────────────────────────────────────────╯\n",
              "</pre>\n"
            ]
          },
          "metadata": {}
        }
      ],
      "source": [
        "# prompt:\n",
        "\n",
        "df_default = df[df['default'] == 1]\n",
        "df_no_default = df[df['default'] == 0]\n",
        "skim(df_default)\n",
        "skim(df_no_default)\n"
      ]
    },
    {
      "cell_type": "code",
      "execution_count": null,
      "metadata": {
        "colab": {
          "base_uri": "https://localhost:8080/",
          "height": 402
        },
        "id": "Y-5RA35LMvof",
        "outputId": "2d34afd3-21d3-41ba-8800-8ffa3af7cb5d"
      },
      "outputs": [
        {
          "output_type": "display_data",
          "data": {
            "text/plain": [
              "╭──────────────────────────────────────────────── skimpy summary ─────────────────────────────────────────────────╮\n",
              "│ \u001b[3m         Data Summary         \u001b[0m \u001b[3m      Data Types       \u001b[0m                                                          │\n",
              "│ ┏━━━━━━━━━━━━━━━━━━━┳━━━━━━━━┓ ┏━━━━━━━━━━━━━┳━━━━━━━┓                                                          │\n",
              "│ ┃\u001b[1;36m \u001b[0m\u001b[1;36mdataframe        \u001b[0m\u001b[1;36m \u001b[0m┃\u001b[1;36m \u001b[0m\u001b[1;36mValues\u001b[0m\u001b[1;36m \u001b[0m┃ ┃\u001b[1;36m \u001b[0m\u001b[1;36mColumn Type\u001b[0m\u001b[1;36m \u001b[0m┃\u001b[1;36m \u001b[0m\u001b[1;36mCount\u001b[0m\u001b[1;36m \u001b[0m┃                                                          │\n",
              "│ ┡━━━━━━━━━━━━━━━━━━━╇━━━━━━━━┩ ┡━━━━━━━━━━━━━╇━━━━━━━┩                                                          │\n",
              "│ │ Number of rows    │ 7995   │ │ int64       │ 5     │                                                          │\n",
              "│ │ Number of columns │ 7      │ │ float64     │ 2     │                                                          │\n",
              "│ └───────────────────┴────────┘ └─────────────┴───────┘                                                          │\n",
              "│ \u001b[3m                                                    number                                                    \u001b[0m  │\n",
              "│ ┏━━━━━━━━━━━━━━━━━━━┳━━━━━━┳━━━━━━━━━┳━━━━━━━━━━┳━━━━━━━━━┳━━━━━━━┳━━━━━━━┳━━━━━━━┳━━━━━━━┳━━━━━━━━┳━━━━━━━━━┓  │\n",
              "│ ┃\u001b[1m \u001b[0m\u001b[1mcolumn_name      \u001b[0m\u001b[1m \u001b[0m┃\u001b[1m \u001b[0m\u001b[1mNA  \u001b[0m\u001b[1m \u001b[0m┃\u001b[1m \u001b[0m\u001b[1mNA %   \u001b[0m\u001b[1m \u001b[0m┃\u001b[1m \u001b[0m\u001b[1mmean    \u001b[0m\u001b[1m \u001b[0m┃\u001b[1m \u001b[0m\u001b[1msd     \u001b[0m\u001b[1m \u001b[0m┃\u001b[1m \u001b[0m\u001b[1mp0   \u001b[0m\u001b[1m \u001b[0m┃\u001b[1m \u001b[0m\u001b[1mp25  \u001b[0m\u001b[1m \u001b[0m┃\u001b[1m \u001b[0m\u001b[1mp50  \u001b[0m\u001b[1m \u001b[0m┃\u001b[1m \u001b[0m\u001b[1mp75  \u001b[0m\u001b[1m \u001b[0m┃\u001b[1m \u001b[0m\u001b[1mp100  \u001b[0m\u001b[1m \u001b[0m┃\u001b[1m \u001b[0m\u001b[1mhist   \u001b[0m\u001b[1m \u001b[0m┃  │\n",
              "│ ┡━━━━━━━━━━━━━━━━━━━╇━━━━━━╇━━━━━━━━━╇━━━━━━━━━━╇━━━━━━━━━╇━━━━━━━╇━━━━━━━╇━━━━━━━╇━━━━━━━╇━━━━━━━━╇━━━━━━━━━┩  │\n",
              "│ │ \u001b[38;5;141mdefault          \u001b[0m │ \u001b[36m   0\u001b[0m │ \u001b[36m      0\u001b[0m │ \u001b[36m       0\u001b[0m │ \u001b[36m      0\u001b[0m │ \u001b[36m    0\u001b[0m │ \u001b[36m    0\u001b[0m │ \u001b[36m    0\u001b[0m │ \u001b[36m    0\u001b[0m │ \u001b[36m     0\u001b[0m │ \u001b[32m    ▇  \u001b[0m │  │\n",
              "│ │ \u001b[38;5;141minstallment      \u001b[0m │ \u001b[36m   0\u001b[0m │ \u001b[36m      0\u001b[0m │ \u001b[36m     320\u001b[0m │ \u001b[36m    200\u001b[0m │ \u001b[36m   16\u001b[0m │ \u001b[36m  160\u001b[0m │ \u001b[36m  270\u001b[0m │ \u001b[36m  430\u001b[0m │ \u001b[36m   940\u001b[0m │ \u001b[32m▇▇▅▃▂▁ \u001b[0m │  │\n",
              "│ │ \u001b[38;5;141mlog_income       \u001b[0m │ \u001b[36m   0\u001b[0m │ \u001b[36m      0\u001b[0m │ \u001b[36m     4.8\u001b[0m │ \u001b[36m   0.26\u001b[0m │ \u001b[36m  3.3\u001b[0m │ \u001b[36m  4.6\u001b[0m │ \u001b[36m  4.8\u001b[0m │ \u001b[36m  4.9\u001b[0m │ \u001b[36m   6.3\u001b[0m │ \u001b[32m   ▇▆  \u001b[0m │  │\n",
              "│ │ \u001b[38;5;141mfico_score       \u001b[0m │ \u001b[36m   0\u001b[0m │ \u001b[36m      0\u001b[0m │ \u001b[36m     710\u001b[0m │ \u001b[36m     38\u001b[0m │ \u001b[36m  610\u001b[0m │ \u001b[36m  680\u001b[0m │ \u001b[36m  710\u001b[0m │ \u001b[36m  740\u001b[0m │ \u001b[36m   830\u001b[0m │ \u001b[32m ▆▇▆▃▁ \u001b[0m │  │\n",
              "│ │ \u001b[38;5;141mrev_balance      \u001b[0m │ \u001b[36m   0\u001b[0m │ \u001b[36m      0\u001b[0m │ \u001b[36m      16\u001b[0m │ \u001b[36m     30\u001b[0m │ \u001b[36m    0\u001b[0m │ \u001b[36m  3.2\u001b[0m │ \u001b[36m  8.6\u001b[0m │ \u001b[36m   18\u001b[0m │ \u001b[36m   950\u001b[0m │ \u001b[32m   ▇   \u001b[0m │  │\n",
              "│ │ \u001b[38;5;141minquiries        \u001b[0m │ \u001b[36m   0\u001b[0m │ \u001b[36m      0\u001b[0m │ \u001b[36m     1.4\u001b[0m │ \u001b[36m      2\u001b[0m │ \u001b[36m    0\u001b[0m │ \u001b[36m    0\u001b[0m │ \u001b[36m    1\u001b[0m │ \u001b[36m    2\u001b[0m │ \u001b[36m    31\u001b[0m │ \u001b[32m   ▇   \u001b[0m │  │\n",
              "│ │ \u001b[38;5;141mrecords          \u001b[0m │ \u001b[36m   0\u001b[0m │ \u001b[36m      0\u001b[0m │ \u001b[36m   0.057\u001b[0m │ \u001b[36m   0.26\u001b[0m │ \u001b[36m    0\u001b[0m │ \u001b[36m    0\u001b[0m │ \u001b[36m    0\u001b[0m │ \u001b[36m    0\u001b[0m │ \u001b[36m     5\u001b[0m │ \u001b[32m   ▇   \u001b[0m │  │\n",
              "│ └───────────────────┴──────┴─────────┴──────────┴─────────┴───────┴───────┴───────┴───────┴────────┴─────────┘  │\n",
              "╰────────────────────────────────────────────────────── End ──────────────────────────────────────────────────────╯\n"
            ],
            "text/html": [
              "<pre style=\"white-space:pre;overflow-x:auto;line-height:normal;font-family:Menlo,'DejaVu Sans Mono',consolas,'Courier New',monospace\">╭──────────────────────────────────────────────── skimpy summary ─────────────────────────────────────────────────╮\n",
              "│ <span style=\"font-style: italic\">         Data Summary         </span> <span style=\"font-style: italic\">      Data Types       </span>                                                          │\n",
              "│ ┏━━━━━━━━━━━━━━━━━━━┳━━━━━━━━┓ ┏━━━━━━━━━━━━━┳━━━━━━━┓                                                          │\n",
              "│ ┃<span style=\"color: #008080; text-decoration-color: #008080; font-weight: bold\"> dataframe         </span>┃<span style=\"color: #008080; text-decoration-color: #008080; font-weight: bold\"> Values </span>┃ ┃<span style=\"color: #008080; text-decoration-color: #008080; font-weight: bold\"> Column Type </span>┃<span style=\"color: #008080; text-decoration-color: #008080; font-weight: bold\"> Count </span>┃                                                          │\n",
              "│ ┡━━━━━━━━━━━━━━━━━━━╇━━━━━━━━┩ ┡━━━━━━━━━━━━━╇━━━━━━━┩                                                          │\n",
              "│ │ Number of rows    │ 7995   │ │ int64       │ 5     │                                                          │\n",
              "│ │ Number of columns │ 7      │ │ float64     │ 2     │                                                          │\n",
              "│ └───────────────────┴────────┘ └─────────────┴───────┘                                                          │\n",
              "│ <span style=\"font-style: italic\">                                                    number                                                    </span>  │\n",
              "│ ┏━━━━━━━━━━━━━━━━━━━┳━━━━━━┳━━━━━━━━━┳━━━━━━━━━━┳━━━━━━━━━┳━━━━━━━┳━━━━━━━┳━━━━━━━┳━━━━━━━┳━━━━━━━━┳━━━━━━━━━┓  │\n",
              "│ ┃<span style=\"font-weight: bold\"> column_name       </span>┃<span style=\"font-weight: bold\"> NA   </span>┃<span style=\"font-weight: bold\"> NA %    </span>┃<span style=\"font-weight: bold\"> mean     </span>┃<span style=\"font-weight: bold\"> sd      </span>┃<span style=\"font-weight: bold\"> p0    </span>┃<span style=\"font-weight: bold\"> p25   </span>┃<span style=\"font-weight: bold\"> p50   </span>┃<span style=\"font-weight: bold\"> p75   </span>┃<span style=\"font-weight: bold\"> p100   </span>┃<span style=\"font-weight: bold\"> hist    </span>┃  │\n",
              "│ ┡━━━━━━━━━━━━━━━━━━━╇━━━━━━╇━━━━━━━━━╇━━━━━━━━━━╇━━━━━━━━━╇━━━━━━━╇━━━━━━━╇━━━━━━━╇━━━━━━━╇━━━━━━━━╇━━━━━━━━━┩  │\n",
              "│ │ <span style=\"color: #af87ff; text-decoration-color: #af87ff\">default          </span> │ <span style=\"color: #008080; text-decoration-color: #008080\">   0</span> │ <span style=\"color: #008080; text-decoration-color: #008080\">      0</span> │ <span style=\"color: #008080; text-decoration-color: #008080\">       0</span> │ <span style=\"color: #008080; text-decoration-color: #008080\">      0</span> │ <span style=\"color: #008080; text-decoration-color: #008080\">    0</span> │ <span style=\"color: #008080; text-decoration-color: #008080\">    0</span> │ <span style=\"color: #008080; text-decoration-color: #008080\">    0</span> │ <span style=\"color: #008080; text-decoration-color: #008080\">    0</span> │ <span style=\"color: #008080; text-decoration-color: #008080\">     0</span> │ <span style=\"color: #008000; text-decoration-color: #008000\">    ▇  </span> │  │\n",
              "│ │ <span style=\"color: #af87ff; text-decoration-color: #af87ff\">installment      </span> │ <span style=\"color: #008080; text-decoration-color: #008080\">   0</span> │ <span style=\"color: #008080; text-decoration-color: #008080\">      0</span> │ <span style=\"color: #008080; text-decoration-color: #008080\">     320</span> │ <span style=\"color: #008080; text-decoration-color: #008080\">    200</span> │ <span style=\"color: #008080; text-decoration-color: #008080\">   16</span> │ <span style=\"color: #008080; text-decoration-color: #008080\">  160</span> │ <span style=\"color: #008080; text-decoration-color: #008080\">  270</span> │ <span style=\"color: #008080; text-decoration-color: #008080\">  430</span> │ <span style=\"color: #008080; text-decoration-color: #008080\">   940</span> │ <span style=\"color: #008000; text-decoration-color: #008000\">▇▇▅▃▂▁ </span> │  │\n",
              "│ │ <span style=\"color: #af87ff; text-decoration-color: #af87ff\">log_income       </span> │ <span style=\"color: #008080; text-decoration-color: #008080\">   0</span> │ <span style=\"color: #008080; text-decoration-color: #008080\">      0</span> │ <span style=\"color: #008080; text-decoration-color: #008080\">     4.8</span> │ <span style=\"color: #008080; text-decoration-color: #008080\">   0.26</span> │ <span style=\"color: #008080; text-decoration-color: #008080\">  3.3</span> │ <span style=\"color: #008080; text-decoration-color: #008080\">  4.6</span> │ <span style=\"color: #008080; text-decoration-color: #008080\">  4.8</span> │ <span style=\"color: #008080; text-decoration-color: #008080\">  4.9</span> │ <span style=\"color: #008080; text-decoration-color: #008080\">   6.3</span> │ <span style=\"color: #008000; text-decoration-color: #008000\">   ▇▆  </span> │  │\n",
              "│ │ <span style=\"color: #af87ff; text-decoration-color: #af87ff\">fico_score       </span> │ <span style=\"color: #008080; text-decoration-color: #008080\">   0</span> │ <span style=\"color: #008080; text-decoration-color: #008080\">      0</span> │ <span style=\"color: #008080; text-decoration-color: #008080\">     710</span> │ <span style=\"color: #008080; text-decoration-color: #008080\">     38</span> │ <span style=\"color: #008080; text-decoration-color: #008080\">  610</span> │ <span style=\"color: #008080; text-decoration-color: #008080\">  680</span> │ <span style=\"color: #008080; text-decoration-color: #008080\">  710</span> │ <span style=\"color: #008080; text-decoration-color: #008080\">  740</span> │ <span style=\"color: #008080; text-decoration-color: #008080\">   830</span> │ <span style=\"color: #008000; text-decoration-color: #008000\"> ▆▇▆▃▁ </span> │  │\n",
              "│ │ <span style=\"color: #af87ff; text-decoration-color: #af87ff\">rev_balance      </span> │ <span style=\"color: #008080; text-decoration-color: #008080\">   0</span> │ <span style=\"color: #008080; text-decoration-color: #008080\">      0</span> │ <span style=\"color: #008080; text-decoration-color: #008080\">      16</span> │ <span style=\"color: #008080; text-decoration-color: #008080\">     30</span> │ <span style=\"color: #008080; text-decoration-color: #008080\">    0</span> │ <span style=\"color: #008080; text-decoration-color: #008080\">  3.2</span> │ <span style=\"color: #008080; text-decoration-color: #008080\">  8.6</span> │ <span style=\"color: #008080; text-decoration-color: #008080\">   18</span> │ <span style=\"color: #008080; text-decoration-color: #008080\">   950</span> │ <span style=\"color: #008000; text-decoration-color: #008000\">   ▇   </span> │  │\n",
              "│ │ <span style=\"color: #af87ff; text-decoration-color: #af87ff\">inquiries        </span> │ <span style=\"color: #008080; text-decoration-color: #008080\">   0</span> │ <span style=\"color: #008080; text-decoration-color: #008080\">      0</span> │ <span style=\"color: #008080; text-decoration-color: #008080\">     1.4</span> │ <span style=\"color: #008080; text-decoration-color: #008080\">      2</span> │ <span style=\"color: #008080; text-decoration-color: #008080\">    0</span> │ <span style=\"color: #008080; text-decoration-color: #008080\">    0</span> │ <span style=\"color: #008080; text-decoration-color: #008080\">    1</span> │ <span style=\"color: #008080; text-decoration-color: #008080\">    2</span> │ <span style=\"color: #008080; text-decoration-color: #008080\">    31</span> │ <span style=\"color: #008000; text-decoration-color: #008000\">   ▇   </span> │  │\n",
              "│ │ <span style=\"color: #af87ff; text-decoration-color: #af87ff\">records          </span> │ <span style=\"color: #008080; text-decoration-color: #008080\">   0</span> │ <span style=\"color: #008080; text-decoration-color: #008080\">      0</span> │ <span style=\"color: #008080; text-decoration-color: #008080\">   0.057</span> │ <span style=\"color: #008080; text-decoration-color: #008080\">   0.26</span> │ <span style=\"color: #008080; text-decoration-color: #008080\">    0</span> │ <span style=\"color: #008080; text-decoration-color: #008080\">    0</span> │ <span style=\"color: #008080; text-decoration-color: #008080\">    0</span> │ <span style=\"color: #008080; text-decoration-color: #008080\">    0</span> │ <span style=\"color: #008080; text-decoration-color: #008080\">     5</span> │ <span style=\"color: #008000; text-decoration-color: #008000\">   ▇   </span> │  │\n",
              "│ └───────────────────┴──────┴─────────┴──────────┴─────────┴───────┴───────┴───────┴───────┴────────┴─────────┘  │\n",
              "╰────────────────────────────────────────────────────── End ──────────────────────────────────────────────────────╯\n",
              "</pre>\n"
            ]
          },
          "metadata": {}
        }
      ],
      "source": [
        "# subset dataframe for default is 0\n",
        "# 0=Buy, 1=Hold, 2=Sell\n",
        "skim(df[df['default']==0])"
      ]
    },
    {
      "cell_type": "code",
      "execution_count": null,
      "metadata": {
        "colab": {
          "base_uri": "https://localhost:8080/",
          "height": 398
        },
        "id": "nPAGhUIsD4A9",
        "outputId": "c3dbd181-74ca-49fb-e6e8-4ebbb4b20755"
      },
      "outputs": [
        {
          "output_type": "display_data",
          "data": {
            "text/plain": [
              "╭──────────────────────────────────────────────── skimpy summary ─────────────────────────────────────────────────╮\n",
              "│ \u001b[3m         Data Summary         \u001b[0m \u001b[3m      Data Types       \u001b[0m                                                          │\n",
              "│ ┏━━━━━━━━━━━━━━━━━━━┳━━━━━━━━┓ ┏━━━━━━━━━━━━━┳━━━━━━━┓                                                          │\n",
              "│ ┃\u001b[1;36m \u001b[0m\u001b[1;36mdataframe        \u001b[0m\u001b[1;36m \u001b[0m┃\u001b[1;36m \u001b[0m\u001b[1;36mValues\u001b[0m\u001b[1;36m \u001b[0m┃ ┃\u001b[1;36m \u001b[0m\u001b[1;36mColumn Type\u001b[0m\u001b[1;36m \u001b[0m┃\u001b[1;36m \u001b[0m\u001b[1;36mCount\u001b[0m\u001b[1;36m \u001b[0m┃                                                          │\n",
              "│ ┡━━━━━━━━━━━━━━━━━━━╇━━━━━━━━┩ ┡━━━━━━━━━━━━━╇━━━━━━━┩                                                          │\n",
              "│ │ Number of rows    │ 1521   │ │ int64       │ 5     │                                                          │\n",
              "│ │ Number of columns │ 7      │ │ float64     │ 2     │                                                          │\n",
              "│ └───────────────────┴────────┘ └─────────────┴───────┘                                                          │\n",
              "│ \u001b[3m                                                    number                                                    \u001b[0m  │\n",
              "│ ┏━━━━━━━━━━━━━━━━━━━┳━━━━━━┳━━━━━━━━━┳━━━━━━━━━━┳━━━━━━━━━┳━━━━━━━┳━━━━━━━┳━━━━━━━┳━━━━━━━┳━━━━━━━━┳━━━━━━━━━┓  │\n",
              "│ ┃\u001b[1m \u001b[0m\u001b[1mcolumn_name      \u001b[0m\u001b[1m \u001b[0m┃\u001b[1m \u001b[0m\u001b[1mNA  \u001b[0m\u001b[1m \u001b[0m┃\u001b[1m \u001b[0m\u001b[1mNA %   \u001b[0m\u001b[1m \u001b[0m┃\u001b[1m \u001b[0m\u001b[1mmean    \u001b[0m\u001b[1m \u001b[0m┃\u001b[1m \u001b[0m\u001b[1msd     \u001b[0m\u001b[1m \u001b[0m┃\u001b[1m \u001b[0m\u001b[1mp0   \u001b[0m\u001b[1m \u001b[0m┃\u001b[1m \u001b[0m\u001b[1mp25  \u001b[0m\u001b[1m \u001b[0m┃\u001b[1m \u001b[0m\u001b[1mp50  \u001b[0m\u001b[1m \u001b[0m┃\u001b[1m \u001b[0m\u001b[1mp75  \u001b[0m\u001b[1m \u001b[0m┃\u001b[1m \u001b[0m\u001b[1mp100  \u001b[0m\u001b[1m \u001b[0m┃\u001b[1m \u001b[0m\u001b[1mhist   \u001b[0m\u001b[1m \u001b[0m┃  │\n",
              "│ ┡━━━━━━━━━━━━━━━━━━━╇━━━━━━╇━━━━━━━━━╇━━━━━━━━━━╇━━━━━━━━━╇━━━━━━━╇━━━━━━━╇━━━━━━━╇━━━━━━━╇━━━━━━━━╇━━━━━━━━━┩  │\n",
              "│ │ \u001b[38;5;141mdefault          \u001b[0m │ \u001b[36m   0\u001b[0m │ \u001b[36m      0\u001b[0m │ \u001b[36m       1\u001b[0m │ \u001b[36m      0\u001b[0m │ \u001b[36m    1\u001b[0m │ \u001b[36m    1\u001b[0m │ \u001b[36m    1\u001b[0m │ \u001b[36m    1\u001b[0m │ \u001b[36m     1\u001b[0m │ \u001b[32m    ▇  \u001b[0m │  │\n",
              "│ │ \u001b[38;5;141minstallment      \u001b[0m │ \u001b[36m   0\u001b[0m │ \u001b[36m      0\u001b[0m │ \u001b[36m     340\u001b[0m │ \u001b[36m    220\u001b[0m │ \u001b[36m   16\u001b[0m │ \u001b[36m  170\u001b[0m │ \u001b[36m  290\u001b[0m │ \u001b[36m  490\u001b[0m │ \u001b[36m   930\u001b[0m │ \u001b[32m▆▇▅▃▂▂ \u001b[0m │  │\n",
              "│ │ \u001b[38;5;141mlog_income       \u001b[0m │ \u001b[36m   0\u001b[0m │ \u001b[36m      0\u001b[0m │ \u001b[36m     4.7\u001b[0m │ \u001b[36m   0.29\u001b[0m │ \u001b[36m  3.3\u001b[0m │ \u001b[36m  4.6\u001b[0m │ \u001b[36m  4.7\u001b[0m │ \u001b[36m  4.9\u001b[0m │ \u001b[36m   5.8\u001b[0m │ \u001b[32m   ▃▇▂ \u001b[0m │  │\n",
              "│ │ \u001b[38;5;141mfico_score       \u001b[0m │ \u001b[36m   0\u001b[0m │ \u001b[36m      0\u001b[0m │ \u001b[36m     700\u001b[0m │ \u001b[36m     34\u001b[0m │ \u001b[36m  620\u001b[0m │ \u001b[36m  670\u001b[0m │ \u001b[36m  690\u001b[0m │ \u001b[36m  720\u001b[0m │ \u001b[36m   820\u001b[0m │ \u001b[32m ▁▇▇▃▁ \u001b[0m │  │\n",
              "│ │ \u001b[38;5;141mrev_balance      \u001b[0m │ \u001b[36m   0\u001b[0m │ \u001b[36m      0\u001b[0m │ \u001b[36m      21\u001b[0m │ \u001b[36m     50\u001b[0m │ \u001b[36m    0\u001b[0m │ \u001b[36m  3.4\u001b[0m │ \u001b[36m  8.9\u001b[0m │ \u001b[36m   21\u001b[0m │ \u001b[36m  1200\u001b[0m │ \u001b[32m   ▇   \u001b[0m │  │\n",
              "│ │ \u001b[38;5;141minquiries        \u001b[0m │ \u001b[36m   0\u001b[0m │ \u001b[36m      0\u001b[0m │ \u001b[36m     2.3\u001b[0m │ \u001b[36m    2.9\u001b[0m │ \u001b[36m    0\u001b[0m │ \u001b[36m    0\u001b[0m │ \u001b[36m    1\u001b[0m │ \u001b[36m    3\u001b[0m │ \u001b[36m    33\u001b[0m │ \u001b[32m  ▇▁   \u001b[0m │  │\n",
              "│ │ \u001b[38;5;141mrecords          \u001b[0m │ \u001b[36m   0\u001b[0m │ \u001b[36m      0\u001b[0m │ \u001b[36m   0.092\u001b[0m │ \u001b[36m   0.29\u001b[0m │ \u001b[36m    0\u001b[0m │ \u001b[36m    0\u001b[0m │ \u001b[36m    0\u001b[0m │ \u001b[36m    0\u001b[0m │ \u001b[36m     2\u001b[0m │ \u001b[32m ▇  ▁  \u001b[0m │  │\n",
              "│ └───────────────────┴──────┴─────────┴──────────┴─────────┴───────┴───────┴───────┴───────┴────────┴─────────┘  │\n",
              "╰────────────────────────────────────────────────────── End ──────────────────────────────────────────────────────╯\n"
            ],
            "text/html": [
              "<pre style=\"white-space:pre;overflow-x:auto;line-height:normal;font-family:Menlo,'DejaVu Sans Mono',consolas,'Courier New',monospace\">╭──────────────────────────────────────────────── skimpy summary ─────────────────────────────────────────────────╮\n",
              "│ <span style=\"font-style: italic\">         Data Summary         </span> <span style=\"font-style: italic\">      Data Types       </span>                                                          │\n",
              "│ ┏━━━━━━━━━━━━━━━━━━━┳━━━━━━━━┓ ┏━━━━━━━━━━━━━┳━━━━━━━┓                                                          │\n",
              "│ ┃<span style=\"color: #008080; text-decoration-color: #008080; font-weight: bold\"> dataframe         </span>┃<span style=\"color: #008080; text-decoration-color: #008080; font-weight: bold\"> Values </span>┃ ┃<span style=\"color: #008080; text-decoration-color: #008080; font-weight: bold\"> Column Type </span>┃<span style=\"color: #008080; text-decoration-color: #008080; font-weight: bold\"> Count </span>┃                                                          │\n",
              "│ ┡━━━━━━━━━━━━━━━━━━━╇━━━━━━━━┩ ┡━━━━━━━━━━━━━╇━━━━━━━┩                                                          │\n",
              "│ │ Number of rows    │ 1521   │ │ int64       │ 5     │                                                          │\n",
              "│ │ Number of columns │ 7      │ │ float64     │ 2     │                                                          │\n",
              "│ └───────────────────┴────────┘ └─────────────┴───────┘                                                          │\n",
              "│ <span style=\"font-style: italic\">                                                    number                                                    </span>  │\n",
              "│ ┏━━━━━━━━━━━━━━━━━━━┳━━━━━━┳━━━━━━━━━┳━━━━━━━━━━┳━━━━━━━━━┳━━━━━━━┳━━━━━━━┳━━━━━━━┳━━━━━━━┳━━━━━━━━┳━━━━━━━━━┓  │\n",
              "│ ┃<span style=\"font-weight: bold\"> column_name       </span>┃<span style=\"font-weight: bold\"> NA   </span>┃<span style=\"font-weight: bold\"> NA %    </span>┃<span style=\"font-weight: bold\"> mean     </span>┃<span style=\"font-weight: bold\"> sd      </span>┃<span style=\"font-weight: bold\"> p0    </span>┃<span style=\"font-weight: bold\"> p25   </span>┃<span style=\"font-weight: bold\"> p50   </span>┃<span style=\"font-weight: bold\"> p75   </span>┃<span style=\"font-weight: bold\"> p100   </span>┃<span style=\"font-weight: bold\"> hist    </span>┃  │\n",
              "│ ┡━━━━━━━━━━━━━━━━━━━╇━━━━━━╇━━━━━━━━━╇━━━━━━━━━━╇━━━━━━━━━╇━━━━━━━╇━━━━━━━╇━━━━━━━╇━━━━━━━╇━━━━━━━━╇━━━━━━━━━┩  │\n",
              "│ │ <span style=\"color: #af87ff; text-decoration-color: #af87ff\">default          </span> │ <span style=\"color: #008080; text-decoration-color: #008080\">   0</span> │ <span style=\"color: #008080; text-decoration-color: #008080\">      0</span> │ <span style=\"color: #008080; text-decoration-color: #008080\">       1</span> │ <span style=\"color: #008080; text-decoration-color: #008080\">      0</span> │ <span style=\"color: #008080; text-decoration-color: #008080\">    1</span> │ <span style=\"color: #008080; text-decoration-color: #008080\">    1</span> │ <span style=\"color: #008080; text-decoration-color: #008080\">    1</span> │ <span style=\"color: #008080; text-decoration-color: #008080\">    1</span> │ <span style=\"color: #008080; text-decoration-color: #008080\">     1</span> │ <span style=\"color: #008000; text-decoration-color: #008000\">    ▇  </span> │  │\n",
              "│ │ <span style=\"color: #af87ff; text-decoration-color: #af87ff\">installment      </span> │ <span style=\"color: #008080; text-decoration-color: #008080\">   0</span> │ <span style=\"color: #008080; text-decoration-color: #008080\">      0</span> │ <span style=\"color: #008080; text-decoration-color: #008080\">     340</span> │ <span style=\"color: #008080; text-decoration-color: #008080\">    220</span> │ <span style=\"color: #008080; text-decoration-color: #008080\">   16</span> │ <span style=\"color: #008080; text-decoration-color: #008080\">  170</span> │ <span style=\"color: #008080; text-decoration-color: #008080\">  290</span> │ <span style=\"color: #008080; text-decoration-color: #008080\">  490</span> │ <span style=\"color: #008080; text-decoration-color: #008080\">   930</span> │ <span style=\"color: #008000; text-decoration-color: #008000\">▆▇▅▃▂▂ </span> │  │\n",
              "│ │ <span style=\"color: #af87ff; text-decoration-color: #af87ff\">log_income       </span> │ <span style=\"color: #008080; text-decoration-color: #008080\">   0</span> │ <span style=\"color: #008080; text-decoration-color: #008080\">      0</span> │ <span style=\"color: #008080; text-decoration-color: #008080\">     4.7</span> │ <span style=\"color: #008080; text-decoration-color: #008080\">   0.29</span> │ <span style=\"color: #008080; text-decoration-color: #008080\">  3.3</span> │ <span style=\"color: #008080; text-decoration-color: #008080\">  4.6</span> │ <span style=\"color: #008080; text-decoration-color: #008080\">  4.7</span> │ <span style=\"color: #008080; text-decoration-color: #008080\">  4.9</span> │ <span style=\"color: #008080; text-decoration-color: #008080\">   5.8</span> │ <span style=\"color: #008000; text-decoration-color: #008000\">   ▃▇▂ </span> │  │\n",
              "│ │ <span style=\"color: #af87ff; text-decoration-color: #af87ff\">fico_score       </span> │ <span style=\"color: #008080; text-decoration-color: #008080\">   0</span> │ <span style=\"color: #008080; text-decoration-color: #008080\">      0</span> │ <span style=\"color: #008080; text-decoration-color: #008080\">     700</span> │ <span style=\"color: #008080; text-decoration-color: #008080\">     34</span> │ <span style=\"color: #008080; text-decoration-color: #008080\">  620</span> │ <span style=\"color: #008080; text-decoration-color: #008080\">  670</span> │ <span style=\"color: #008080; text-decoration-color: #008080\">  690</span> │ <span style=\"color: #008080; text-decoration-color: #008080\">  720</span> │ <span style=\"color: #008080; text-decoration-color: #008080\">   820</span> │ <span style=\"color: #008000; text-decoration-color: #008000\"> ▁▇▇▃▁ </span> │  │\n",
              "│ │ <span style=\"color: #af87ff; text-decoration-color: #af87ff\">rev_balance      </span> │ <span style=\"color: #008080; text-decoration-color: #008080\">   0</span> │ <span style=\"color: #008080; text-decoration-color: #008080\">      0</span> │ <span style=\"color: #008080; text-decoration-color: #008080\">      21</span> │ <span style=\"color: #008080; text-decoration-color: #008080\">     50</span> │ <span style=\"color: #008080; text-decoration-color: #008080\">    0</span> │ <span style=\"color: #008080; text-decoration-color: #008080\">  3.4</span> │ <span style=\"color: #008080; text-decoration-color: #008080\">  8.9</span> │ <span style=\"color: #008080; text-decoration-color: #008080\">   21</span> │ <span style=\"color: #008080; text-decoration-color: #008080\">  1200</span> │ <span style=\"color: #008000; text-decoration-color: #008000\">   ▇   </span> │  │\n",
              "│ │ <span style=\"color: #af87ff; text-decoration-color: #af87ff\">inquiries        </span> │ <span style=\"color: #008080; text-decoration-color: #008080\">   0</span> │ <span style=\"color: #008080; text-decoration-color: #008080\">      0</span> │ <span style=\"color: #008080; text-decoration-color: #008080\">     2.3</span> │ <span style=\"color: #008080; text-decoration-color: #008080\">    2.9</span> │ <span style=\"color: #008080; text-decoration-color: #008080\">    0</span> │ <span style=\"color: #008080; text-decoration-color: #008080\">    0</span> │ <span style=\"color: #008080; text-decoration-color: #008080\">    1</span> │ <span style=\"color: #008080; text-decoration-color: #008080\">    3</span> │ <span style=\"color: #008080; text-decoration-color: #008080\">    33</span> │ <span style=\"color: #008000; text-decoration-color: #008000\">  ▇▁   </span> │  │\n",
              "│ │ <span style=\"color: #af87ff; text-decoration-color: #af87ff\">records          </span> │ <span style=\"color: #008080; text-decoration-color: #008080\">   0</span> │ <span style=\"color: #008080; text-decoration-color: #008080\">      0</span> │ <span style=\"color: #008080; text-decoration-color: #008080\">   0.092</span> │ <span style=\"color: #008080; text-decoration-color: #008080\">   0.29</span> │ <span style=\"color: #008080; text-decoration-color: #008080\">    0</span> │ <span style=\"color: #008080; text-decoration-color: #008080\">    0</span> │ <span style=\"color: #008080; text-decoration-color: #008080\">    0</span> │ <span style=\"color: #008080; text-decoration-color: #008080\">    0</span> │ <span style=\"color: #008080; text-decoration-color: #008080\">     2</span> │ <span style=\"color: #008000; text-decoration-color: #008000\"> ▇  ▁  </span> │  │\n",
              "│ └───────────────────┴──────┴─────────┴──────────┴─────────┴───────┴───────┴───────┴───────┴────────┴─────────┘  │\n",
              "╰────────────────────────────────────────────────────── End ──────────────────────────────────────────────────────╯\n",
              "</pre>\n"
            ]
          },
          "metadata": {}
        }
      ],
      "source": [
        "# subset dataframe for default is 1\n",
        "skim(df[df['default']==1])"
      ]
    },
    {
      "cell_type": "code",
      "execution_count": null,
      "metadata": {
        "colab": {
          "base_uri": "https://localhost:8080/",
          "height": 321
        },
        "id": "YoiV1FzNp8D1",
        "outputId": "2abf5e5c-7e4c-4a84-c781-829cd05ef92f"
      },
      "outputs": [
        {
          "output_type": "error",
          "ename": "ValueError",
          "evalue": "Your input dataframe only has unsupported column types, eg mixed-integer, mixed, mixed-integer-float, unknown-array",
          "traceback": [
            "\u001b[0;31m---------------------------------------------------------------------------\u001b[0m",
            "\u001b[0;31mValueError\u001b[0m                                Traceback (most recent call last)",
            "\u001b[0;32m<ipython-input-11-f0041780bab1>\u001b[0m in \u001b[0;36m<cell line: 1>\u001b[0;34m()\u001b[0m\n\u001b[0;32m----> 1\u001b[0;31m \u001b[0mskim\u001b[0m\u001b[0;34m(\u001b[0m\u001b[0mdf\u001b[0m\u001b[0;34m[\u001b[0m\u001b[0mdf\u001b[0m\u001b[0;34m[\u001b[0m\u001b[0;34m'default'\u001b[0m\u001b[0;34m]\u001b[0m\u001b[0;34m==\u001b[0m\u001b[0;36m2\u001b[0m\u001b[0;34m]\u001b[0m\u001b[0;34m)\u001b[0m\u001b[0;34m\u001b[0m\u001b[0;34m\u001b[0m\u001b[0m\n\u001b[0m",
            "\u001b[0;32m/usr/local/lib/python3.10/dist-packages/skimpy/__init__.py\u001b[0m in \u001b[0;36mskim\u001b[0;34m(df_in, return_data, header_style)\u001b[0m\n\u001b[1;32m    660\u001b[0m     \u001b[0mdf\u001b[0m \u001b[0;34m=\u001b[0m \u001b[0mdf_in\u001b[0m\u001b[0;34m.\u001b[0m\u001b[0mcopy\u001b[0m\u001b[0;34m(\u001b[0m\u001b[0;34m)\u001b[0m\u001b[0;34m\u001b[0m\u001b[0;34m\u001b[0m\u001b[0m\n\u001b[1;32m    661\u001b[0m     \u001b[0;31m# remove any columns with types that are not currently supported\u001b[0m\u001b[0;34m\u001b[0m\u001b[0;34m\u001b[0m\u001b[0m\n\u001b[0;32m--> 662\u001b[0;31m     \u001b[0mdf\u001b[0m \u001b[0;34m=\u001b[0m \u001b[0m_delete_unsupported_columns\u001b[0m\u001b[0;34m(\u001b[0m\u001b[0mdf\u001b[0m\u001b[0;34m)\u001b[0m\u001b[0;34m\u001b[0m\u001b[0;34m\u001b[0m\u001b[0m\n\u001b[0m\u001b[1;32m    663\u001b[0m     \u001b[0;31m# Perform inference of datatypes\u001b[0m\u001b[0;34m\u001b[0m\u001b[0;34m\u001b[0m\u001b[0m\n\u001b[1;32m    664\u001b[0m     \u001b[0mdf\u001b[0m \u001b[0;34m=\u001b[0m \u001b[0m_infer_datatypes\u001b[0m\u001b[0;34m(\u001b[0m\u001b[0mdf\u001b[0m\u001b[0;34m)\u001b[0m\u001b[0;34m\u001b[0m\u001b[0;34m\u001b[0m\u001b[0m\n",
            "\u001b[0;32m/usr/local/lib/python3.10/dist-packages/skimpy/__init__.py\u001b[0m in \u001b[0;36m_delete_unsupported_columns\u001b[0;34m(df)\u001b[0m\n\u001b[1;32m    557\u001b[0m             \u001b[0mdf\u001b[0m \u001b[0;34m=\u001b[0m \u001b[0mdf\u001b[0m\u001b[0;34m.\u001b[0m\u001b[0mdrop\u001b[0m\u001b[0;34m(\u001b[0m\u001b[0mrow\u001b[0m\u001b[0;34m[\u001b[0m\u001b[0;34m\"column\"\u001b[0m\u001b[0;34m]\u001b[0m\u001b[0;34m,\u001b[0m \u001b[0maxis\u001b[0m\u001b[0;34m=\u001b[0m\u001b[0;36m1\u001b[0m\u001b[0;34m)\u001b[0m\u001b[0;34m\u001b[0m\u001b[0;34m\u001b[0m\u001b[0m\n\u001b[1;32m    558\u001b[0m     \u001b[0;32mif\u001b[0m \u001b[0mdf\u001b[0m\u001b[0;34m.\u001b[0m\u001b[0mempty\u001b[0m\u001b[0;34m:\u001b[0m\u001b[0;34m\u001b[0m\u001b[0;34m\u001b[0m\u001b[0m\n\u001b[0;32m--> 559\u001b[0;31m         raise ValueError(\n\u001b[0m\u001b[1;32m    560\u001b[0m             \u001b[0;34mf\"Your input dataframe only has unsupported column types, eg {', '.join(UNSUPPORTED_INFERRED_TYPES)}\"\u001b[0m\u001b[0;34m\u001b[0m\u001b[0;34m\u001b[0m\u001b[0m\n\u001b[1;32m    561\u001b[0m         )\n",
            "\u001b[0;31mValueError\u001b[0m: Your input dataframe only has unsupported column types, eg mixed-integer, mixed, mixed-integer-float, unknown-array"
          ]
        }
      ],
      "source": [
        "skim(df[df['default']==2])\n"
      ]
    },
    {
      "cell_type": "markdown",
      "metadata": {
        "id": "CECz1FFLuqSo"
      },
      "source": [
        "Lets take a look at defaults vs. inquiries via a scatter plot, just like we did for Blue Bike rentals vs. temeperature when we looked at Linear Regression. Shows binary nature variable of target variable."
      ]
    },
    {
      "cell_type": "code",
      "execution_count": null,
      "metadata": {
        "colab": {
          "base_uri": "https://localhost:8080/",
          "height": 489
        },
        "id": "detccedtQWOE",
        "outputId": "b3afb97f-dcf2-49ac-b29e-b1d26f3143cc"
      },
      "outputs": [
        {
          "output_type": "execute_result",
          "data": {
            "text/plain": [
              "Text(0, 0.5, 'inquiries')"
            ]
          },
          "metadata": {},
          "execution_count": 12
        },
        {
          "output_type": "display_data",
          "data": {
            "text/plain": [
              "<Figure size 640x480 with 1 Axes>"
            ],
            "image/png": "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\n"
          },
          "metadata": {}
        }
      ],
      "source": [
        "# plot target variable\n",
        "plt.scatter(df['default'], df['inquiries'],alpha =0.1, s=200)\n",
        "plt.title('defaults vs. inquiries')\n",
        "plt.xlabel('defaults')\n",
        "plt.ylabel('inquiries')"
      ]
    },
    {
      "cell_type": "markdown",
      "metadata": {
        "id": "KbT0tUONu6m6"
      },
      "source": [
        "## **Logistic Regression in Python**\n",
        "\n",
        "Lets begin by splitting the data into a training set (on which we will train our model) and a test sert (on which we will evaulate it)."
      ]
    },
    {
      "cell_type": "markdown",
      "metadata": {
        "id": "fvMy9jnA1OXm"
      },
      "source": [
        "### **Split Data**"
      ]
    },
    {
      "cell_type": "code",
      "execution_count": null,
      "metadata": {
        "id": "mPuI51tYT9BA"
      },
      "outputs": [],
      "source": [
        "# data split into 70% train and 30% test\n",
        "df_train, df_test = train_test_split(df, test_size=0.3)"
      ]
    },
    {
      "cell_type": "markdown",
      "metadata": {
        "id": "KkP5bSzPvMcx"
      },
      "source": [
        "Lets skim the train and test data. You will notice -- as we hope -- that the two datasets have very similar statistics"
      ]
    },
    {
      "cell_type": "code",
      "execution_count": null,
      "metadata": {
        "id": "gMVTTkavUMGF",
        "colab": {
          "base_uri": "https://localhost:8080/",
          "height": 402
        },
        "outputId": "c36817c3-1e5e-4b67-cb7b-01f0ad049083"
      },
      "outputs": [
        {
          "output_type": "display_data",
          "data": {
            "text/plain": [
              "╭──────────────────────────────────────────────── skimpy summary ─────────────────────────────────────────────────╮\n",
              "│ \u001b[3m         Data Summary         \u001b[0m \u001b[3m      Data Types       \u001b[0m                                                          │\n",
              "│ ┏━━━━━━━━━━━━━━━━━━━┳━━━━━━━━┓ ┏━━━━━━━━━━━━━┳━━━━━━━┓                                                          │\n",
              "│ ┃\u001b[1;36m \u001b[0m\u001b[1;36mdataframe        \u001b[0m\u001b[1;36m \u001b[0m┃\u001b[1;36m \u001b[0m\u001b[1;36mValues\u001b[0m\u001b[1;36m \u001b[0m┃ ┃\u001b[1;36m \u001b[0m\u001b[1;36mColumn Type\u001b[0m\u001b[1;36m \u001b[0m┃\u001b[1;36m \u001b[0m\u001b[1;36mCount\u001b[0m\u001b[1;36m \u001b[0m┃                                                          │\n",
              "│ ┡━━━━━━━━━━━━━━━━━━━╇━━━━━━━━┩ ┡━━━━━━━━━━━━━╇━━━━━━━┩                                                          │\n",
              "│ │ Number of rows    │ 6661   │ │ int64       │ 5     │                                                          │\n",
              "│ │ Number of columns │ 7      │ │ float64     │ 2     │                                                          │\n",
              "│ └───────────────────┴────────┘ └─────────────┴───────┘                                                          │\n",
              "│ \u001b[3m                                                    number                                                    \u001b[0m  │\n",
              "│ ┏━━━━━━━━━━━━━━━━━━━┳━━━━━━┳━━━━━━━━━┳━━━━━━━━━┳━━━━━━━━━┳━━━━━━━┳━━━━━━━┳━━━━━━━┳━━━━━━━┳━━━━━━━━┳━━━━━━━━━━┓  │\n",
              "│ ┃\u001b[1m \u001b[0m\u001b[1mcolumn_name      \u001b[0m\u001b[1m \u001b[0m┃\u001b[1m \u001b[0m\u001b[1mNA  \u001b[0m\u001b[1m \u001b[0m┃\u001b[1m \u001b[0m\u001b[1mNA %   \u001b[0m\u001b[1m \u001b[0m┃\u001b[1m \u001b[0m\u001b[1mmean   \u001b[0m\u001b[1m \u001b[0m┃\u001b[1m \u001b[0m\u001b[1msd     \u001b[0m\u001b[1m \u001b[0m┃\u001b[1m \u001b[0m\u001b[1mp0   \u001b[0m\u001b[1m \u001b[0m┃\u001b[1m \u001b[0m\u001b[1mp25  \u001b[0m\u001b[1m \u001b[0m┃\u001b[1m \u001b[0m\u001b[1mp50  \u001b[0m\u001b[1m \u001b[0m┃\u001b[1m \u001b[0m\u001b[1mp75  \u001b[0m\u001b[1m \u001b[0m┃\u001b[1m \u001b[0m\u001b[1mp100  \u001b[0m\u001b[1m \u001b[0m┃\u001b[1m \u001b[0m\u001b[1mhist    \u001b[0m\u001b[1m \u001b[0m┃  │\n",
              "│ ┡━━━━━━━━━━━━━━━━━━━╇━━━━━━╇━━━━━━━━━╇━━━━━━━━━╇━━━━━━━━━╇━━━━━━━╇━━━━━━━╇━━━━━━━╇━━━━━━━╇━━━━━━━━╇━━━━━━━━━━┩  │\n",
              "│ │ \u001b[38;5;141mdefault          \u001b[0m │ \u001b[36m   0\u001b[0m │ \u001b[36m      0\u001b[0m │ \u001b[36m   0.16\u001b[0m │ \u001b[36m   0.37\u001b[0m │ \u001b[36m    0\u001b[0m │ \u001b[36m    0\u001b[0m │ \u001b[36m    0\u001b[0m │ \u001b[36m    0\u001b[0m │ \u001b[36m     1\u001b[0m │ \u001b[32m ▇    ▂ \u001b[0m │  │\n",
              "│ │ \u001b[38;5;141minstallment      \u001b[0m │ \u001b[36m   0\u001b[0m │ \u001b[36m      0\u001b[0m │ \u001b[36m    320\u001b[0m │ \u001b[36m    210\u001b[0m │ \u001b[36m   16\u001b[0m │ \u001b[36m  160\u001b[0m │ \u001b[36m  270\u001b[0m │ \u001b[36m  440\u001b[0m │ \u001b[36m   940\u001b[0m │ \u001b[32m ▇▇▅▃▂▁ \u001b[0m │  │\n",
              "│ │ \u001b[38;5;141mlog_income       \u001b[0m │ \u001b[36m   0\u001b[0m │ \u001b[36m      0\u001b[0m │ \u001b[36m    4.7\u001b[0m │ \u001b[36m   0.27\u001b[0m │ \u001b[36m  3.3\u001b[0m │ \u001b[36m  4.6\u001b[0m │ \u001b[36m  4.7\u001b[0m │ \u001b[36m  4.9\u001b[0m │ \u001b[36m   6.2\u001b[0m │ \u001b[32m   ▇▇▁  \u001b[0m │  │\n",
              "│ │ \u001b[38;5;141mfico_score       \u001b[0m │ \u001b[36m   0\u001b[0m │ \u001b[36m      0\u001b[0m │ \u001b[36m    710\u001b[0m │ \u001b[36m     38\u001b[0m │ \u001b[36m  610\u001b[0m │ \u001b[36m  680\u001b[0m │ \u001b[36m  710\u001b[0m │ \u001b[36m  740\u001b[0m │ \u001b[36m   820\u001b[0m │ \u001b[32m  ▅▇▆▃▁ \u001b[0m │  │\n",
              "│ │ \u001b[38;5;141mrev_balance      \u001b[0m │ \u001b[36m   0\u001b[0m │ \u001b[36m      0\u001b[0m │ \u001b[36m     17\u001b[0m │ \u001b[36m     36\u001b[0m │ \u001b[36m    0\u001b[0m │ \u001b[36m  3.2\u001b[0m │ \u001b[36m  8.7\u001b[0m │ \u001b[36m   18\u001b[0m │ \u001b[36m  1200\u001b[0m │ \u001b[32m   ▇    \u001b[0m │  │\n",
              "│ │ \u001b[38;5;141minquiries        \u001b[0m │ \u001b[36m   0\u001b[0m │ \u001b[36m      0\u001b[0m │ \u001b[36m    1.5\u001b[0m │ \u001b[36m    2.2\u001b[0m │ \u001b[36m    0\u001b[0m │ \u001b[36m    0\u001b[0m │ \u001b[36m    1\u001b[0m │ \u001b[36m    2\u001b[0m │ \u001b[36m    33\u001b[0m │ \u001b[32m   ▇    \u001b[0m │  │\n",
              "│ │ \u001b[38;5;141mrecords          \u001b[0m │ \u001b[36m   0\u001b[0m │ \u001b[36m      0\u001b[0m │ \u001b[36m   0.06\u001b[0m │ \u001b[36m   0.25\u001b[0m │ \u001b[36m    0\u001b[0m │ \u001b[36m    0\u001b[0m │ \u001b[36m    0\u001b[0m │ \u001b[36m    0\u001b[0m │ \u001b[36m     3\u001b[0m │ \u001b[32m   ▇    \u001b[0m │  │\n",
              "│ └───────────────────┴──────┴─────────┴─────────┴─────────┴───────┴───────┴───────┴───────┴────────┴──────────┘  │\n",
              "╰────────────────────────────────────────────────────── End ──────────────────────────────────────────────────────╯\n"
            ],
            "text/html": [
              "<pre style=\"white-space:pre;overflow-x:auto;line-height:normal;font-family:Menlo,'DejaVu Sans Mono',consolas,'Courier New',monospace\">╭──────────────────────────────────────────────── skimpy summary ─────────────────────────────────────────────────╮\n",
              "│ <span style=\"font-style: italic\">         Data Summary         </span> <span style=\"font-style: italic\">      Data Types       </span>                                                          │\n",
              "│ ┏━━━━━━━━━━━━━━━━━━━┳━━━━━━━━┓ ┏━━━━━━━━━━━━━┳━━━━━━━┓                                                          │\n",
              "│ ┃<span style=\"color: #008080; text-decoration-color: #008080; font-weight: bold\"> dataframe         </span>┃<span style=\"color: #008080; text-decoration-color: #008080; font-weight: bold\"> Values </span>┃ ┃<span style=\"color: #008080; text-decoration-color: #008080; font-weight: bold\"> Column Type </span>┃<span style=\"color: #008080; text-decoration-color: #008080; font-weight: bold\"> Count </span>┃                                                          │\n",
              "│ ┡━━━━━━━━━━━━━━━━━━━╇━━━━━━━━┩ ┡━━━━━━━━━━━━━╇━━━━━━━┩                                                          │\n",
              "│ │ Number of rows    │ 6661   │ │ int64       │ 5     │                                                          │\n",
              "│ │ Number of columns │ 7      │ │ float64     │ 2     │                                                          │\n",
              "│ └───────────────────┴────────┘ └─────────────┴───────┘                                                          │\n",
              "│ <span style=\"font-style: italic\">                                                    number                                                    </span>  │\n",
              "│ ┏━━━━━━━━━━━━━━━━━━━┳━━━━━━┳━━━━━━━━━┳━━━━━━━━━┳━━━━━━━━━┳━━━━━━━┳━━━━━━━┳━━━━━━━┳━━━━━━━┳━━━━━━━━┳━━━━━━━━━━┓  │\n",
              "│ ┃<span style=\"font-weight: bold\"> column_name       </span>┃<span style=\"font-weight: bold\"> NA   </span>┃<span style=\"font-weight: bold\"> NA %    </span>┃<span style=\"font-weight: bold\"> mean    </span>┃<span style=\"font-weight: bold\"> sd      </span>┃<span style=\"font-weight: bold\"> p0    </span>┃<span style=\"font-weight: bold\"> p25   </span>┃<span style=\"font-weight: bold\"> p50   </span>┃<span style=\"font-weight: bold\"> p75   </span>┃<span style=\"font-weight: bold\"> p100   </span>┃<span style=\"font-weight: bold\"> hist     </span>┃  │\n",
              "│ ┡━━━━━━━━━━━━━━━━━━━╇━━━━━━╇━━━━━━━━━╇━━━━━━━━━╇━━━━━━━━━╇━━━━━━━╇━━━━━━━╇━━━━━━━╇━━━━━━━╇━━━━━━━━╇━━━━━━━━━━┩  │\n",
              "│ │ <span style=\"color: #af87ff; text-decoration-color: #af87ff\">default          </span> │ <span style=\"color: #008080; text-decoration-color: #008080\">   0</span> │ <span style=\"color: #008080; text-decoration-color: #008080\">      0</span> │ <span style=\"color: #008080; text-decoration-color: #008080\">   0.16</span> │ <span style=\"color: #008080; text-decoration-color: #008080\">   0.37</span> │ <span style=\"color: #008080; text-decoration-color: #008080\">    0</span> │ <span style=\"color: #008080; text-decoration-color: #008080\">    0</span> │ <span style=\"color: #008080; text-decoration-color: #008080\">    0</span> │ <span style=\"color: #008080; text-decoration-color: #008080\">    0</span> │ <span style=\"color: #008080; text-decoration-color: #008080\">     1</span> │ <span style=\"color: #008000; text-decoration-color: #008000\"> ▇    ▂ </span> │  │\n",
              "│ │ <span style=\"color: #af87ff; text-decoration-color: #af87ff\">installment      </span> │ <span style=\"color: #008080; text-decoration-color: #008080\">   0</span> │ <span style=\"color: #008080; text-decoration-color: #008080\">      0</span> │ <span style=\"color: #008080; text-decoration-color: #008080\">    320</span> │ <span style=\"color: #008080; text-decoration-color: #008080\">    210</span> │ <span style=\"color: #008080; text-decoration-color: #008080\">   16</span> │ <span style=\"color: #008080; text-decoration-color: #008080\">  160</span> │ <span style=\"color: #008080; text-decoration-color: #008080\">  270</span> │ <span style=\"color: #008080; text-decoration-color: #008080\">  440</span> │ <span style=\"color: #008080; text-decoration-color: #008080\">   940</span> │ <span style=\"color: #008000; text-decoration-color: #008000\"> ▇▇▅▃▂▁ </span> │  │\n",
              "│ │ <span style=\"color: #af87ff; text-decoration-color: #af87ff\">log_income       </span> │ <span style=\"color: #008080; text-decoration-color: #008080\">   0</span> │ <span style=\"color: #008080; text-decoration-color: #008080\">      0</span> │ <span style=\"color: #008080; text-decoration-color: #008080\">    4.7</span> │ <span style=\"color: #008080; text-decoration-color: #008080\">   0.27</span> │ <span style=\"color: #008080; text-decoration-color: #008080\">  3.3</span> │ <span style=\"color: #008080; text-decoration-color: #008080\">  4.6</span> │ <span style=\"color: #008080; text-decoration-color: #008080\">  4.7</span> │ <span style=\"color: #008080; text-decoration-color: #008080\">  4.9</span> │ <span style=\"color: #008080; text-decoration-color: #008080\">   6.2</span> │ <span style=\"color: #008000; text-decoration-color: #008000\">   ▇▇▁  </span> │  │\n",
              "│ │ <span style=\"color: #af87ff; text-decoration-color: #af87ff\">fico_score       </span> │ <span style=\"color: #008080; text-decoration-color: #008080\">   0</span> │ <span style=\"color: #008080; text-decoration-color: #008080\">      0</span> │ <span style=\"color: #008080; text-decoration-color: #008080\">    710</span> │ <span style=\"color: #008080; text-decoration-color: #008080\">     38</span> │ <span style=\"color: #008080; text-decoration-color: #008080\">  610</span> │ <span style=\"color: #008080; text-decoration-color: #008080\">  680</span> │ <span style=\"color: #008080; text-decoration-color: #008080\">  710</span> │ <span style=\"color: #008080; text-decoration-color: #008080\">  740</span> │ <span style=\"color: #008080; text-decoration-color: #008080\">   820</span> │ <span style=\"color: #008000; text-decoration-color: #008000\">  ▅▇▆▃▁ </span> │  │\n",
              "│ │ <span style=\"color: #af87ff; text-decoration-color: #af87ff\">rev_balance      </span> │ <span style=\"color: #008080; text-decoration-color: #008080\">   0</span> │ <span style=\"color: #008080; text-decoration-color: #008080\">      0</span> │ <span style=\"color: #008080; text-decoration-color: #008080\">     17</span> │ <span style=\"color: #008080; text-decoration-color: #008080\">     36</span> │ <span style=\"color: #008080; text-decoration-color: #008080\">    0</span> │ <span style=\"color: #008080; text-decoration-color: #008080\">  3.2</span> │ <span style=\"color: #008080; text-decoration-color: #008080\">  8.7</span> │ <span style=\"color: #008080; text-decoration-color: #008080\">   18</span> │ <span style=\"color: #008080; text-decoration-color: #008080\">  1200</span> │ <span style=\"color: #008000; text-decoration-color: #008000\">   ▇    </span> │  │\n",
              "│ │ <span style=\"color: #af87ff; text-decoration-color: #af87ff\">inquiries        </span> │ <span style=\"color: #008080; text-decoration-color: #008080\">   0</span> │ <span style=\"color: #008080; text-decoration-color: #008080\">      0</span> │ <span style=\"color: #008080; text-decoration-color: #008080\">    1.5</span> │ <span style=\"color: #008080; text-decoration-color: #008080\">    2.2</span> │ <span style=\"color: #008080; text-decoration-color: #008080\">    0</span> │ <span style=\"color: #008080; text-decoration-color: #008080\">    0</span> │ <span style=\"color: #008080; text-decoration-color: #008080\">    1</span> │ <span style=\"color: #008080; text-decoration-color: #008080\">    2</span> │ <span style=\"color: #008080; text-decoration-color: #008080\">    33</span> │ <span style=\"color: #008000; text-decoration-color: #008000\">   ▇    </span> │  │\n",
              "│ │ <span style=\"color: #af87ff; text-decoration-color: #af87ff\">records          </span> │ <span style=\"color: #008080; text-decoration-color: #008080\">   0</span> │ <span style=\"color: #008080; text-decoration-color: #008080\">      0</span> │ <span style=\"color: #008080; text-decoration-color: #008080\">   0.06</span> │ <span style=\"color: #008080; text-decoration-color: #008080\">   0.25</span> │ <span style=\"color: #008080; text-decoration-color: #008080\">    0</span> │ <span style=\"color: #008080; text-decoration-color: #008080\">    0</span> │ <span style=\"color: #008080; text-decoration-color: #008080\">    0</span> │ <span style=\"color: #008080; text-decoration-color: #008080\">    0</span> │ <span style=\"color: #008080; text-decoration-color: #008080\">     3</span> │ <span style=\"color: #008000; text-decoration-color: #008000\">   ▇    </span> │  │\n",
              "│ └───────────────────┴──────┴─────────┴─────────┴─────────┴───────┴───────┴───────┴───────┴────────┴──────────┘  │\n",
              "╰────────────────────────────────────────────────────── End ──────────────────────────────────────────────────────╯\n",
              "</pre>\n"
            ]
          },
          "metadata": {}
        }
      ],
      "source": [
        "'''\n",
        "Here is the skimpy summary of the training data:\n",
        "\n",
        "Number of rows: 6661\n",
        "Number of columns: 7\n",
        "Data Types: 5 columns of type 'int64' and 2 columns of type 'float64'\n",
        "NA values: No missing values in the training data\n",
        "Numeric columns and their summary statistics (mean, standard deviation, minimum, 25th percentile, median, 75th percentile, and maximum) for each column:\n",
        "default: 16% of the data set defaults\n",
        "installment: Mean of 320, with values ranging from 16 to 930\n",
        "log_income: Mean of 4.7, with values ranging from 3.3 to 6.3\n",
        "fico_score: Mean of 710, with values ranging from 610 to 820\n",
        "rev_balance: Mean of 17, with values ranging from 0 to 1200\n",
        "inquiries: Mean of 1.6, with values ranging from 0 to 33\n",
        "records: Mean of 0.063, with values ranging from 0 to 5\n",
        "'''\n",
        "skim(df_train)"
      ]
    },
    {
      "cell_type": "code",
      "execution_count": null,
      "metadata": {
        "colab": {
          "base_uri": "https://localhost:8080/",
          "height": 398
        },
        "id": "mqRA2WA5UXg0",
        "outputId": "3038e44d-23c3-412e-b524-fe9de5265ce1"
      },
      "outputs": [
        {
          "output_type": "display_data",
          "data": {
            "text/plain": [
              "╭──────────────────────────────────────────────── skimpy summary ─────────────────────────────────────────────────╮\n",
              "│ \u001b[3m         Data Summary         \u001b[0m \u001b[3m      Data Types       \u001b[0m                                                          │\n",
              "│ ┏━━━━━━━━━━━━━━━━━━━┳━━━━━━━━┓ ┏━━━━━━━━━━━━━┳━━━━━━━┓                                                          │\n",
              "│ ┃\u001b[1;36m \u001b[0m\u001b[1;36mdataframe        \u001b[0m\u001b[1;36m \u001b[0m┃\u001b[1;36m \u001b[0m\u001b[1;36mValues\u001b[0m\u001b[1;36m \u001b[0m┃ ┃\u001b[1;36m \u001b[0m\u001b[1;36mColumn Type\u001b[0m\u001b[1;36m \u001b[0m┃\u001b[1;36m \u001b[0m\u001b[1;36mCount\u001b[0m\u001b[1;36m \u001b[0m┃                                                          │\n",
              "│ ┡━━━━━━━━━━━━━━━━━━━╇━━━━━━━━┩ ┡━━━━━━━━━━━━━╇━━━━━━━┩                                                          │\n",
              "│ │ Number of rows    │ 2855   │ │ int64       │ 5     │                                                          │\n",
              "│ │ Number of columns │ 7      │ │ float64     │ 2     │                                                          │\n",
              "│ └───────────────────┴────────┘ └─────────────┴───────┘                                                          │\n",
              "│ \u001b[3m                                                    number                                                    \u001b[0m  │\n",
              "│ ┏━━━━━━━━━━━━━━━━━━━┳━━━━━━┳━━━━━━━━━┳━━━━━━━━━━┳━━━━━━━━━┳━━━━━━━┳━━━━━━━┳━━━━━━━┳━━━━━━━┳━━━━━━━━┳━━━━━━━━━┓  │\n",
              "│ ┃\u001b[1m \u001b[0m\u001b[1mcolumn_name      \u001b[0m\u001b[1m \u001b[0m┃\u001b[1m \u001b[0m\u001b[1mNA  \u001b[0m\u001b[1m \u001b[0m┃\u001b[1m \u001b[0m\u001b[1mNA %   \u001b[0m\u001b[1m \u001b[0m┃\u001b[1m \u001b[0m\u001b[1mmean    \u001b[0m\u001b[1m \u001b[0m┃\u001b[1m \u001b[0m\u001b[1msd     \u001b[0m\u001b[1m \u001b[0m┃\u001b[1m \u001b[0m\u001b[1mp0   \u001b[0m\u001b[1m \u001b[0m┃\u001b[1m \u001b[0m\u001b[1mp25  \u001b[0m\u001b[1m \u001b[0m┃\u001b[1m \u001b[0m\u001b[1mp50  \u001b[0m\u001b[1m \u001b[0m┃\u001b[1m \u001b[0m\u001b[1mp75  \u001b[0m\u001b[1m \u001b[0m┃\u001b[1m \u001b[0m\u001b[1mp100  \u001b[0m\u001b[1m \u001b[0m┃\u001b[1m \u001b[0m\u001b[1mhist   \u001b[0m\u001b[1m \u001b[0m┃  │\n",
              "│ ┡━━━━━━━━━━━━━━━━━━━╇━━━━━━╇━━━━━━━━━╇━━━━━━━━━━╇━━━━━━━━━╇━━━━━━━╇━━━━━━━╇━━━━━━━╇━━━━━━━╇━━━━━━━━╇━━━━━━━━━┩  │\n",
              "│ │ \u001b[38;5;141mdefault          \u001b[0m │ \u001b[36m   0\u001b[0m │ \u001b[36m      0\u001b[0m │ \u001b[36m    0.16\u001b[0m │ \u001b[36m   0.36\u001b[0m │ \u001b[36m    0\u001b[0m │ \u001b[36m    0\u001b[0m │ \u001b[36m    0\u001b[0m │ \u001b[36m    0\u001b[0m │ \u001b[36m     1\u001b[0m │ \u001b[32m▇    ▂ \u001b[0m │  │\n",
              "│ │ \u001b[38;5;141minstallment      \u001b[0m │ \u001b[36m   0\u001b[0m │ \u001b[36m      0\u001b[0m │ \u001b[36m     320\u001b[0m │ \u001b[36m    210\u001b[0m │ \u001b[36m   16\u001b[0m │ \u001b[36m  170\u001b[0m │ \u001b[36m  270\u001b[0m │ \u001b[36m  430\u001b[0m │ \u001b[36m   930\u001b[0m │ \u001b[32m▆▇▅▃▁▁ \u001b[0m │  │\n",
              "│ │ \u001b[38;5;141mlog_income       \u001b[0m │ \u001b[36m   0\u001b[0m │ \u001b[36m      0\u001b[0m │ \u001b[36m     4.8\u001b[0m │ \u001b[36m   0.26\u001b[0m │ \u001b[36m  3.3\u001b[0m │ \u001b[36m  4.6\u001b[0m │ \u001b[36m  4.8\u001b[0m │ \u001b[36m  4.9\u001b[0m │ \u001b[36m   6.3\u001b[0m │ \u001b[32m  ▁▇▆  \u001b[0m │  │\n",
              "│ │ \u001b[38;5;141mfico_score       \u001b[0m │ \u001b[36m   0\u001b[0m │ \u001b[36m      0\u001b[0m │ \u001b[36m     710\u001b[0m │ \u001b[36m     38\u001b[0m │ \u001b[36m  630\u001b[0m │ \u001b[36m  680\u001b[0m │ \u001b[36m  710\u001b[0m │ \u001b[36m  740\u001b[0m │ \u001b[36m   830\u001b[0m │ \u001b[32m▂▇▇▅▃▁ \u001b[0m │  │\n",
              "│ │ \u001b[38;5;141mrev_balance      \u001b[0m │ \u001b[36m   0\u001b[0m │ \u001b[36m      0\u001b[0m │ \u001b[36m      16\u001b[0m │ \u001b[36m     28\u001b[0m │ \u001b[36m    0\u001b[0m │ \u001b[36m  3.4\u001b[0m │ \u001b[36m  8.5\u001b[0m │ \u001b[36m   18\u001b[0m │ \u001b[36m   410\u001b[0m │ \u001b[32m   ▇   \u001b[0m │  │\n",
              "│ │ \u001b[38;5;141minquiries        \u001b[0m │ \u001b[36m   0\u001b[0m │ \u001b[36m      0\u001b[0m │ \u001b[36m     1.6\u001b[0m │ \u001b[36m    2.3\u001b[0m │ \u001b[36m    0\u001b[0m │ \u001b[36m    0\u001b[0m │ \u001b[36m    1\u001b[0m │ \u001b[36m    2\u001b[0m │ \u001b[36m    28\u001b[0m │ \u001b[32m  ▇▁   \u001b[0m │  │\n",
              "│ │ \u001b[38;5;141mrecords          \u001b[0m │ \u001b[36m   0\u001b[0m │ \u001b[36m      0\u001b[0m │ \u001b[36m   0.068\u001b[0m │ \u001b[36m   0.29\u001b[0m │ \u001b[36m    0\u001b[0m │ \u001b[36m    0\u001b[0m │ \u001b[36m    0\u001b[0m │ \u001b[36m    0\u001b[0m │ \u001b[36m     5\u001b[0m │ \u001b[32m   ▇   \u001b[0m │  │\n",
              "│ └───────────────────┴──────┴─────────┴──────────┴─────────┴───────┴───────┴───────┴───────┴────────┴─────────┘  │\n",
              "╰────────────────────────────────────────────────────── End ──────────────────────────────────────────────────────╯\n"
            ],
            "text/html": [
              "<pre style=\"white-space:pre;overflow-x:auto;line-height:normal;font-family:Menlo,'DejaVu Sans Mono',consolas,'Courier New',monospace\">╭──────────────────────────────────────────────── skimpy summary ─────────────────────────────────────────────────╮\n",
              "│ <span style=\"font-style: italic\">         Data Summary         </span> <span style=\"font-style: italic\">      Data Types       </span>                                                          │\n",
              "│ ┏━━━━━━━━━━━━━━━━━━━┳━━━━━━━━┓ ┏━━━━━━━━━━━━━┳━━━━━━━┓                                                          │\n",
              "│ ┃<span style=\"color: #008080; text-decoration-color: #008080; font-weight: bold\"> dataframe         </span>┃<span style=\"color: #008080; text-decoration-color: #008080; font-weight: bold\"> Values </span>┃ ┃<span style=\"color: #008080; text-decoration-color: #008080; font-weight: bold\"> Column Type </span>┃<span style=\"color: #008080; text-decoration-color: #008080; font-weight: bold\"> Count </span>┃                                                          │\n",
              "│ ┡━━━━━━━━━━━━━━━━━━━╇━━━━━━━━┩ ┡━━━━━━━━━━━━━╇━━━━━━━┩                                                          │\n",
              "│ │ Number of rows    │ 2855   │ │ int64       │ 5     │                                                          │\n",
              "│ │ Number of columns │ 7      │ │ float64     │ 2     │                                                          │\n",
              "│ └───────────────────┴────────┘ └─────────────┴───────┘                                                          │\n",
              "│ <span style=\"font-style: italic\">                                                    number                                                    </span>  │\n",
              "│ ┏━━━━━━━━━━━━━━━━━━━┳━━━━━━┳━━━━━━━━━┳━━━━━━━━━━┳━━━━━━━━━┳━━━━━━━┳━━━━━━━┳━━━━━━━┳━━━━━━━┳━━━━━━━━┳━━━━━━━━━┓  │\n",
              "│ ┃<span style=\"font-weight: bold\"> column_name       </span>┃<span style=\"font-weight: bold\"> NA   </span>┃<span style=\"font-weight: bold\"> NA %    </span>┃<span style=\"font-weight: bold\"> mean     </span>┃<span style=\"font-weight: bold\"> sd      </span>┃<span style=\"font-weight: bold\"> p0    </span>┃<span style=\"font-weight: bold\"> p25   </span>┃<span style=\"font-weight: bold\"> p50   </span>┃<span style=\"font-weight: bold\"> p75   </span>┃<span style=\"font-weight: bold\"> p100   </span>┃<span style=\"font-weight: bold\"> hist    </span>┃  │\n",
              "│ ┡━━━━━━━━━━━━━━━━━━━╇━━━━━━╇━━━━━━━━━╇━━━━━━━━━━╇━━━━━━━━━╇━━━━━━━╇━━━━━━━╇━━━━━━━╇━━━━━━━╇━━━━━━━━╇━━━━━━━━━┩  │\n",
              "│ │ <span style=\"color: #af87ff; text-decoration-color: #af87ff\">default          </span> │ <span style=\"color: #008080; text-decoration-color: #008080\">   0</span> │ <span style=\"color: #008080; text-decoration-color: #008080\">      0</span> │ <span style=\"color: #008080; text-decoration-color: #008080\">    0.16</span> │ <span style=\"color: #008080; text-decoration-color: #008080\">   0.36</span> │ <span style=\"color: #008080; text-decoration-color: #008080\">    0</span> │ <span style=\"color: #008080; text-decoration-color: #008080\">    0</span> │ <span style=\"color: #008080; text-decoration-color: #008080\">    0</span> │ <span style=\"color: #008080; text-decoration-color: #008080\">    0</span> │ <span style=\"color: #008080; text-decoration-color: #008080\">     1</span> │ <span style=\"color: #008000; text-decoration-color: #008000\">▇    ▂ </span> │  │\n",
              "│ │ <span style=\"color: #af87ff; text-decoration-color: #af87ff\">installment      </span> │ <span style=\"color: #008080; text-decoration-color: #008080\">   0</span> │ <span style=\"color: #008080; text-decoration-color: #008080\">      0</span> │ <span style=\"color: #008080; text-decoration-color: #008080\">     320</span> │ <span style=\"color: #008080; text-decoration-color: #008080\">    210</span> │ <span style=\"color: #008080; text-decoration-color: #008080\">   16</span> │ <span style=\"color: #008080; text-decoration-color: #008080\">  170</span> │ <span style=\"color: #008080; text-decoration-color: #008080\">  270</span> │ <span style=\"color: #008080; text-decoration-color: #008080\">  430</span> │ <span style=\"color: #008080; text-decoration-color: #008080\">   930</span> │ <span style=\"color: #008000; text-decoration-color: #008000\">▆▇▅▃▁▁ </span> │  │\n",
              "│ │ <span style=\"color: #af87ff; text-decoration-color: #af87ff\">log_income       </span> │ <span style=\"color: #008080; text-decoration-color: #008080\">   0</span> │ <span style=\"color: #008080; text-decoration-color: #008080\">      0</span> │ <span style=\"color: #008080; text-decoration-color: #008080\">     4.8</span> │ <span style=\"color: #008080; text-decoration-color: #008080\">   0.26</span> │ <span style=\"color: #008080; text-decoration-color: #008080\">  3.3</span> │ <span style=\"color: #008080; text-decoration-color: #008080\">  4.6</span> │ <span style=\"color: #008080; text-decoration-color: #008080\">  4.8</span> │ <span style=\"color: #008080; text-decoration-color: #008080\">  4.9</span> │ <span style=\"color: #008080; text-decoration-color: #008080\">   6.3</span> │ <span style=\"color: #008000; text-decoration-color: #008000\">  ▁▇▆  </span> │  │\n",
              "│ │ <span style=\"color: #af87ff; text-decoration-color: #af87ff\">fico_score       </span> │ <span style=\"color: #008080; text-decoration-color: #008080\">   0</span> │ <span style=\"color: #008080; text-decoration-color: #008080\">      0</span> │ <span style=\"color: #008080; text-decoration-color: #008080\">     710</span> │ <span style=\"color: #008080; text-decoration-color: #008080\">     38</span> │ <span style=\"color: #008080; text-decoration-color: #008080\">  630</span> │ <span style=\"color: #008080; text-decoration-color: #008080\">  680</span> │ <span style=\"color: #008080; text-decoration-color: #008080\">  710</span> │ <span style=\"color: #008080; text-decoration-color: #008080\">  740</span> │ <span style=\"color: #008080; text-decoration-color: #008080\">   830</span> │ <span style=\"color: #008000; text-decoration-color: #008000\">▂▇▇▅▃▁ </span> │  │\n",
              "│ │ <span style=\"color: #af87ff; text-decoration-color: #af87ff\">rev_balance      </span> │ <span style=\"color: #008080; text-decoration-color: #008080\">   0</span> │ <span style=\"color: #008080; text-decoration-color: #008080\">      0</span> │ <span style=\"color: #008080; text-decoration-color: #008080\">      16</span> │ <span style=\"color: #008080; text-decoration-color: #008080\">     28</span> │ <span style=\"color: #008080; text-decoration-color: #008080\">    0</span> │ <span style=\"color: #008080; text-decoration-color: #008080\">  3.4</span> │ <span style=\"color: #008080; text-decoration-color: #008080\">  8.5</span> │ <span style=\"color: #008080; text-decoration-color: #008080\">   18</span> │ <span style=\"color: #008080; text-decoration-color: #008080\">   410</span> │ <span style=\"color: #008000; text-decoration-color: #008000\">   ▇   </span> │  │\n",
              "│ │ <span style=\"color: #af87ff; text-decoration-color: #af87ff\">inquiries        </span> │ <span style=\"color: #008080; text-decoration-color: #008080\">   0</span> │ <span style=\"color: #008080; text-decoration-color: #008080\">      0</span> │ <span style=\"color: #008080; text-decoration-color: #008080\">     1.6</span> │ <span style=\"color: #008080; text-decoration-color: #008080\">    2.3</span> │ <span style=\"color: #008080; text-decoration-color: #008080\">    0</span> │ <span style=\"color: #008080; text-decoration-color: #008080\">    0</span> │ <span style=\"color: #008080; text-decoration-color: #008080\">    1</span> │ <span style=\"color: #008080; text-decoration-color: #008080\">    2</span> │ <span style=\"color: #008080; text-decoration-color: #008080\">    28</span> │ <span style=\"color: #008000; text-decoration-color: #008000\">  ▇▁   </span> │  │\n",
              "│ │ <span style=\"color: #af87ff; text-decoration-color: #af87ff\">records          </span> │ <span style=\"color: #008080; text-decoration-color: #008080\">   0</span> │ <span style=\"color: #008080; text-decoration-color: #008080\">      0</span> │ <span style=\"color: #008080; text-decoration-color: #008080\">   0.068</span> │ <span style=\"color: #008080; text-decoration-color: #008080\">   0.29</span> │ <span style=\"color: #008080; text-decoration-color: #008080\">    0</span> │ <span style=\"color: #008080; text-decoration-color: #008080\">    0</span> │ <span style=\"color: #008080; text-decoration-color: #008080\">    0</span> │ <span style=\"color: #008080; text-decoration-color: #008080\">    0</span> │ <span style=\"color: #008080; text-decoration-color: #008080\">     5</span> │ <span style=\"color: #008000; text-decoration-color: #008000\">   ▇   </span> │  │\n",
              "│ └───────────────────┴──────┴─────────┴──────────┴─────────┴───────┴───────┴───────┴───────┴────────┴─────────┘  │\n",
              "╰────────────────────────────────────────────────────── End ──────────────────────────────────────────────────────╯\n",
              "</pre>\n"
            ]
          },
          "metadata": {}
        }
      ],
      "source": [
        "'''\n",
        "Here is the skimpy summary of the test data:\n",
        "\n",
        "Number of rows: 2855\n",
        "Number of columns: 7\n",
        "Data Types: 5 columns of type 'int64' and 2 columns of type 'float64'\n",
        "NA values: No missing values in the test data\n",
        "Numeric columns and their summary statistics (mean, standard deviation, minimum, 25th percentile, median, 75th percentile, and maximum) for each column:\n",
        "default: 16% of the data set defaults\n",
        "installment: Mean of 320, with values ranging from 17 to 940\n",
        "log_income: Mean of 4.7, with values ranging from 3.3 to 6.1\n",
        "fico_score: Mean of 710, with values ranging from 610 to 830\n",
        "rev_balance: Mean of 17, with values ranging from 0 to 950\n",
        "inquiries: Mean of 1.5, with values ranging from 0 to 31\n",
        "records: Mean of 0.061, with values ranging from 0 to 3\n",
        "'''\n",
        "\n",
        "skim(df_test)"
      ]
    },
    {
      "cell_type": "code",
      "execution_count": null,
      "metadata": {
        "id": "-stpEHBWrSHY"
      },
      "outputs": [],
      "source": []
    },
    {
      "cell_type": "markdown",
      "metadata": {
        "id": "zedusRre1XFV"
      },
      "source": [
        "### ** Generate / Fit Model**"
      ]
    },
    {
      "cell_type": "code",
      "execution_count": null,
      "metadata": {
        "colab": {
          "base_uri": "https://localhost:8080/"
        },
        "id": "6DTbboQEEgnb",
        "outputId": "801419b6-87bf-43f6-d347-b12bd27791d1"
      },
      "outputs": [
        {
          "output_type": "stream",
          "name": "stdout",
          "text": [
            "Optimization terminated successfully.\n",
            "         Current function value: 0.415282\n",
            "         Iterations 6\n",
            "                           Logit Regression Results                           \n",
            "==============================================================================\n",
            "Dep. Variable:                default   No. Observations:                 6661\n",
            "Model:                          Logit   Df Residuals:                     6654\n",
            "Method:                           MLE   Df Model:                            6\n",
            "Date:                Mon, 15 Jan 2024   Pseudo R-squ.:                 0.05773\n",
            "Time:                        17:35:41   Log-Likelihood:                -2766.2\n",
            "converged:                       True   LL-Null:                       -2935.7\n",
            "Covariance Type:            nonrobust   LLR p-value:                 3.658e-70\n",
            "===============================================================================\n",
            "                  coef    std err          z      P>|z|      [0.025      0.975]\n",
            "-------------------------------------------------------------------------------\n",
            "Intercept       9.5249      0.994      9.584      0.000       7.577      11.473\n",
            "installment     0.0014      0.000      7.294      0.000       0.001       0.002\n",
            "log_income     -0.8980      0.158     -5.696      0.000      -1.207      -0.589\n",
            "fico_score     -0.0109      0.001    -10.413      0.000      -0.013      -0.009\n",
            "rev_balance     0.0034      0.001      3.378      0.001       0.001       0.005\n",
            "inquiries       0.1345      0.014      9.394      0.000       0.106       0.163\n",
            "records         0.2646      0.121      2.191      0.028       0.028       0.501\n",
            "===============================================================================\n"
          ]
        }
      ],
      "source": [
        "'''\n",
        "The logistic regression results provide insights into the relationships between the dependent variable (default) and the\n",
        "independent variables (installment, log_income, fico_score, rev_balance, inquiries, records). Here are some key points from the summary:\n",
        "\n",
        "Pseudo R-squared: The Pseudo R-squared value is approximately 0.053 (0.05285), indicating that the model explains about 5.3% of the variation\n",
        "in the dependent variable.\n",
        "\n",
        "Coefficients:\n",
        "\n",
        "Intercept: The intercept is 9.2627. This is the log-odds of the dependent variable when all independent variables are zero.\n",
        "installment: For a one-unit increase in installment, the log-odds of default increase by 0.0012.\n",
        "log_income: For a one-unit increase in log_income, the log-odds of default decrease by 1.0265.\n",
        "fico_score: For a one-unit increase in fico_score, the log-odds of default decrease by 0.0096.\n",
        "rev_balance: For a one-unit increase in rev_balance, the log-odds of default increase by 0.0041.\n",
        "inquiries: For a one-unit increase in inquiries, the log-odds of default increase by 0.1309.\n",
        "records: For a one-unit increase in records, the log-odds of default increase by 0.2432.\n",
        "P-values: All the p-values are less than 0.05, indicating that each coefficient is statistically significant.\n",
        "\n",
        "Likelihood Ratio Test (LLR) p-value: The LLR p-value tests whether the model, including all predictors, is significantly\n",
        "better than a null model with no predictors. The very low p-value (2.433e-63) suggests that the model is statistically significant.\n",
        "\n",
        "Overall, the logistic regression model suggests that the included variables have a significant impact on predicting the\n",
        "likelihood of default.\n",
        "\n",
        "'''\n",
        "# build formula,  target (depedent variable) ~ features (indepedent variables)\n",
        "#formula=\"Strategy ~ Volume + Open + Close\"\n",
        "formula=\"default ~ installment + log_income + fico_score + rev_balance + inquiries + records\"\n",
        "\n",
        "# build model, fit the formula to the training data using a logistic algorithim (logit)\n",
        "est = logit(formula=formula, data=df_train).fit()\n",
        "\n",
        "# print the results of the model (est).\n",
        "# Examine; Pseudo R-squared, p values, coefficients\n",
        "print(est.summary())"
      ]
    },
    {
      "cell_type": "code",
      "execution_count": null,
      "metadata": {
        "colab": {
          "base_uri": "https://localhost:8080/",
          "height": 238
        },
        "id": "kTt5Tsnmwz5_",
        "outputId": "91ff05bc-3776-4f02-ac7d-ca95e0b52720"
      },
      "outputs": [
        {
          "output_type": "execute_result",
          "data": {
            "text/plain": [
              "      default  installment  log_income  fico_score  rev_balance  inquiries  \\\n",
              "8653        0           67        5.19         662        32.14         11   \n",
              "3150        0          637        4.98         732        14.01          0   \n",
              "3816        0          205        4.63         727         2.21          1   \n",
              "8201        1          819        5.35         712       242.19          0   \n",
              "3181        0          396        4.98         717        14.93          0   \n",
              "6445        0          209        4.54         737         4.26          2   \n",
              "\n",
              "      records  predicted_probability  \n",
              "8653        0               0.335840  \n",
              "3150        0               0.116394  \n",
              "3816        0               0.104483  \n",
              "8201        0               0.246665  \n",
              "3181        0               0.100995  \n",
              "6445        0               0.116105  "
            ],
            "text/html": [
              "\n",
              "  <div id=\"df-3f665908-eb8a-4eb1-ae52-520265ba6e75\" class=\"colab-df-container\">\n",
              "    <div>\n",
              "<style scoped>\n",
              "    .dataframe tbody tr th:only-of-type {\n",
              "        vertical-align: middle;\n",
              "    }\n",
              "\n",
              "    .dataframe tbody tr th {\n",
              "        vertical-align: top;\n",
              "    }\n",
              "\n",
              "    .dataframe thead th {\n",
              "        text-align: right;\n",
              "    }\n",
              "</style>\n",
              "<table border=\"1\" class=\"dataframe\">\n",
              "  <thead>\n",
              "    <tr style=\"text-align: right;\">\n",
              "      <th></th>\n",
              "      <th>default</th>\n",
              "      <th>installment</th>\n",
              "      <th>log_income</th>\n",
              "      <th>fico_score</th>\n",
              "      <th>rev_balance</th>\n",
              "      <th>inquiries</th>\n",
              "      <th>records</th>\n",
              "      <th>predicted_probability</th>\n",
              "    </tr>\n",
              "  </thead>\n",
              "  <tbody>\n",
              "    <tr>\n",
              "      <th>8653</th>\n",
              "      <td>0</td>\n",
              "      <td>67</td>\n",
              "      <td>5.19</td>\n",
              "      <td>662</td>\n",
              "      <td>32.14</td>\n",
              "      <td>11</td>\n",
              "      <td>0</td>\n",
              "      <td>0.335840</td>\n",
              "    </tr>\n",
              "    <tr>\n",
              "      <th>3150</th>\n",
              "      <td>0</td>\n",
              "      <td>637</td>\n",
              "      <td>4.98</td>\n",
              "      <td>732</td>\n",
              "      <td>14.01</td>\n",
              "      <td>0</td>\n",
              "      <td>0</td>\n",
              "      <td>0.116394</td>\n",
              "    </tr>\n",
              "    <tr>\n",
              "      <th>3816</th>\n",
              "      <td>0</td>\n",
              "      <td>205</td>\n",
              "      <td>4.63</td>\n",
              "      <td>727</td>\n",
              "      <td>2.21</td>\n",
              "      <td>1</td>\n",
              "      <td>0</td>\n",
              "      <td>0.104483</td>\n",
              "    </tr>\n",
              "    <tr>\n",
              "      <th>8201</th>\n",
              "      <td>1</td>\n",
              "      <td>819</td>\n",
              "      <td>5.35</td>\n",
              "      <td>712</td>\n",
              "      <td>242.19</td>\n",
              "      <td>0</td>\n",
              "      <td>0</td>\n",
              "      <td>0.246665</td>\n",
              "    </tr>\n",
              "    <tr>\n",
              "      <th>3181</th>\n",
              "      <td>0</td>\n",
              "      <td>396</td>\n",
              "      <td>4.98</td>\n",
              "      <td>717</td>\n",
              "      <td>14.93</td>\n",
              "      <td>0</td>\n",
              "      <td>0</td>\n",
              "      <td>0.100995</td>\n",
              "    </tr>\n",
              "    <tr>\n",
              "      <th>6445</th>\n",
              "      <td>0</td>\n",
              "      <td>209</td>\n",
              "      <td>4.54</td>\n",
              "      <td>737</td>\n",
              "      <td>4.26</td>\n",
              "      <td>2</td>\n",
              "      <td>0</td>\n",
              "      <td>0.116105</td>\n",
              "    </tr>\n",
              "  </tbody>\n",
              "</table>\n",
              "</div>\n",
              "    <div class=\"colab-df-buttons\">\n",
              "\n",
              "  <div class=\"colab-df-container\">\n",
              "    <button class=\"colab-df-convert\" onclick=\"convertToInteractive('df-3f665908-eb8a-4eb1-ae52-520265ba6e75')\"\n",
              "            title=\"Convert this dataframe to an interactive table.\"\n",
              "            style=\"display:none;\">\n",
              "\n",
              "  <svg xmlns=\"http://www.w3.org/2000/svg\" height=\"24px\" viewBox=\"0 -960 960 960\">\n",
              "    <path d=\"M120-120v-720h720v720H120Zm60-500h600v-160H180v160Zm220 220h160v-160H400v160Zm0 220h160v-160H400v160ZM180-400h160v-160H180v160Zm440 0h160v-160H620v160ZM180-180h160v-160H180v160Zm440 0h160v-160H620v160Z\"/>\n",
              "  </svg>\n",
              "    </button>\n",
              "\n",
              "  <style>\n",
              "    .colab-df-container {\n",
              "      display:flex;\n",
              "      gap: 12px;\n",
              "    }\n",
              "\n",
              "    .colab-df-convert {\n",
              "      background-color: #E8F0FE;\n",
              "      border: none;\n",
              "      border-radius: 50%;\n",
              "      cursor: pointer;\n",
              "      display: none;\n",
              "      fill: #1967D2;\n",
              "      height: 32px;\n",
              "      padding: 0 0 0 0;\n",
              "      width: 32px;\n",
              "    }\n",
              "\n",
              "    .colab-df-convert:hover {\n",
              "      background-color: #E2EBFA;\n",
              "      box-shadow: 0px 1px 2px rgba(60, 64, 67, 0.3), 0px 1px 3px 1px rgba(60, 64, 67, 0.15);\n",
              "      fill: #174EA6;\n",
              "    }\n",
              "\n",
              "    .colab-df-buttons div {\n",
              "      margin-bottom: 4px;\n",
              "    }\n",
              "\n",
              "    [theme=dark] .colab-df-convert {\n",
              "      background-color: #3B4455;\n",
              "      fill: #D2E3FC;\n",
              "    }\n",
              "\n",
              "    [theme=dark] .colab-df-convert:hover {\n",
              "      background-color: #434B5C;\n",
              "      box-shadow: 0px 1px 3px 1px rgba(0, 0, 0, 0.15);\n",
              "      filter: drop-shadow(0px 1px 2px rgba(0, 0, 0, 0.3));\n",
              "      fill: #FFFFFF;\n",
              "    }\n",
              "  </style>\n",
              "\n",
              "    <script>\n",
              "      const buttonEl =\n",
              "        document.querySelector('#df-3f665908-eb8a-4eb1-ae52-520265ba6e75 button.colab-df-convert');\n",
              "      buttonEl.style.display =\n",
              "        google.colab.kernel.accessAllowed ? 'block' : 'none';\n",
              "\n",
              "      async function convertToInteractive(key) {\n",
              "        const element = document.querySelector('#df-3f665908-eb8a-4eb1-ae52-520265ba6e75');\n",
              "        const dataTable =\n",
              "          await google.colab.kernel.invokeFunction('convertToInteractive',\n",
              "                                                    [key], {});\n",
              "        if (!dataTable) return;\n",
              "\n",
              "        const docLinkHtml = 'Like what you see? Visit the ' +\n",
              "          '<a target=\"_blank\" href=https://colab.research.google.com/notebooks/data_table.ipynb>data table notebook</a>'\n",
              "          + ' to learn more about interactive tables.';\n",
              "        element.innerHTML = '';\n",
              "        dataTable['output_type'] = 'display_data';\n",
              "        await google.colab.output.renderOutput(dataTable, element);\n",
              "        const docLink = document.createElement('div');\n",
              "        docLink.innerHTML = docLinkHtml;\n",
              "        element.appendChild(docLink);\n",
              "      }\n",
              "    </script>\n",
              "  </div>\n",
              "\n",
              "\n",
              "<div id=\"df-767fc126-16f0-4456-b42a-e59231a9943e\">\n",
              "  <button class=\"colab-df-quickchart\" onclick=\"quickchart('df-767fc126-16f0-4456-b42a-e59231a9943e')\"\n",
              "            title=\"Suggest charts\"\n",
              "            style=\"display:none;\">\n",
              "\n",
              "<svg xmlns=\"http://www.w3.org/2000/svg\" height=\"24px\"viewBox=\"0 0 24 24\"\n",
              "     width=\"24px\">\n",
              "    <g>\n",
              "        <path d=\"M19 3H5c-1.1 0-2 .9-2 2v14c0 1.1.9 2 2 2h14c1.1 0 2-.9 2-2V5c0-1.1-.9-2-2-2zM9 17H7v-7h2v7zm4 0h-2V7h2v10zm4 0h-2v-4h2v4z\"/>\n",
              "    </g>\n",
              "</svg>\n",
              "  </button>\n",
              "\n",
              "<style>\n",
              "  .colab-df-quickchart {\n",
              "      --bg-color: #E8F0FE;\n",
              "      --fill-color: #1967D2;\n",
              "      --hover-bg-color: #E2EBFA;\n",
              "      --hover-fill-color: #174EA6;\n",
              "      --disabled-fill-color: #AAA;\n",
              "      --disabled-bg-color: #DDD;\n",
              "  }\n",
              "\n",
              "  [theme=dark] .colab-df-quickchart {\n",
              "      --bg-color: #3B4455;\n",
              "      --fill-color: #D2E3FC;\n",
              "      --hover-bg-color: #434B5C;\n",
              "      --hover-fill-color: #FFFFFF;\n",
              "      --disabled-bg-color: #3B4455;\n",
              "      --disabled-fill-color: #666;\n",
              "  }\n",
              "\n",
              "  .colab-df-quickchart {\n",
              "    background-color: var(--bg-color);\n",
              "    border: none;\n",
              "    border-radius: 50%;\n",
              "    cursor: pointer;\n",
              "    display: none;\n",
              "    fill: var(--fill-color);\n",
              "    height: 32px;\n",
              "    padding: 0;\n",
              "    width: 32px;\n",
              "  }\n",
              "\n",
              "  .colab-df-quickchart:hover {\n",
              "    background-color: var(--hover-bg-color);\n",
              "    box-shadow: 0 1px 2px rgba(60, 64, 67, 0.3), 0 1px 3px 1px rgba(60, 64, 67, 0.15);\n",
              "    fill: var(--button-hover-fill-color);\n",
              "  }\n",
              "\n",
              "  .colab-df-quickchart-complete:disabled,\n",
              "  .colab-df-quickchart-complete:disabled:hover {\n",
              "    background-color: var(--disabled-bg-color);\n",
              "    fill: var(--disabled-fill-color);\n",
              "    box-shadow: none;\n",
              "  }\n",
              "\n",
              "  .colab-df-spinner {\n",
              "    border: 2px solid var(--fill-color);\n",
              "    border-color: transparent;\n",
              "    border-bottom-color: var(--fill-color);\n",
              "    animation:\n",
              "      spin 1s steps(1) infinite;\n",
              "  }\n",
              "\n",
              "  @keyframes spin {\n",
              "    0% {\n",
              "      border-color: transparent;\n",
              "      border-bottom-color: var(--fill-color);\n",
              "      border-left-color: var(--fill-color);\n",
              "    }\n",
              "    20% {\n",
              "      border-color: transparent;\n",
              "      border-left-color: var(--fill-color);\n",
              "      border-top-color: var(--fill-color);\n",
              "    }\n",
              "    30% {\n",
              "      border-color: transparent;\n",
              "      border-left-color: var(--fill-color);\n",
              "      border-top-color: var(--fill-color);\n",
              "      border-right-color: var(--fill-color);\n",
              "    }\n",
              "    40% {\n",
              "      border-color: transparent;\n",
              "      border-right-color: var(--fill-color);\n",
              "      border-top-color: var(--fill-color);\n",
              "    }\n",
              "    60% {\n",
              "      border-color: transparent;\n",
              "      border-right-color: var(--fill-color);\n",
              "    }\n",
              "    80% {\n",
              "      border-color: transparent;\n",
              "      border-right-color: var(--fill-color);\n",
              "      border-bottom-color: var(--fill-color);\n",
              "    }\n",
              "    90% {\n",
              "      border-color: transparent;\n",
              "      border-bottom-color: var(--fill-color);\n",
              "    }\n",
              "  }\n",
              "</style>\n",
              "\n",
              "  <script>\n",
              "    async function quickchart(key) {\n",
              "      const quickchartButtonEl =\n",
              "        document.querySelector('#' + key + ' button');\n",
              "      quickchartButtonEl.disabled = true;  // To prevent multiple clicks.\n",
              "      quickchartButtonEl.classList.add('colab-df-spinner');\n",
              "      try {\n",
              "        const charts = await google.colab.kernel.invokeFunction(\n",
              "            'suggestCharts', [key], {});\n",
              "      } catch (error) {\n",
              "        console.error('Error during call to suggestCharts:', error);\n",
              "      }\n",
              "      quickchartButtonEl.classList.remove('colab-df-spinner');\n",
              "      quickchartButtonEl.classList.add('colab-df-quickchart-complete');\n",
              "    }\n",
              "    (() => {\n",
              "      let quickchartButtonEl =\n",
              "        document.querySelector('#df-767fc126-16f0-4456-b42a-e59231a9943e button');\n",
              "      quickchartButtonEl.style.display =\n",
              "        google.colab.kernel.accessAllowed ? 'block' : 'none';\n",
              "    })();\n",
              "  </script>\n",
              "</div>\n",
              "\n",
              "    </div>\n",
              "  </div>\n"
            ]
          },
          "metadata": {},
          "execution_count": 17
        }
      ],
      "source": [
        "'''\n",
        "Each row represents an observation in the test data, and the predicted_probability column shows the model's\n",
        "estimated probability of default for each observation.\n",
        "\n",
        "the model's predicted probability of default (predicted_probability).\n",
        "'''\n",
        "\n",
        "# apply the model (est) to the test data and make predictions\n",
        "preds = est.predict(df_test)\n",
        "df_test['predicted_probability'] = preds\n",
        "\n",
        "# print top 6 predicted probabilities\n",
        "df_test.head(6)\n"
      ]
    },
    {
      "cell_type": "code",
      "execution_count": null,
      "metadata": {
        "colab": {
          "base_uri": "https://localhost:8080/"
        },
        "id": "28OAgcn6qU2x",
        "outputId": "076d1708-f80a-4b73-9fa3-3edaab0f957a"
      },
      "outputs": [
        {
          "output_type": "stream",
          "name": "stdout",
          "text": [
            "      default  installment  log_income  fico_score  rev_balance  inquiries  \\\n",
            "8653        0           67        5.19         662        32.14         11   \n",
            "3150        0          637        4.98         732        14.01          0   \n",
            "3816        0          205        4.63         727         2.21          1   \n",
            "8201        1          819        5.35         712       242.19          0   \n",
            "3181        0          396        4.98         717        14.93          0   \n",
            "...       ...          ...         ...         ...          ...        ...   \n",
            "3888        0          112        4.60         717         4.20          1   \n",
            "7103        0          104        4.93         737         8.50          1   \n",
            "8918        0          504        4.60         717        60.27          0   \n",
            "1820        0          507        4.93         697         0.39          1   \n",
            "7844        0          768        5.34         692        81.33          4   \n",
            "\n",
            "      records  predicted_probability  will_default  \n",
            "8653        0               0.335840             0  \n",
            "3150        0               0.116394             0  \n",
            "3816        0               0.104483             0  \n",
            "8201        0               0.246665             0  \n",
            "3181        0               0.100995             0  \n",
            "...       ...                    ...           ...  \n",
            "3888        0               0.106089             0  \n",
            "7103        0               0.066476             0  \n",
            "8918        0               0.175926             0  \n",
            "1820        0               0.156039             0  \n",
            "7844        0               0.275066             0  \n",
            "\n",
            "[2855 rows x 9 columns]\n"
          ]
        }
      ],
      "source": [
        "'''\n",
        "I have added the 'will_default' column to the DataFrame,\n",
        "indicating whether the predicted probability of default is greater than 0.5.\n",
        "\n",
        "'''\n",
        "# test for 'predicted_probability > 0.5, if yes assign will_default to 1, otherwise to 0\n",
        "df_test['will_default'] = np.where(df_test['predicted_probability']>0.5, 1, 0)\n",
        "df_test.head(6)\n",
        "print(df_test)"
      ]
    },
    {
      "cell_type": "markdown",
      "metadata": {
        "id": "qdUdta5j1pHO"
      },
      "source": [
        "### **Evaluate Model**"
      ]
    },
    {
      "cell_type": "code",
      "execution_count": null,
      "metadata": {
        "colab": {
          "base_uri": "https://localhost:8080/",
          "height": 466
        },
        "id": "_aG5Z8nCfxc5",
        "outputId": "7c12dfaa-f5f6-4dee-9a56-aa51b406e8d6"
      },
      "outputs": [
        {
          "output_type": "stream",
          "name": "stdout",
          "text": [
            "Accuracy:0.8399299474605955\n"
          ]
        },
        {
          "output_type": "display_data",
          "data": {
            "text/plain": [
              "<Figure size 640x480 with 2 Axes>"
            ],
            "image/png": "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\n"
          },
          "metadata": {}
        }
      ],
      "source": [
        "'''\n",
        "The accuracy of your logistic regression model on the test data is approximately 83.5%.\n",
        "'''\n",
        "# Evaluation Metrics\n",
        "# print confusion matrix with labels\n",
        "\n",
        "ConfusionMatrixDisplay.from_predictions(df_test['default'], df_test['will_default'], display_labels = ['No Default', 'Default'])\n",
        "# print accuracy\n",
        "print('Accuracy:'+str(accuracy_score(df_test['default'], df_test['will_default'])))"
      ]
    },
    {
      "cell_type": "code",
      "execution_count": null,
      "metadata": {
        "colab": {
          "base_uri": "https://localhost:8080/"
        },
        "id": "5MJkPOVCqM2-",
        "outputId": "380cff7f-3a93-431a-d532-b500ef05013e"
      },
      "outputs": [
        {
          "output_type": "stream",
          "name": "stdout",
          "text": [
            "Profit at Threshold of 0.5 = $167000\n"
          ]
        }
      ],
      "source": [
        "'''\n",
        "\n",
        "The profit at the threshold of 0.5 for the given confusion matrix is calculated based on the following formula:\n",
        "\n",
        "Profit = (True Negatives × Profit per True Negative) − (False Positives × Loss per False Positive)\n",
        "\n",
        "Given your specific profit and loss values of $1000 for a True Negative and -$5000 for a False Positive,\n",
        "the profit at a threshold of 0.5 is calculated.\n",
        "\n",
        "Profit at Threshold of 0.5 = $67000\n",
        "'''\n",
        "\n",
        "cm = confusion_matrix(df_test['default'], df_test['will_default'])\n",
        "cm_profit = 1000*cm[0,0]-5000*cm[1,0]\n",
        "print('Profit at Threshold of 0.5 = $'+str(cm_profit))"
      ]
    },
    {
      "cell_type": "code",
      "execution_count": null,
      "metadata": {
        "colab": {
          "base_uri": "https://localhost:8080/"
        },
        "id": "Hfri4insr46v",
        "outputId": "bb67ee35-4be6-4f2b-fa02-16e0d1e32b1e"
      },
      "outputs": [
        {
          "output_type": "stream",
          "name": "stdout",
          "text": [
            "Profit at Threshold of 1.0 = $149000\n"
          ]
        }
      ],
      "source": [
        "'''\n",
        "\n",
        "The predicted probabilities from logistic regression typically range from 0 to 1.\n",
        "Setting a threshold greater than 1.0 may not be meaningful. The usual practice is to choose a threshold between 0 and 1.\n",
        "\n",
        "If you're interested in optimizing the threshold for a specific profit or cost function,\n",
        "you might want to consider using a threshold that maximizes your specific objective. You can iterate over different thresholds\n",
        " and evaluate the corresponding profits to find the optimal one for your case.\n",
        "\n",
        "Profit at Threshold of 1.0 = $41000\n",
        "\n",
        "'''\n",
        "preds = est.predict(df_test)\n",
        "df_test['predicted_probability'] = preds\n",
        "df_test['will_default'] = np.where(df_test['predicted_probability']>1.0, 1, 0)\n",
        "cm = confusion_matrix(df_test['default'], df_test['will_default'])\n",
        "cm_profit = 1000*cm[0,0]-5000*cm[1,0]\n",
        "print('Profit at Threshold of 1.0 = $'+str(cm_profit))"
      ]
    },
    {
      "cell_type": "code",
      "execution_count": null,
      "metadata": {
        "id": "l4LwTJbsxnw7"
      },
      "outputs": [],
      "source": [
        "import numpy as np\n",
        "import pandas as pd\n",
        "import matplotlib.pyplot as plt\n",
        "import tensorflow as tf\n",
        "from tensorflow.keras.models import Sequential\n",
        "from tensorflow.keras.layers import Dense, LSTM, Dropout\n",
        "from sklearn.preprocessing import MinMaxScaler\n",
        "from sklearn.metrics import mean_squared_error"
      ]
    },
    {
      "cell_type": "code",
      "execution_count": null,
      "metadata": {
        "id": "dOxHRwewy3Wk"
      },
      "outputs": [],
      "source": [
        "!pip install tensorflow"
      ]
    },
    {
      "cell_type": "code",
      "execution_count": null,
      "metadata": {
        "id": "PPReuVGhy9zo"
      },
      "outputs": [],
      "source": [
        "TIME_STEPS = 40 # Number of previous days to use as input features\n",
        "TEST_SIZE = 0.2 # Fraction of data to use as test set\n",
        "THRESHOLD = 0.05 # Threshold for buy/sell/hold strategy"
      ]
    },
    {
      "cell_type": "code",
      "execution_count": null,
      "metadata": {
        "colab": {
          "base_uri": "https://localhost:8080/",
          "height": 362
        },
        "id": "8vlmzJu0zHVx",
        "outputId": "18f02874-3a51-4c14-fe4d-b033e5c98324"
      },
      "outputs": [
        {
          "output_type": "error",
          "ename": "OSError",
          "evalue": "[Errno 107] Transport endpoint is not connected: 'bubba/MyDrive/Colab Notebooks/train.csv'",
          "traceback": [
            "\u001b[0;31m---------------------------------------------------------------------------\u001b[0m",
            "\u001b[0;31mOSError\u001b[0m                                   Traceback (most recent call last)",
            "\u001b[0;32m<ipython-input-30-bf4c1bd70563>\u001b[0m in \u001b[0;36m<cell line: 2>\u001b[0;34m()\u001b[0m\n\u001b[1;32m      1\u001b[0m \u001b[0mfile_path\u001b[0m\u001b[0;34m=\u001b[0m\u001b[0;34mr'bubba/MyDrive/Colab Notebooks/train.csv'\u001b[0m\u001b[0;34m\u001b[0m\u001b[0;34m\u001b[0m\u001b[0m\n\u001b[0;32m----> 2\u001b[0;31m \u001b[0mdata\u001b[0m \u001b[0;34m=\u001b[0m \u001b[0mpd\u001b[0m\u001b[0;34m.\u001b[0m\u001b[0mread_csv\u001b[0m\u001b[0;34m(\u001b[0m\u001b[0mfile_path\u001b[0m\u001b[0;34m)\u001b[0m\u001b[0;34m\u001b[0m\u001b[0;34m\u001b[0m\u001b[0m\n\u001b[0m\u001b[1;32m      3\u001b[0m \u001b[0mdata\u001b[0m\u001b[0;34m.\u001b[0m\u001b[0mhead\u001b[0m\u001b[0;34m(\u001b[0m\u001b[0;34m)\u001b[0m\u001b[0;34m\u001b[0m\u001b[0;34m\u001b[0m\u001b[0m\n",
            "\u001b[0;32m/usr/local/lib/python3.10/dist-packages/pandas/io/parsers/readers.py\u001b[0m in \u001b[0;36mread_csv\u001b[0;34m(filepath_or_buffer, sep, delimiter, header, names, index_col, usecols, dtype, engine, converters, true_values, false_values, skipinitialspace, skiprows, skipfooter, nrows, na_values, keep_default_na, na_filter, verbose, skip_blank_lines, parse_dates, infer_datetime_format, keep_date_col, date_parser, date_format, dayfirst, cache_dates, iterator, chunksize, compression, thousands, decimal, lineterminator, quotechar, quoting, doublequote, escapechar, comment, encoding, encoding_errors, dialect, on_bad_lines, delim_whitespace, low_memory, memory_map, float_precision, storage_options, dtype_backend)\u001b[0m\n\u001b[1;32m    946\u001b[0m     \u001b[0mkwds\u001b[0m\u001b[0;34m.\u001b[0m\u001b[0mupdate\u001b[0m\u001b[0;34m(\u001b[0m\u001b[0mkwds_defaults\u001b[0m\u001b[0;34m)\u001b[0m\u001b[0;34m\u001b[0m\u001b[0;34m\u001b[0m\u001b[0m\n\u001b[1;32m    947\u001b[0m \u001b[0;34m\u001b[0m\u001b[0m\n\u001b[0;32m--> 948\u001b[0;31m     \u001b[0;32mreturn\u001b[0m \u001b[0m_read\u001b[0m\u001b[0;34m(\u001b[0m\u001b[0mfilepath_or_buffer\u001b[0m\u001b[0;34m,\u001b[0m \u001b[0mkwds\u001b[0m\u001b[0;34m)\u001b[0m\u001b[0;34m\u001b[0m\u001b[0;34m\u001b[0m\u001b[0m\n\u001b[0m\u001b[1;32m    949\u001b[0m \u001b[0;34m\u001b[0m\u001b[0m\n\u001b[1;32m    950\u001b[0m \u001b[0;34m\u001b[0m\u001b[0m\n",
            "\u001b[0;32m/usr/local/lib/python3.10/dist-packages/pandas/io/parsers/readers.py\u001b[0m in \u001b[0;36m_read\u001b[0;34m(filepath_or_buffer, kwds)\u001b[0m\n\u001b[1;32m    609\u001b[0m \u001b[0;34m\u001b[0m\u001b[0m\n\u001b[1;32m    610\u001b[0m     \u001b[0;31m# Create the parser.\u001b[0m\u001b[0;34m\u001b[0m\u001b[0;34m\u001b[0m\u001b[0m\n\u001b[0;32m--> 611\u001b[0;31m     \u001b[0mparser\u001b[0m \u001b[0;34m=\u001b[0m \u001b[0mTextFileReader\u001b[0m\u001b[0;34m(\u001b[0m\u001b[0mfilepath_or_buffer\u001b[0m\u001b[0;34m,\u001b[0m \u001b[0;34m**\u001b[0m\u001b[0mkwds\u001b[0m\u001b[0;34m)\u001b[0m\u001b[0;34m\u001b[0m\u001b[0;34m\u001b[0m\u001b[0m\n\u001b[0m\u001b[1;32m    612\u001b[0m \u001b[0;34m\u001b[0m\u001b[0m\n\u001b[1;32m    613\u001b[0m     \u001b[0;32mif\u001b[0m \u001b[0mchunksize\u001b[0m \u001b[0;32mor\u001b[0m \u001b[0miterator\u001b[0m\u001b[0;34m:\u001b[0m\u001b[0;34m\u001b[0m\u001b[0;34m\u001b[0m\u001b[0m\n",
            "\u001b[0;32m/usr/local/lib/python3.10/dist-packages/pandas/io/parsers/readers.py\u001b[0m in \u001b[0;36m__init__\u001b[0;34m(self, f, engine, **kwds)\u001b[0m\n\u001b[1;32m   1446\u001b[0m \u001b[0;34m\u001b[0m\u001b[0m\n\u001b[1;32m   1447\u001b[0m         \u001b[0mself\u001b[0m\u001b[0;34m.\u001b[0m\u001b[0mhandles\u001b[0m\u001b[0;34m:\u001b[0m \u001b[0mIOHandles\u001b[0m \u001b[0;34m|\u001b[0m \u001b[0;32mNone\u001b[0m \u001b[0;34m=\u001b[0m \u001b[0;32mNone\u001b[0m\u001b[0;34m\u001b[0m\u001b[0;34m\u001b[0m\u001b[0m\n\u001b[0;32m-> 1448\u001b[0;31m         \u001b[0mself\u001b[0m\u001b[0;34m.\u001b[0m\u001b[0m_engine\u001b[0m \u001b[0;34m=\u001b[0m \u001b[0mself\u001b[0m\u001b[0;34m.\u001b[0m\u001b[0m_make_engine\u001b[0m\u001b[0;34m(\u001b[0m\u001b[0mf\u001b[0m\u001b[0;34m,\u001b[0m \u001b[0mself\u001b[0m\u001b[0;34m.\u001b[0m\u001b[0mengine\u001b[0m\u001b[0;34m)\u001b[0m\u001b[0;34m\u001b[0m\u001b[0;34m\u001b[0m\u001b[0m\n\u001b[0m\u001b[1;32m   1449\u001b[0m \u001b[0;34m\u001b[0m\u001b[0m\n\u001b[1;32m   1450\u001b[0m     \u001b[0;32mdef\u001b[0m \u001b[0mclose\u001b[0m\u001b[0;34m(\u001b[0m\u001b[0mself\u001b[0m\u001b[0;34m)\u001b[0m \u001b[0;34m->\u001b[0m \u001b[0;32mNone\u001b[0m\u001b[0;34m:\u001b[0m\u001b[0;34m\u001b[0m\u001b[0;34m\u001b[0m\u001b[0m\n",
            "\u001b[0;32m/usr/local/lib/python3.10/dist-packages/pandas/io/parsers/readers.py\u001b[0m in \u001b[0;36m_make_engine\u001b[0;34m(self, f, engine)\u001b[0m\n\u001b[1;32m   1703\u001b[0m                 \u001b[0;32mif\u001b[0m \u001b[0;34m\"b\"\u001b[0m \u001b[0;32mnot\u001b[0m \u001b[0;32min\u001b[0m \u001b[0mmode\u001b[0m\u001b[0;34m:\u001b[0m\u001b[0;34m\u001b[0m\u001b[0;34m\u001b[0m\u001b[0m\n\u001b[1;32m   1704\u001b[0m                     \u001b[0mmode\u001b[0m \u001b[0;34m+=\u001b[0m \u001b[0;34m\"b\"\u001b[0m\u001b[0;34m\u001b[0m\u001b[0;34m\u001b[0m\u001b[0m\n\u001b[0;32m-> 1705\u001b[0;31m             self.handles = get_handle(\n\u001b[0m\u001b[1;32m   1706\u001b[0m                 \u001b[0mf\u001b[0m\u001b[0;34m,\u001b[0m\u001b[0;34m\u001b[0m\u001b[0;34m\u001b[0m\u001b[0m\n\u001b[1;32m   1707\u001b[0m                 \u001b[0mmode\u001b[0m\u001b[0;34m,\u001b[0m\u001b[0;34m\u001b[0m\u001b[0;34m\u001b[0m\u001b[0m\n",
            "\u001b[0;32m/usr/local/lib/python3.10/dist-packages/pandas/io/common.py\u001b[0m in \u001b[0;36mget_handle\u001b[0;34m(path_or_buf, mode, encoding, compression, memory_map, is_text, errors, storage_options)\u001b[0m\n\u001b[1;32m    861\u001b[0m         \u001b[0;32mif\u001b[0m \u001b[0mioargs\u001b[0m\u001b[0;34m.\u001b[0m\u001b[0mencoding\u001b[0m \u001b[0;32mand\u001b[0m \u001b[0;34m\"b\"\u001b[0m \u001b[0;32mnot\u001b[0m \u001b[0;32min\u001b[0m \u001b[0mioargs\u001b[0m\u001b[0;34m.\u001b[0m\u001b[0mmode\u001b[0m\u001b[0;34m:\u001b[0m\u001b[0;34m\u001b[0m\u001b[0;34m\u001b[0m\u001b[0m\n\u001b[1;32m    862\u001b[0m             \u001b[0;31m# Encoding\u001b[0m\u001b[0;34m\u001b[0m\u001b[0;34m\u001b[0m\u001b[0m\n\u001b[0;32m--> 863\u001b[0;31m             handle = open(\n\u001b[0m\u001b[1;32m    864\u001b[0m                 \u001b[0mhandle\u001b[0m\u001b[0;34m,\u001b[0m\u001b[0;34m\u001b[0m\u001b[0;34m\u001b[0m\u001b[0m\n\u001b[1;32m    865\u001b[0m                 \u001b[0mioargs\u001b[0m\u001b[0;34m.\u001b[0m\u001b[0mmode\u001b[0m\u001b[0;34m,\u001b[0m\u001b[0;34m\u001b[0m\u001b[0;34m\u001b[0m\u001b[0m\n",
            "\u001b[0;31mOSError\u001b[0m: [Errno 107] Transport endpoint is not connected: 'bubba/MyDrive/Colab Notebooks/train.csv'"
          ]
        }
      ],
      "source": [
        "file_path=r'bubba/MyDrive/Colab Notebooks/train.csv'\n",
        "data = pd.read_csv(file_path)\n",
        "data.head()"
      ]
    },
    {
      "cell_type": "code",
      "execution_count": null,
      "metadata": {
        "id": "p7C6H_L8zfnI",
        "colab": {
          "base_uri": "https://localhost:8080/",
          "height": 931
        },
        "outputId": "cff0a086-33d1-4235-b1d6-5f2eddb40c2b"
      },
      "outputs": [
        {
          "output_type": "error",
          "ename": "NameError",
          "evalue": "name 'data' is not defined",
          "traceback": [
            "\u001b[0;31m---------------------------------------------------------------------------\u001b[0m",
            "\u001b[0;31mNameError\u001b[0m                                 Traceback (most recent call last)",
            "\u001b[0;32m<ipython-input-28-b2e486ba0d5e>\u001b[0m in \u001b[0;36m<cell line: 3>\u001b[0;34m()\u001b[0m\n\u001b[1;32m      1\u001b[0m \u001b[0mplt\u001b[0m\u001b[0;34m.\u001b[0m\u001b[0mfigure\u001b[0m\u001b[0;34m(\u001b[0m\u001b[0mfigsize\u001b[0m\u001b[0;34m=\u001b[0m\u001b[0;34m(\u001b[0m\u001b[0;36m16\u001b[0m\u001b[0;34m,\u001b[0m\u001b[0;36m8\u001b[0m\u001b[0;34m)\u001b[0m\u001b[0;34m)\u001b[0m\u001b[0;34m\u001b[0m\u001b[0;34m\u001b[0m\u001b[0m\n\u001b[1;32m      2\u001b[0m \u001b[0mplt\u001b[0m\u001b[0;34m.\u001b[0m\u001b[0mtitle\u001b[0m\u001b[0;34m(\u001b[0m\u001b[0;34m'Close Price History'\u001b[0m\u001b[0;34m)\u001b[0m\u001b[0;34m\u001b[0m\u001b[0;34m\u001b[0m\u001b[0m\n\u001b[0;32m----> 3\u001b[0;31m \u001b[0mplt\u001b[0m\u001b[0;34m.\u001b[0m\u001b[0mplot\u001b[0m\u001b[0;34m(\u001b[0m\u001b[0mdata\u001b[0m\u001b[0;34m[\u001b[0m\u001b[0;34m'Close'\u001b[0m\u001b[0;34m]\u001b[0m\u001b[0;34m)\u001b[0m\u001b[0;34m\u001b[0m\u001b[0;34m\u001b[0m\u001b[0m\n\u001b[0m\u001b[1;32m      4\u001b[0m \u001b[0mplt\u001b[0m\u001b[0;34m.\u001b[0m\u001b[0mxlabel\u001b[0m\u001b[0;34m(\u001b[0m\u001b[0;34m'Date'\u001b[0m\u001b[0;34m,\u001b[0m \u001b[0mfontsize\u001b[0m\u001b[0;34m=\u001b[0m\u001b[0;36m18\u001b[0m\u001b[0;34m)\u001b[0m\u001b[0;34m\u001b[0m\u001b[0;34m\u001b[0m\u001b[0m\n\u001b[1;32m      5\u001b[0m \u001b[0mplt\u001b[0m\u001b[0;34m.\u001b[0m\u001b[0mylabel\u001b[0m\u001b[0;34m(\u001b[0m\u001b[0;34m'Close Price USD ($)'\u001b[0m\u001b[0;34m,\u001b[0m \u001b[0mfontsize\u001b[0m\u001b[0;34m=\u001b[0m\u001b[0;36m18\u001b[0m\u001b[0;34m)\u001b[0m\u001b[0;34m\u001b[0m\u001b[0;34m\u001b[0m\u001b[0m\n",
            "\u001b[0;31mNameError\u001b[0m: name 'data' is not defined"
          ]
        },
        {
          "output_type": "display_data",
          "data": {
            "text/plain": [
              "<Figure size 1600x800 with 1 Axes>"
            ],
            "image/png": "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\n"
          },
          "metadata": {}
        }
      ],
      "source": [
        "plt.figure(figsize=(16,8))\n",
        "plt.title('Close Price History')\n",
        "plt.plot(data['Close'])\n",
        "plt.xlabel('Date', fontsize=18)\n",
        "plt.ylabel('Close Price USD ($)', fontsize=18)\n",
        "plt.show()"
      ]
    },
    {
      "cell_type": "code",
      "execution_count": null,
      "metadata": {
        "id": "1VTbbXcEzSJw",
        "colab": {
          "base_uri": "https://localhost:8080/",
          "height": 193
        },
        "outputId": "6eac149c-182a-4c79-d0c0-3f45f7463c75"
      },
      "outputs": [
        {
          "output_type": "error",
          "ename": "NameError",
          "evalue": "name 'data' is not defined",
          "traceback": [
            "\u001b[0;31m---------------------------------------------------------------------------\u001b[0m",
            "\u001b[0;31mNameError\u001b[0m                                 Traceback (most recent call last)",
            "\u001b[0;32m<ipython-input-24-23f27672e6f8>\u001b[0m in \u001b[0;36m<cell line: 2>\u001b[0;34m()\u001b[0m\n\u001b[1;32m      1\u001b[0m \u001b[0;31m# Split the data\u001b[0m\u001b[0;34m\u001b[0m\u001b[0;34m\u001b[0m\u001b[0m\n\u001b[0;32m----> 2\u001b[0;31m \u001b[0mdata_train\u001b[0m\u001b[0;34m,\u001b[0m \u001b[0mdata_test\u001b[0m \u001b[0;34m=\u001b[0m \u001b[0mtrain_test_split\u001b[0m\u001b[0;34m(\u001b[0m\u001b[0mdata\u001b[0m\u001b[0;34m,\u001b[0m \u001b[0mtest_size\u001b[0m\u001b[0;34m=\u001b[0m\u001b[0mTEST_SIZE\u001b[0m\u001b[0;34m)\u001b[0m\u001b[0;34m\u001b[0m\u001b[0;34m\u001b[0m\u001b[0m\n\u001b[0m",
            "\u001b[0;31mNameError\u001b[0m: name 'data' is not defined"
          ]
        }
      ],
      "source": [
        "# Split the data\n",
        "data_train, data_test = train_test_split(data, test_size=TEST_SIZE)"
      ]
    },
    {
      "cell_type": "code",
      "execution_count": null,
      "metadata": {
        "id": "baE1dorl4pJi"
      },
      "outputs": [],
      "source": [
        "#print(data_test)"
      ]
    },
    {
      "cell_type": "code",
      "execution_count": null,
      "metadata": {
        "id": "WHKIeDC_0SDe"
      },
      "outputs": [],
      "source": [
        "scaler = MinMaxScaler()\n",
        "data_train_scaled = scaler.fit_transform(data_train[['Close']])\n",
        "data_test_scaled = scaler.transform(data_test[['Close']])"
      ]
    },
    {
      "cell_type": "code",
      "execution_count": null,
      "metadata": {
        "id": "t1TfXY7J4v6G"
      },
      "outputs": [],
      "source": [
        "#print(data_test_scaled)"
      ]
    },
    {
      "cell_type": "code",
      "execution_count": null,
      "metadata": {
        "id": "zBr1LOc70cBa"
      },
      "outputs": [],
      "source": [
        "# Create X and y for train and test sets\n",
        "X_train = []\n",
        "y_train = []\n",
        "X_test = []\n",
        "y_test = []\n",
        "\n",
        "for i in range(TIME_STEPS, data_train_scaled.shape[0]):\n",
        "  X_train.append(data_train_scaled[i-TIME_STEPS:i, 0])\n",
        "  y_train.append(data_train_scaled[i, 0])\n",
        "\n",
        "for i in range(TIME_STEPS, data_test_scaled.shape[0]):\n",
        "  X_test.append(data_test_scaled[i-TIME_STEPS:i, 0])\n",
        "  y_test.append(data_test_scaled[i, 0])\n",
        "\n",
        "X_train, y_train = np.array(X_train), np.array(y_train)\n",
        "X_test, y_test = np.array(X_test), np.array(y_test)"
      ]
    },
    {
      "cell_type": "code",
      "execution_count": null,
      "metadata": {
        "id": "unl_F2415fwH"
      },
      "outputs": [],
      "source": [
        "\n"
      ]
    },
    {
      "cell_type": "code",
      "execution_count": null,
      "metadata": {
        "id": "I5zDfV571M1A"
      },
      "outputs": [],
      "source": [
        "# Reshape the data to 3D for LSTM input\n",
        "X_train = np.reshape(X_train, (X_train.shape[0], X_train.shape[1], 1))\n",
        "X_test = np.reshape(X_test,  (X_test.shape[0],  X_test.shape[1], 1))\n",
        "#X_test =  np.reshape(X_test, (X_test.shape +(1,)))"
      ]
    },
    {
      "cell_type": "code",
      "execution_count": null,
      "metadata": {
        "id": "LwN1tXv54UrY"
      },
      "outputs": [],
      "source": [
        "#print(X_train)"
      ]
    },
    {
      "cell_type": "code",
      "execution_count": null,
      "metadata": {
        "id": "uUiOEzfX120L"
      },
      "outputs": [],
      "source": [
        "#build LSTM model\n",
        "model = Sequential()\n",
        "model.add(LSTM(units=50, return_sequences=True, input_shape=(X_train.shape[1], 1)))\n",
        "model.add(Dropout(0.2))\n",
        "model.add(LSTM(units=50, return_sequences=True))\n",
        "model.add(Dropout(0.2))\n",
        "model.add(LSTM(units=50))\n",
        "model.add(Dropout(0.2))\n",
        "model.add(Dense(units=1))"
      ]
    },
    {
      "cell_type": "code",
      "execution_count": null,
      "metadata": {
        "id": "_KLSuVas3LDA"
      },
      "outputs": [],
      "source": [
        "# Compile and fit the model\n",
        "model.compile(optimizer='adam', loss='mean_squared_error')\n",
        "model.fit(X_train, y_train, epochs=200, batch_size=64)"
      ]
    },
    {
      "cell_type": "code",
      "execution_count": null,
      "metadata": {
        "id": "nvv_t8Ca3rTL"
      },
      "outputs": [],
      "source": [
        "# predict the close price using model\n",
        "y_pred_scaled = model.predict(X_test)\n",
        "y_pred = scaler.inverse_transform(y_pred_scaled)\n",
        "y_true = scaler.inverse_transform(y_test.reshape(-1, 1))"
      ]
    },
    {
      "cell_type": "code",
      "execution_count": null,
      "metadata": {
        "id": "G4_YHxxJ7hom"
      },
      "outputs": [],
      "source": [
        "# Plot the actual and predicted close prices\n",
        "plt.figure(figsize=(16,8))\n",
        "plt.title('Actual vs Predicted Close Prices')\n",
        "plt.plot(y_true, label='Actual')\n",
        "plt.plot(y_pred, label='Predicted')\n",
        "plt.xlabel('Days', fontsize=18)\n",
        "plt.ylabel('Close Price USD ($)', fontsize=18)\n",
        "plt.legend()\n",
        "plt.show()"
      ]
    },
    {
      "cell_type": "code",
      "execution_count": null,
      "metadata": {
        "id": "Et3g0Mrl73pC"
      },
      "outputs": [],
      "source": [
        "# calculate the SMAPE metric\n",
        "smape = np.mean(np.abs(y_pred - y_true) / (np.abs(y_pred) + np.abs(y_true)))\n",
        "print(f'SMAPE: {smape}')"
      ]
    },
    {
      "cell_type": "code",
      "execution_count": null,
      "metadata": {
        "id": "JCmAOQNt8C6O"
      },
      "outputs": [],
      "source": [
        "# Suggest a strategy based on the predictions and the threshold\n",
        "strategy = []\n",
        "for i in range(len(y_pred)):\n",
        "  if y_pred[i] > y_true[i] * (1 + THRESHOLD):\n",
        "    strategy.append('Buy')\n",
        "  elif y_pred[i] < y_true[i] * (1 - THRESHOLD):\n",
        "    strategy.append('Sell')\n",
        "  else:\n",
        "    strategy.append('Hold')"
      ]
    },
    {
      "cell_type": "code",
      "execution_count": null,
      "metadata": {
        "id": "oQq65wv_8a8b"
      },
      "outputs": [],
      "source": [
        "# Evaluate the strategy using accuracy metric\n",
        "from sklearn.metrics import accuracy_score\n",
        "accuracy = accuracy_score(data_test['Strategy'][TIME_STEPS:], strategy) * 100\n",
        "print(f'Accuracy: {accuracy}%')"
      ]
    },
    {
      "cell_type": "code",
      "execution_count": null,
      "metadata": {
        "id": "Ndba0fCt9snT"
      },
      "outputs": [],
      "source": [
        "# Create a dataframe with the date, close price, prediction, and strategy\n",
        "result = pd.DataFrame()\n",
        "result['Date'] = data_test['Date'][TIME_STEPS:]\n",
        "result['Close'] = y_true\n",
        "result['Prediction'] = y_pred\n",
        "result['Strategy'] = strategy\n",
        "result.head()"
      ]
    },
    {
      "cell_type": "code",
      "execution_count": null,
      "metadata": {
        "id": "cZmfsU9tBTHl"
      },
      "outputs": [],
      "source": [
        "for i in range(2, 5):\n",
        "  print(i)"
      ]
    }
  ],
  "metadata": {
    "colab": {
      "provenance": []
    },
    "kernelspec": {
      "display_name": "Python 3",
      "name": "python3"
    },
    "language_info": {
      "name": "python"
    }
  },
  "nbformat": 4,
  "nbformat_minor": 0
}
